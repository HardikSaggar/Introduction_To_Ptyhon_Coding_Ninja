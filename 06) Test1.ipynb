{
 "cells": [
  {
   "cell_type": "markdown",
   "id": "38fb66a0",
   "metadata": {},
   "source": [
    "## Test"
   ]
  },
  {
   "cell_type": "markdown",
   "id": "82b1ee30",
   "metadata": {},
   "source": [
    "#### Number star pattern 1"
   ]
  },
  {
   "cell_type": "code",
   "execution_count": 2,
   "id": "a9e30dfc",
   "metadata": {},
   "outputs": [
    {
     "name": "stdout",
     "output_type": "stream",
     "text": [
      "5\n",
      "5432*\n",
      "543*1\n",
      "54*21\n",
      "5*321\n",
      "*4321\n"
     ]
    }
   ],
   "source": [
    "n = int(input())\n",
    "i = 1\n",
    "while i<=n:\n",
    "    j = n\n",
    "    while j>=1:\n",
    "        if i == j:\n",
    "            print('*',end='')\n",
    "        else:\n",
    "            print(j,end='')\n",
    "        j-=1\n",
    "    print()\n",
    "    i+=1"
   ]
  },
  {
   "cell_type": "markdown",
   "id": "5ee5876d",
   "metadata": {},
   "source": [
    "#### Zeros and Stars Pattern"
   ]
  },
  {
   "cell_type": "code",
   "execution_count": 5,
   "id": "91089346",
   "metadata": {
    "scrolled": true
   },
   "outputs": [
    {
     "name": "stdout",
     "output_type": "stream",
     "text": [
      "6\n",
      "*00000*00000*\n",
      "0*0000*0000*0\n",
      "00*000*000*00\n",
      "000*00*00*000\n",
      "0000*0*0*0000\n",
      "00000***00000\n"
     ]
    }
   ],
   "source": [
    "n=int(input())\n",
    "i=1  \n",
    "j=1  \n",
    "while i<=n: \n",
    "    j=1  \n",
    "    while j<=n:      \n",
    "        if i==j:  \n",
    "            print(\"*\", end='')  \n",
    "        else :  \n",
    "            print(\"0\", end='')  \n",
    "        j=j+1  \n",
    "    j=j-1;  \n",
    "    print(\"*\", end='')  \n",
    "    while j>=1:  \n",
    "        if i==j:  \n",
    "            print(\"*\", end='')  \n",
    "        else :  \n",
    "            print(\"0\", end='')  \n",
    "        j=j-1  \n",
    "    print(\"\");  \n",
    "    i=i+1 "
   ]
  },
  {
   "cell_type": "markdown",
   "id": "0c229873",
   "metadata": {},
   "source": [
    "#### Check Armstrong"
   ]
  },
  {
   "cell_type": "code",
   "execution_count": 11,
   "id": "13185837",
   "metadata": {},
   "outputs": [
    {
     "name": "stdout",
     "output_type": "stream",
     "text": [
      "1634\n",
      "true\n"
     ]
    }
   ],
   "source": [
    "n = int(input())\n",
    "digits = 0\n",
    "order = len(str(n))\n",
    "copy = n\n",
    "sum = 0\n",
    "while n>0:\n",
    "    digits = n%10\n",
    "    sum += digits**order\n",
    "    n = n//10\n",
    "if copy == sum:\n",
    "    print('true')\n",
    "else:\n",
    "    print(\"false\")\n",
    "    "
   ]
  }
 ],
 "metadata": {
  "kernelspec": {
   "display_name": "Python 3 (ipykernel)",
   "language": "python",
   "name": "python3"
  },
  "language_info": {
   "codemirror_mode": {
    "name": "ipython",
    "version": 3
   },
   "file_extension": ".py",
   "mimetype": "text/x-python",
   "name": "python",
   "nbconvert_exporter": "python",
   "pygments_lexer": "ipython3",
   "version": "3.9.12"
  }
 },
 "nbformat": 4,
 "nbformat_minor": 5
}
