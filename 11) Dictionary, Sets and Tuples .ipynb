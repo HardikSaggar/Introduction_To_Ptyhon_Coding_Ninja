{
 "cells": [
  {
   "cell_type": "markdown",
   "id": "8cea6d1d",
   "metadata": {},
   "source": [
    "### Tuples "
   ]
  },
  {
   "cell_type": "code",
   "execution_count": 11,
   "id": "4ee7d348",
   "metadata": {},
   "outputs": [],
   "source": [
    "a = 1,2,3,4\n",
    "b =(100,200)\n"
   ]
  },
  {
   "cell_type": "code",
   "execution_count": 12,
   "id": "3d1ac3db",
   "metadata": {
    "scrolled": true
   },
   "outputs": [
    {
     "name": "stdout",
     "output_type": "stream",
     "text": [
      "(1, 2, 3, 4)\n",
      "(100, 200)\n"
     ]
    }
   ],
   "source": [
    "print(a)\n",
    "print(b)"
   ]
  },
  {
   "cell_type": "code",
   "execution_count": 13,
   "id": "29a52881",
   "metadata": {
    "scrolled": false
   },
   "outputs": [
    {
     "name": "stdout",
     "output_type": "stream",
     "text": [
      "<class 'tuple'>\n",
      "<class 'tuple'>\n"
     ]
    }
   ],
   "source": [
    "print(type(a))\n",
    "print(type(b))\n"
   ]
  },
  {
   "cell_type": "code",
   "execution_count": 16,
   "id": "fe634e8c",
   "metadata": {
    "scrolled": true
   },
   "outputs": [
    {
     "name": "stdout",
     "output_type": "stream",
     "text": [
      "200\n",
      "1\n"
     ]
    }
   ],
   "source": [
    "print(b[-1])\n",
    "print(a[0])"
   ]
  },
  {
   "cell_type": "code",
   "execution_count": 17,
   "id": "e2ccec8d",
   "metadata": {},
   "outputs": [
    {
     "ename": "TypeError",
     "evalue": "'tuple' object does not support item assignment",
     "output_type": "error",
     "traceback": [
      "\u001b[1;31m---------------------------------------------------------------------------\u001b[0m",
      "\u001b[1;31mTypeError\u001b[0m                                 Traceback (most recent call last)",
      "Input \u001b[1;32mIn [17]\u001b[0m, in \u001b[0;36m<cell line: 1>\u001b[1;34m()\u001b[0m\n\u001b[1;32m----> 1\u001b[0m b[\u001b[38;5;241m-\u001b[39m\u001b[38;5;241m1\u001b[39m]\u001b[38;5;241m=\u001b[39m \u001b[38;5;241m1000\u001b[39m\n\u001b[0;32m      2\u001b[0m \u001b[38;5;28mprint\u001b[39m(b)\n",
      "\u001b[1;31mTypeError\u001b[0m: 'tuple' object does not support item assignment"
     ]
    }
   ],
   "source": [
    "b[-1]= 1000\n",
    "print(b)"
   ]
  },
  {
   "cell_type": "code",
   "execution_count": 18,
   "id": "0e6d0a87",
   "metadata": {
    "scrolled": true
   },
   "outputs": [
    {
     "ename": "TypeError",
     "evalue": "'tuple' object does not support item assignment",
     "output_type": "error",
     "traceback": [
      "\u001b[1;31m---------------------------------------------------------------------------\u001b[0m",
      "\u001b[1;31mTypeError\u001b[0m                                 Traceback (most recent call last)",
      "Input \u001b[1;32mIn [18]\u001b[0m, in \u001b[0;36m<cell line: 1>\u001b[1;34m()\u001b[0m\n\u001b[1;32m----> 1\u001b[0m b[\u001b[38;5;241m100\u001b[39m]\u001b[38;5;241m=\u001b[39m\u001b[38;5;241m1000\u001b[39m\n\u001b[0;32m      2\u001b[0m \u001b[38;5;28mprint\u001b[39m(b)\n",
      "\u001b[1;31mTypeError\u001b[0m: 'tuple' object does not support item assignment"
     ]
    }
   ],
   "source": [
    "b[100]=1000\n",
    "print(b)"
   ]
  },
  {
   "cell_type": "code",
   "execution_count": 20,
   "id": "8797cc56",
   "metadata": {},
   "outputs": [
    {
     "name": "stdout",
     "output_type": "stream",
     "text": [
      "(1, 2, 4, 5)\n",
      "((1, 2), (4, 5))\n"
     ]
    }
   ],
   "source": [
    "a = 1,2\n",
    "b = (4,5)\n",
    "c = a+b #Concatination (in single tuple)\n",
    "d = (a,b) #Tuple mof tuple\n",
    "\n"
   ]
  },
  {
   "cell_type": "code",
   "execution_count": 21,
   "id": "2d4ed808",
   "metadata": {},
   "outputs": [
    {
     "ename": "TypeError",
     "evalue": "sum() takes 2 positional arguments but 4 were given",
     "output_type": "error",
     "traceback": [
      "\u001b[1;31m---------------------------------------------------------------------------\u001b[0m",
      "\u001b[1;31mTypeError\u001b[0m                                 Traceback (most recent call last)",
      "Input \u001b[1;32mIn [21]\u001b[0m, in \u001b[0;36m<cell line: 4>\u001b[1;34m()\u001b[0m\n\u001b[0;32m      1\u001b[0m \u001b[38;5;28;01mdef\u001b[39;00m \u001b[38;5;21msum\u001b[39m(a,b):\n\u001b[0;32m      2\u001b[0m     \u001b[38;5;28;01mreturn\u001b[39;00m a\u001b[38;5;241m+\u001b[39mb\n\u001b[1;32m----> 4\u001b[0m \u001b[38;5;28mprint\u001b[39m(\u001b[38;5;28;43msum\u001b[39;49m\u001b[43m(\u001b[49m\u001b[38;5;241;43m1\u001b[39;49m\u001b[43m,\u001b[49m\u001b[38;5;241;43m2\u001b[39;49m\u001b[43m,\u001b[49m\u001b[38;5;241;43m3\u001b[39;49m\u001b[43m,\u001b[49m\u001b[38;5;241;43m4\u001b[39;49m\u001b[43m)\u001b[49m)\n",
      "\u001b[1;31mTypeError\u001b[0m: sum() takes 2 positional arguments but 4 were given"
     ]
    }
   ],
   "source": [
    "def sum(a,b):\n",
    "    return a+b\n",
    "\n",
    "print(sum(1,2,3,4))"
   ]
  },
  {
   "cell_type": "markdown",
   "id": "98b6e7ab",
   "metadata": {},
   "source": [
    "#### *More"
   ]
  },
  {
   "cell_type": "code",
   "execution_count": 23,
   "id": "4c42d68a",
   "metadata": {},
   "outputs": [
    {
     "name": "stdout",
     "output_type": "stream",
     "text": [
      "10\n"
     ]
    }
   ],
   "source": [
    "def sum(a,b,*more):\n",
    "    ans = a+b\n",
    "    for i in more:\n",
    "        ans+=i\n",
    "    return ans\n",
    "\n",
    "print(sum(1,2,3,4))"
   ]
  },
  {
   "cell_type": "code",
   "execution_count": null,
   "id": "78086af1",
   "metadata": {},
   "outputs": [],
   "source": [
    "def sum_diff(a,b):\n",
    "    return a+b,a-b #Default return of int is in Tuple\n",
    "\n",
    "print(sum_diff(99,1))"
   ]
  },
  {
   "cell_type": "code",
   "execution_count": 24,
   "id": "a165afc8",
   "metadata": {},
   "outputs": [
    {
     "name": "stdout",
     "output_type": "stream",
     "text": [
      "(9, 24)\n"
     ]
    }
   ],
   "source": [
    "def sum_multiply(a,b,*more):\n",
    "    sum_value = a+b\n",
    "    m_value = a*b\n",
    "    for i in more:\n",
    "        sum_value += i\n",
    "        m_value*=i\n",
    "    return sum_value,m_value\n",
    "s_m = sum_multiply(2,3,4)\n",
    "print(s_m)"
   ]
  },
  {
   "cell_type": "markdown",
   "id": "59e33601",
   "metadata": {},
   "source": [
    "### Dictionary"
   ]
  },
  {
   "cell_type": "markdown",
   "id": "08a99c8a",
   "metadata": {},
   "source": [
    "#### Creating Dictionary "
   ]
  },
  {
   "cell_type": "markdown",
   "id": "7327f906",
   "metadata": {},
   "source": [
    "#### Method 1"
   ]
  },
  {
   "cell_type": "code",
   "execution_count": null,
   "id": "3b9562f9",
   "metadata": {},
   "outputs": [],
   "source": [
    "d = {\"the\":1,\"a\":5,1000:\"abs\"}"
   ]
  },
  {
   "cell_type": "code",
   "execution_count": 28,
   "id": "5441897a",
   "metadata": {},
   "outputs": [
    {
     "data": {
      "text/plain": [
       "3"
      ]
     },
     "execution_count": 28,
     "metadata": {},
     "output_type": "execute_result"
    }
   ],
   "source": [
    "len(d)"
   ]
  },
  {
   "cell_type": "code",
   "execution_count": 29,
   "id": "731230eb",
   "metadata": {},
   "outputs": [],
   "source": [
    "d = {\"the\":1,\"a\":5,1000:\"abs\",\"emp\":None} #empty key"
   ]
  },
  {
   "cell_type": "code",
   "execution_count": 30,
   "id": "5e5464a8",
   "metadata": {},
   "outputs": [
    {
     "data": {
      "text/plain": [
       "4"
      ]
     },
     "execution_count": 30,
     "metadata": {},
     "output_type": "execute_result"
    }
   ],
   "source": [
    "len(d)"
   ]
  },
  {
   "cell_type": "markdown",
   "id": "0149c5ef",
   "metadata": {},
   "source": [
    "#### method 2"
   ]
  },
  {
   "cell_type": "code",
   "execution_count": 31,
   "id": "823122cf",
   "metadata": {},
   "outputs": [],
   "source": [
    "d = dict([('one',1),(\"two\",2),(3,\"three\")])"
   ]
  },
  {
   "cell_type": "code",
   "execution_count": 32,
   "id": "327d5768",
   "metadata": {
    "scrolled": false
   },
   "outputs": [
    {
     "data": {
      "text/plain": [
       "{'one': 1, 'two': 2, 3: 'three'}"
      ]
     },
     "execution_count": 32,
     "metadata": {},
     "output_type": "execute_result"
    }
   ],
   "source": [
    "d"
   ]
  },
  {
   "cell_type": "code",
   "execution_count": 4,
   "id": "e7764229",
   "metadata": {},
   "outputs": [
    {
     "data": {
      "text/plain": [
       "{1: 2, 3: 4, 'list': [1, 23], 'dict': {1: 2}}"
      ]
     },
     "execution_count": 4,
     "metadata": {},
     "output_type": "execute_result"
    }
   ],
   "source": [
    "a={1:2,3:4,\"list\":[1,23],\"dict\":{1:2}}\n",
    "a"
   ]
  },
  {
   "cell_type": "code",
   "execution_count": 5,
   "id": "40cd1839",
   "metadata": {},
   "outputs": [
    {
     "data": {
      "text/plain": [
       "[1, 23]"
      ]
     },
     "execution_count": 5,
     "metadata": {},
     "output_type": "execute_result"
    }
   ],
   "source": [
    "a[\"list\"]"
   ]
  },
  {
   "cell_type": "code",
   "execution_count": 6,
   "id": "6e68fb8b",
   "metadata": {
    "scrolled": true
   },
   "outputs": [
    {
     "ename": "KeyError",
     "evalue": "'li'",
     "output_type": "error",
     "traceback": [
      "\u001b[1;31m---------------------------------------------------------------------------\u001b[0m",
      "\u001b[1;31mKeyError\u001b[0m                                  Traceback (most recent call last)",
      "Input \u001b[1;32mIn [6]\u001b[0m, in \u001b[0;36m<cell line: 1>\u001b[1;34m()\u001b[0m\n\u001b[1;32m----> 1\u001b[0m \u001b[43ma\u001b[49m\u001b[43m[\u001b[49m\u001b[38;5;124;43m\"\u001b[39;49m\u001b[38;5;124;43mli\u001b[39;49m\u001b[38;5;124;43m\"\u001b[39;49m\u001b[43m]\u001b[49m\n",
      "\u001b[1;31mKeyError\u001b[0m: 'li'"
     ]
    }
   ],
   "source": [
    "a[\"li\"]"
   ]
  },
  {
   "cell_type": "markdown",
   "id": "9bd5b66c",
   "metadata": {},
   "source": [
    "### Dictionary Function"
   ]
  },
  {
   "cell_type": "markdown",
   "id": "7816c429",
   "metadata": {},
   "source": [
    "#### Get Function"
   ]
  },
  {
   "cell_type": "code",
   "execution_count": 7,
   "id": "4ba1c3ab",
   "metadata": {},
   "outputs": [
    {
     "data": {
      "text/plain": [
       "0"
      ]
     },
     "execution_count": 7,
     "metadata": {},
     "output_type": "execute_result"
    }
   ],
   "source": [
    "a.get(\"li\",0)"
   ]
  },
  {
   "cell_type": "code",
   "execution_count": 8,
   "id": "eb505c3b",
   "metadata": {},
   "outputs": [
    {
     "name": "stdout",
     "output_type": "stream",
     "text": [
      "None\n"
     ]
    }
   ],
   "source": [
    "print(a.get(\"li\"))"
   ]
  },
  {
   "cell_type": "code",
   "execution_count": 9,
   "id": "8a57490c",
   "metadata": {},
   "outputs": [
    {
     "name": "stdout",
     "output_type": "stream",
     "text": [
      "0\n"
     ]
    }
   ],
   "source": [
    "print(a.get(\"li\",0))"
   ]
  },
  {
   "cell_type": "code",
   "execution_count": 11,
   "id": "08de30b4",
   "metadata": {},
   "outputs": [
    {
     "name": "stdout",
     "output_type": "stream",
     "text": [
      "{1: 2, 3: 4, 'list': [1, 23], 'dict': {1: 2}}\n"
     ]
    }
   ],
   "source": [
    "print(a)"
   ]
  },
  {
   "cell_type": "code",
   "execution_count": 13,
   "id": "0e4bc87c",
   "metadata": {},
   "outputs": [
    {
     "data": {
      "text/plain": [
       "dict_keys([1, 3, 'list', 'dict'])"
      ]
     },
     "execution_count": 13,
     "metadata": {},
     "output_type": "execute_result"
    }
   ],
   "source": [
    "a.keys()"
   ]
  },
  {
   "cell_type": "code",
   "execution_count": 14,
   "id": "802501d9",
   "metadata": {},
   "outputs": [
    {
     "data": {
      "text/plain": [
       "dict_values([2, 4, [1, 23], {1: 2}])"
      ]
     },
     "execution_count": 14,
     "metadata": {},
     "output_type": "execute_result"
    }
   ],
   "source": [
    "a.values()"
   ]
  },
  {
   "cell_type": "code",
   "execution_count": 15,
   "id": "03221d04",
   "metadata": {},
   "outputs": [
    {
     "data": {
      "text/plain": [
       "dict_items([(1, 2), (3, 4), ('list', [1, 23]), ('dict', {1: 2})])"
      ]
     },
     "execution_count": 15,
     "metadata": {},
     "output_type": "execute_result"
    }
   ],
   "source": [
    "a.items()"
   ]
  },
  {
   "cell_type": "code",
   "execution_count": 17,
   "id": "13c90bcd",
   "metadata": {},
   "outputs": [
    {
     "name": "stdout",
     "output_type": "stream",
     "text": [
      "1 2\n",
      "3 4\n",
      "list [1, 23]\n",
      "dict {1: 2}\n"
     ]
    }
   ],
   "source": [
    "for i in a:\n",
    "    print(i,a[i]) # 'i' is key and 'a[i]' is values"
   ]
  },
  {
   "cell_type": "code",
   "execution_count": 24,
   "id": "af3ca418",
   "metadata": {},
   "outputs": [
    {
     "name": "stdout",
     "output_type": "stream",
     "text": [
      "2\n",
      "Not Present\n"
     ]
    }
   ],
   "source": [
    "d = {1:2, 'abc':5, 'def':7}\n",
    "i = input()    #only keys are displayed \n",
    "if i in d:\n",
    "    print('Present')\n",
    "else:\n",
    "    print('Not Present')"
   ]
  },
  {
   "cell_type": "markdown",
   "id": "45456a35",
   "metadata": {},
   "source": [
    "#### Update"
   ]
  },
  {
   "cell_type": "code",
   "execution_count": 25,
   "id": "219d5438",
   "metadata": {},
   "outputs": [],
   "source": [
    "a[1]=10 #Updating key i with value 10"
   ]
  },
  {
   "cell_type": "code",
   "execution_count": 37,
   "id": "43cc0bd1",
   "metadata": {
    "scrolled": true
   },
   "outputs": [
    {
     "data": {
      "text/plain": [
       "{1: 10, 3: 5, 'list': [1, 23], 'dict': {1: 2}, 'new': 10000, 2: 'new'}"
      ]
     },
     "execution_count": 37,
     "metadata": {},
     "output_type": "execute_result"
    }
   ],
   "source": [
    "a"
   ]
  },
  {
   "cell_type": "code",
   "execution_count": 38,
   "id": "54c65172",
   "metadata": {},
   "outputs": [],
   "source": [
    "b = {3:5,'dict':{4,5,6},\"t\":(1,2,3),\"new\":1}"
   ]
  },
  {
   "cell_type": "code",
   "execution_count": 49,
   "id": "a4bc2b24",
   "metadata": {},
   "outputs": [
    {
     "data": {
      "text/plain": [
       "{'list': [1, 23], 'dict': {4, 5, 6}, 'new': 1, 2: 'new', 3: 5, 't': (1, 2, 3)}"
      ]
     },
     "execution_count": 49,
     "metadata": {},
     "output_type": "execute_result"
    }
   ],
   "source": [
    "a.update(b) #Existing Key's values are updated and new pairs are added\n",
    "a"
   ]
  },
  {
   "cell_type": "markdown",
   "id": "b3ce3133",
   "metadata": {},
   "source": [
    "#### Remove"
   ]
  },
  {
   "cell_type": "code",
   "execution_count": 50,
   "id": "48e2b415",
   "metadata": {},
   "outputs": [
    {
     "data": {
      "text/plain": [
       "(1, 2, 3)"
      ]
     },
     "execution_count": 50,
     "metadata": {},
     "output_type": "execute_result"
    }
   ],
   "source": [
    "a.pop(\"t\")"
   ]
  },
  {
   "cell_type": "code",
   "execution_count": 51,
   "id": "2baf8ffd",
   "metadata": {},
   "outputs": [
    {
     "data": {
      "text/plain": [
       "{'list': [1, 23], 'dict': {4, 5, 6}, 'new': 1, 2: 'new', 3: 5}"
      ]
     },
     "execution_count": 51,
     "metadata": {},
     "output_type": "execute_result"
    }
   ],
   "source": [
    "a"
   ]
  },
  {
   "cell_type": "code",
   "execution_count": 52,
   "id": "987e8a60",
   "metadata": {},
   "outputs": [
    {
     "ename": "KeyError",
     "evalue": "1",
     "output_type": "error",
     "traceback": [
      "\u001b[1;31m---------------------------------------------------------------------------\u001b[0m",
      "\u001b[1;31mKeyError\u001b[0m                                  Traceback (most recent call last)",
      "Input \u001b[1;32mIn [52]\u001b[0m, in \u001b[0;36m<cell line: 1>\u001b[1;34m()\u001b[0m\n\u001b[1;32m----> 1\u001b[0m \u001b[38;5;28;01mdel\u001b[39;00m a[\u001b[38;5;241m1\u001b[39m]\n",
      "\u001b[1;31mKeyError\u001b[0m: 1"
     ]
    }
   ],
   "source": [
    "del a[1]"
   ]
  },
  {
   "cell_type": "code",
   "execution_count": 53,
   "id": "5f1946ca",
   "metadata": {
    "scrolled": false
   },
   "outputs": [
    {
     "data": {
      "text/plain": [
       "{'list': [1, 23], 'dict': {4, 5, 6}, 'new': 1, 2: 'new', 3: 5}"
      ]
     },
     "execution_count": 53,
     "metadata": {},
     "output_type": "execute_result"
    }
   ],
   "source": [
    "a"
   ]
  },
  {
   "cell_type": "markdown",
   "id": "68f6ddb5",
   "metadata": {},
   "source": [
    "#### Frequency of words"
   ]
  },
  {
   "cell_type": "code",
   "execution_count": 69,
   "id": "bb5cac89",
   "metadata": {},
   "outputs": [],
   "source": [
    "s = 'this is a word string having many many many word'\n",
    "k = 2"
   ]
  },
  {
   "cell_type": "code",
   "execution_count": 57,
   "id": "1e9a6827",
   "metadata": {},
   "outputs": [],
   "source": [
    "words = s.split()"
   ]
  },
  {
   "cell_type": "code",
   "execution_count": 58,
   "id": "ea60cdd3",
   "metadata": {},
   "outputs": [
    {
     "data": {
      "text/plain": [
       "['this', 'is', 'a', 'word', 'string', 'having', 'many', 'many', 'word']"
      ]
     },
     "execution_count": 58,
     "metadata": {},
     "output_type": "execute_result"
    }
   ],
   "source": [
    "words "
   ]
  },
  {
   "cell_type": "code",
   "execution_count": 61,
   "id": "68dc2458",
   "metadata": {},
   "outputs": [
    {
     "data": {
      "text/plain": [
       "{'this': 1, 'is': 1, 'a': 1, 'word': 2, 'string': 1, 'having': 1, 'many': 2}"
      ]
     },
     "execution_count": 61,
     "metadata": {},
     "output_type": "execute_result"
    }
   ],
   "source": [
    "d = {}\n",
    "for w in words:\n",
    "    if w in d:\n",
    "        d[w] = d[w]+1\n",
    "    else:\n",
    "        d[w] = 1\n",
    "d"
   ]
  },
  {
   "cell_type": "code",
   "execution_count": 62,
   "id": "8ba3ac67",
   "metadata": {},
   "outputs": [
    {
     "data": {
      "text/plain": [
       "{'this': 1, 'is': 1, 'a': 1, 'word': 2, 'string': 1, 'having': 1, 'many': 2}"
      ]
     },
     "execution_count": 62,
     "metadata": {},
     "output_type": "execute_result"
    }
   ],
   "source": [
    "d = {}\n",
    "for w in words:\n",
    "        d[w] = d.get(w,0)+1\n",
    "\n",
    "d"
   ]
  },
  {
   "cell_type": "code",
   "execution_count": 64,
   "id": "4b3728dd",
   "metadata": {},
   "outputs": [
    {
     "name": "stdout",
     "output_type": "stream",
     "text": [
      "word\n",
      "many\n"
     ]
    }
   ],
   "source": [
    "for w in d:\n",
    "    if d[w]==k:\n",
    "        print(w)"
   ]
  },
  {
   "cell_type": "markdown",
   "id": "33585a96",
   "metadata": {},
   "source": [
    "#### Frequence Function"
   ]
  },
  {
   "cell_type": "code",
   "execution_count": 66,
   "id": "f0b7e67a",
   "metadata": {},
   "outputs": [],
   "source": [
    "def printkFrequency(s,k):\n",
    "    words = s.split()\n",
    "    d = {}\n",
    "    for w in words:\n",
    "            d[w] = d.get(w,0)+1\n",
    "    for w in d:\n",
    "        if d[w]==k:\n",
    "            print(w)\n",
    "    "
   ]
  },
  {
   "cell_type": "code",
   "execution_count": 71,
   "id": "32c8c2b2",
   "metadata": {},
   "outputs": [],
   "source": [
    "printkFrequency(s,3)"
   ]
  },
  {
   "cell_type": "markdown",
   "id": "9ba730e6",
   "metadata": {},
   "source": [
    "### Sets"
   ]
  },
  {
   "cell_type": "code",
   "execution_count": 95,
   "id": "e836af77",
   "metadata": {},
   "outputs": [],
   "source": [
    "a = {'apple',\"abc\",123}"
   ]
  },
  {
   "cell_type": "code",
   "execution_count": 73,
   "id": "4c1a6fc4",
   "metadata": {},
   "outputs": [
    {
     "data": {
      "text/plain": [
       "{123, 'abc', 'apple'}"
      ]
     },
     "execution_count": 73,
     "metadata": {},
     "output_type": "execute_result"
    }
   ],
   "source": [
    "a"
   ]
  },
  {
   "cell_type": "code",
   "execution_count": 74,
   "id": "020781a9",
   "metadata": {},
   "outputs": [
    {
     "ename": "TypeError",
     "evalue": "'set' object is not subscriptable",
     "output_type": "error",
     "traceback": [
      "\u001b[1;31m---------------------------------------------------------------------------\u001b[0m",
      "\u001b[1;31mTypeError\u001b[0m                                 Traceback (most recent call last)",
      "Input \u001b[1;32mIn [74]\u001b[0m, in \u001b[0;36m<cell line: 1>\u001b[1;34m()\u001b[0m\n\u001b[1;32m----> 1\u001b[0m \u001b[43ma\u001b[49m\u001b[43m[\u001b[49m\u001b[38;5;241;43m0\u001b[39;49m\u001b[43m]\u001b[49m\n",
      "\u001b[1;31mTypeError\u001b[0m: 'set' object is not subscriptable"
     ]
    }
   ],
   "source": [
    "a[0]"
   ]
  },
  {
   "cell_type": "code",
   "execution_count": 77,
   "id": "d7b8c683",
   "metadata": {},
   "outputs": [
    {
     "ename": "TypeError",
     "evalue": "'set' object is not subscriptable",
     "output_type": "error",
     "traceback": [
      "\u001b[1;31m---------------------------------------------------------------------------\u001b[0m",
      "\u001b[1;31mTypeError\u001b[0m                                 Traceback (most recent call last)",
      "Input \u001b[1;32mIn [77]\u001b[0m, in \u001b[0;36m<cell line: 1>\u001b[1;34m()\u001b[0m\n\u001b[1;32m----> 1\u001b[0m \u001b[43ma\u001b[49m\u001b[43m[\u001b[49m\u001b[38;5;124;43m'\u001b[39;49m\u001b[38;5;124;43mabc\u001b[39;49m\u001b[38;5;124;43m'\u001b[39;49m\u001b[43m]\u001b[49m\n",
      "\u001b[1;31mTypeError\u001b[0m: 'set' object is not subscriptable"
     ]
    }
   ],
   "source": [
    "a['abc']"
   ]
  },
  {
   "cell_type": "code",
   "execution_count": 89,
   "id": "2dafff9c",
   "metadata": {},
   "outputs": [
    {
     "data": {
      "text/plain": [
       "False"
      ]
     },
     "execution_count": 89,
     "metadata": {},
     "output_type": "execute_result"
    }
   ],
   "source": [
    "123 in a\n"
   ]
  },
  {
   "cell_type": "code",
   "execution_count": 88,
   "id": "a34519ae",
   "metadata": {},
   "outputs": [
    {
     "data": {
      "text/plain": [
       "True"
      ]
     },
     "execution_count": 88,
     "metadata": {},
     "output_type": "execute_result"
    }
   ],
   "source": [
    "\"abc\" in a"
   ]
  },
  {
   "cell_type": "code",
   "execution_count": 96,
   "id": "f1a0e9c1",
   "metadata": {},
   "outputs": [
    {
     "name": "stdout",
     "output_type": "stream",
     "text": [
      "123\n",
      "apple\n",
      "abc\n"
     ]
    }
   ],
   "source": [
    "for v in a:\n",
    "    print(v)\n",
    "    "
   ]
  },
  {
   "cell_type": "code",
   "execution_count": 97,
   "id": "0a0d5819",
   "metadata": {},
   "outputs": [
    {
     "data": {
      "text/plain": [
       "3"
      ]
     },
     "execution_count": 97,
     "metadata": {},
     "output_type": "execute_result"
    }
   ],
   "source": [
    "len(a)"
   ]
  },
  {
   "cell_type": "markdown",
   "id": "40dbcfbc",
   "metadata": {},
   "source": [
    "#### Adding data in sets"
   ]
  },
  {
   "cell_type": "code",
   "execution_count": 98,
   "id": "a4598e81",
   "metadata": {},
   "outputs": [],
   "source": [
    "a.add('temp')"
   ]
  },
  {
   "cell_type": "code",
   "execution_count": 99,
   "id": "2a9401ad",
   "metadata": {},
   "outputs": [
    {
     "data": {
      "text/plain": [
       "{123, 'abc', 'apple', 'temp'}"
      ]
     },
     "execution_count": 99,
     "metadata": {},
     "output_type": "execute_result"
    }
   ],
   "source": [
    "a"
   ]
  },
  {
   "cell_type": "code",
   "execution_count": 100,
   "id": "eaa17f1a",
   "metadata": {},
   "outputs": [],
   "source": [
    "b = {'ghi','new'}\n",
    "a.update(b)"
   ]
  },
  {
   "cell_type": "code",
   "execution_count": 101,
   "id": "5bc16829",
   "metadata": {},
   "outputs": [
    {
     "data": {
      "text/plain": [
       "{123, 'abc', 'apple', 'ghi', 'new', 'temp'}"
      ]
     },
     "execution_count": 101,
     "metadata": {},
     "output_type": "execute_result"
    }
   ],
   "source": [
    "a"
   ]
  },
  {
   "cell_type": "markdown",
   "id": "81aad953",
   "metadata": {},
   "source": [
    "#### Removing data"
   ]
  },
  {
   "cell_type": "code",
   "execution_count": 103,
   "id": "2b561e33",
   "metadata": {},
   "outputs": [],
   "source": [
    "a.remove('temp')"
   ]
  },
  {
   "cell_type": "code",
   "execution_count": 104,
   "id": "4af5ec2f",
   "metadata": {},
   "outputs": [
    {
     "data": {
      "text/plain": [
       "{123, 'abc', 'apple', 'ghi', 'new'}"
      ]
     },
     "execution_count": 104,
     "metadata": {},
     "output_type": "execute_result"
    }
   ],
   "source": [
    "a"
   ]
  },
  {
   "cell_type": "code",
   "execution_count": 105,
   "id": "973314be",
   "metadata": {},
   "outputs": [],
   "source": [
    "a.discard(123)"
   ]
  },
  {
   "cell_type": "code",
   "execution_count": 106,
   "id": "08033ff4",
   "metadata": {},
   "outputs": [
    {
     "data": {
      "text/plain": [
       "{'abc', 'apple', 'ghi', 'new'}"
      ]
     },
     "execution_count": 106,
     "metadata": {},
     "output_type": "execute_result"
    }
   ],
   "source": [
    "a"
   ]
  },
  {
   "cell_type": "code",
   "execution_count": 110,
   "id": "c233f4a0",
   "metadata": {},
   "outputs": [],
   "source": [
    "a.discard(\"nothing\") #doesn't do anything"
   ]
  },
  {
   "cell_type": "code",
   "execution_count": 111,
   "id": "82e90071",
   "metadata": {},
   "outputs": [
    {
     "data": {
      "text/plain": [
       "'new'"
      ]
     },
     "execution_count": 111,
     "metadata": {},
     "output_type": "execute_result"
    }
   ],
   "source": [
    "a.pop()"
   ]
  },
  {
   "cell_type": "code",
   "execution_count": 112,
   "id": "55101564",
   "metadata": {},
   "outputs": [
    {
     "data": {
      "text/plain": [
       "{'abc', 'apple', 'ghi'}"
      ]
     },
     "execution_count": 112,
     "metadata": {},
     "output_type": "execute_result"
    }
   ],
   "source": [
    "a"
   ]
  },
  {
   "cell_type": "markdown",
   "id": "f57e6d82",
   "metadata": {},
   "source": [
    "### Functions in set"
   ]
  },
  {
   "cell_type": "code",
   "execution_count": 125,
   "id": "89a0f118",
   "metadata": {},
   "outputs": [],
   "source": [
    "a = {1,2,3,4}\n",
    "b = {3,4,5,6}"
   ]
  },
  {
   "cell_type": "code",
   "execution_count": 116,
   "id": "06fa9e5e",
   "metadata": {},
   "outputs": [
    {
     "data": {
      "text/plain": [
       "{3, 4}"
      ]
     },
     "execution_count": 116,
     "metadata": {},
     "output_type": "execute_result"
    }
   ],
   "source": [
    "a.intersection(b)"
   ]
  },
  {
   "cell_type": "code",
   "execution_count": 117,
   "id": "30d58501",
   "metadata": {},
   "outputs": [
    {
     "data": {
      "text/plain": [
       "{1, 2, 3, 4, 5, 6}"
      ]
     },
     "execution_count": 117,
     "metadata": {},
     "output_type": "execute_result"
    }
   ],
   "source": [
    "a.union(b)"
   ]
  },
  {
   "cell_type": "code",
   "execution_count": 118,
   "id": "e3add888",
   "metadata": {},
   "outputs": [
    {
     "data": {
      "text/plain": [
       "{1, 2}"
      ]
     },
     "execution_count": 118,
     "metadata": {},
     "output_type": "execute_result"
    }
   ],
   "source": [
    "a.difference(b)"
   ]
  },
  {
   "cell_type": "code",
   "execution_count": 119,
   "id": "e931c323",
   "metadata": {},
   "outputs": [
    {
     "data": {
      "text/plain": [
       "{5, 6}"
      ]
     },
     "execution_count": 119,
     "metadata": {},
     "output_type": "execute_result"
    }
   ],
   "source": [
    "b.difference(a)"
   ]
  },
  {
   "cell_type": "code",
   "execution_count": 123,
   "id": "bfbb881f",
   "metadata": {},
   "outputs": [],
   "source": [
    "a = {9,8,7,6}\n",
    "b = {7,6,5,4}"
   ]
  },
  {
   "cell_type": "code",
   "execution_count": 124,
   "id": "8168674f",
   "metadata": {},
   "outputs": [
    {
     "data": {
      "text/plain": [
       "{4, 5, 8, 9}"
      ]
     },
     "execution_count": 124,
     "metadata": {},
     "output_type": "execute_result"
    }
   ],
   "source": [
    "a.symmetric_difference(b) #Shows smaller value first"
   ]
  },
  {
   "cell_type": "markdown",
   "id": "60d4e5db",
   "metadata": {},
   "source": [
    "def sumUnique(l):\n",
    "    s = set()\n",
    "    for i in l:\n",
    "        s.add(i)\n",
    "    sum = 0\n",
    "    for i in s:\n",
    "        sum+=i\n",
    "    return sum\n",
    "print(sumUnique([1,2,3,2,3,4,2]))\n"
   ]
  }
 ],
 "metadata": {
  "kernelspec": {
   "display_name": "Python 3 (ipykernel)",
   "language": "python",
   "name": "python3"
  },
  "language_info": {
   "codemirror_mode": {
    "name": "ipython",
    "version": 3
   },
   "file_extension": ".py",
   "mimetype": "text/x-python",
   "name": "python",
   "nbconvert_exporter": "python",
   "pygments_lexer": "ipython3",
   "version": "3.9.12"
  }
 },
 "nbformat": 4,
 "nbformat_minor": 5
}
