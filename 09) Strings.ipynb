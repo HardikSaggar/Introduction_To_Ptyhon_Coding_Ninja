{
 "cells": [
  {
   "cell_type": "markdown",
   "id": "b7372e7f",
   "metadata": {},
   "source": [
    "##### Declaring strings"
   ]
  },
  {
   "cell_type": "code",
   "execution_count": 3,
   "id": "a1d33f90",
   "metadata": {
    "scrolled": true
   },
   "outputs": [
    {
     "name": "stdout",
     "output_type": "stream",
     "text": [
      "My name\n",
      "ashbdfks\n"
     ]
    }
   ],
   "source": [
    "s='''My name\n",
    "ashbdfks'''\n",
    "print(s)\n"
   ]
  },
  {
   "cell_type": "markdown",
   "id": "75fc31c6",
   "metadata": {},
   "source": [
    "##### string Slicing"
   ]
  },
  {
   "cell_type": "code",
   "execution_count": 26,
   "id": "d80667ea",
   "metadata": {},
   "outputs": [
    {
     "name": "stdout",
     "output_type": "stream",
     "text": [
      "H\n",
      "k\n"
     ]
    }
   ],
   "source": [
    "name =\"Hardik\"\n",
    "print(name[0])#first\n",
    "print(name[-1])#last"
   ]
  },
  {
   "cell_type": "markdown",
   "id": "8e3039af",
   "metadata": {},
   "source": [
    "##### Concatenation"
   ]
  },
  {
   "cell_type": "code",
   "execution_count": 27,
   "id": "e3b66fc5",
   "metadata": {},
   "outputs": [
    {
     "name": "stdout",
     "output_type": "stream",
     "text": [
      "red3\n"
     ]
    }
   ],
   "source": [
    "a=\"red\"\n",
    "a=a+str(3)\n",
    "print(a)"
   ]
  },
  {
   "cell_type": "markdown",
   "id": "cfd76939",
   "metadata": {},
   "source": [
    "#### Character wise"
   ]
  },
  {
   "cell_type": "code",
   "execution_count": 29,
   "id": "88b3c259",
   "metadata": {},
   "outputs": [
    {
     "name": "stdout",
     "output_type": "stream",
     "text": [
      "L\n",
      "e\n",
      "t\n",
      "s\n",
      "C\n",
      "h\n",
      "e\n",
      "c\n",
      "k\n"
     ]
    }
   ],
   "source": [
    "str = \"LetsCheck\"\n",
    "for i in str:\n",
    "    print(i)"
   ]
  },
  {
   "cell_type": "markdown",
   "id": "dae28a09",
   "metadata": {},
   "source": [
    "##### Index wise"
   ]
  },
  {
   "cell_type": "code",
   "execution_count": 37,
   "id": "cfc1c5d4",
   "metadata": {},
   "outputs": [
    {
     "name": "stdout",
     "output_type": "stream",
     "text": [
      "L\n",
      "e\n",
      "t\n",
      "s\n",
      "C\n",
      "h\n",
      "e\n",
      "c\n",
      "k\n"
     ]
    }
   ],
   "source": [
    "str = \"LetsCheck\"\n",
    "for i in range(len(str)):\n",
    "    print(str[i])"
   ]
  },
  {
   "cell_type": "markdown",
   "id": "101fe961",
   "metadata": {},
   "source": [
    "##### Check number of char in string"
   ]
  },
  {
   "cell_type": "code",
   "execution_count": 39,
   "id": "9df7e1c6",
   "metadata": {},
   "outputs": [
    {
     "name": "stdout",
     "output_type": "stream",
     "text": [
      "Indice 3\n",
      "Indice 13\n",
      "Number of char 2\n"
     ]
    }
   ],
   "source": [
    "str = 'Letschecknoofs'\n",
    "count=0\n",
    "for i in range(len(str)):#index wise\n",
    "    if(str[i]=='s'):\n",
    "        print('Indice',i)\n",
    "        count=count+1\n",
    "print('Number of char',count)"
   ]
  },
  {
   "cell_type": "markdown",
   "id": "67f0a98e",
   "metadata": {},
   "source": [
    "##### Checking string"
   ]
  },
  {
   "cell_type": "code",
   "execution_count": 28,
   "id": "56466a35",
   "metadata": {},
   "outputs": [
    {
     "name": "stdout",
     "output_type": "stream",
     "text": [
      "Yes it is a substring\n",
      "Not a substring\n",
      "Yes it is not a substring\n"
     ]
    }
   ],
   "source": [
    "str=\"hello\"\n",
    "\n",
    "if 'hel' in str:\n",
    "    print(\"Yes it is a substring\")\n",
    "else:\n",
    "    print(\"Not a substring\")\n",
    "\n",
    "if 'heo' in str:\n",
    "    print(\"Yes it is a substring\")\n",
    "else:\n",
    "    print(\"Not a substring\")\n",
    "\n",
    "if 'heo' not in str:\n",
    "    print(\"Yes it is not a substring\")\n",
    "else:\n",
    "    print(\"Not a substring\")"
   ]
  },
  {
   "cell_type": "markdown",
   "id": "85291383",
   "metadata": {},
   "source": [
    "#### Check Palindrome"
   ]
  },
  {
   "cell_type": "code",
   "execution_count": null,
   "id": "9ee53829",
   "metadata": {},
   "outputs": [],
   "source": [
    "from sys import stdin\n",
    "\n",
    "def reverse(arr,n):\n",
    "    emp = ''\n",
    "    for i in range(n-1,-1,-1):\n",
    "        a = arr[i]\n",
    "        emp = emp+a\n",
    "    print(arr, emp)\n",
    "    if arr==emp:\n",
    "        return emp\n",
    "       \n",
    "arr = stdin.readline().strip()\n",
    "n = len(arr)\n",
    "\n",
    "ans = reverse(arr,n)\n",
    "if ans:\n",
    "    print(\"True\")\n",
    "else:\n",
    "    print(\"False\")\n",
    "\n",
    "    "
   ]
  },
  {
   "cell_type": "markdown",
   "id": "f6b826c3",
   "metadata": {},
   "source": [
    "## Assignment 7"
   ]
  },
  {
   "cell_type": "markdown",
   "id": "4758ee61",
   "metadata": {},
   "source": [
    "#### Check Permutation"
   ]
  },
  {
   "cell_type": "code",
   "execution_count": 2,
   "id": "c521a068",
   "metadata": {},
   "outputs": [
    {
     "name": "stdout",
     "output_type": "stream",
     "text": [
      "true\n"
     ]
    }
   ],
   "source": [
    "from sys import stdin\n",
    "NO_OF_CHARS = 256\n",
    "\n",
    "\n",
    "def isPermutation(string1, string2) :\n",
    "\t#Your code goes here\n",
    "    count1=[0]*NO_OF_CHARS\n",
    "    count2=[0]*NO_OF_CHARS\n",
    "    for i in string1:\n",
    "        count1[ord(i)]+=1\n",
    "    for i in string2:\n",
    "        count2[ord(i)]+=1\n",
    "        \n",
    "    if (len(string1)!=len(string2)):\n",
    "        return False\n",
    "    for i in range(NO_OF_CHARS):\n",
    "        if (count1!=count2):\n",
    "            return False\n",
    "    return True    \n",
    "\n",
    "#main\n",
    "string1 = stdin.readline().strip();\n",
    "string2 = stdin.readline().strip();\n",
    "\n",
    "ans = isPermutation(string1, string2)\n",
    "\n",
    "if ans :\n",
    "    print('true')\n",
    "else :\n",
    "    print('false')\n",
    "\n"
   ]
  },
  {
   "cell_type": "markdown",
   "id": "beebead9",
   "metadata": {},
   "source": [
    "#### Remove Consecutive Duplicates"
   ]
  },
  {
   "cell_type": "code",
   "execution_count": 5,
   "id": "13582a9f",
   "metadata": {},
   "outputs": [
    {
     "name": "stdout",
     "output_type": "stream",
     "text": [
      "\n"
     ]
    }
   ],
   "source": [
    "from sys import stdin\n",
    "\n",
    "def removeConsecutiveDuplicates(string) :\n",
    "    new_s = \"\"\n",
    "    prev = \"\"\n",
    "    for c in string:\n",
    "        if len(new_s) == 0:\n",
    "            new_s += c\n",
    "            prev = c\n",
    "        if c == prev:\n",
    "            continue\n",
    "        else:\n",
    "            new_s += c\n",
    "            prev = c\n",
    "    return new_s\n",
    "\n",
    "\n",
    "\n",
    "#main\n",
    "string = stdin.readline().strip()\n",
    "\n",
    "ans = removeConsecutiveDuplicates(string)\n",
    "\n",
    "print(ans)"
   ]
  },
  {
   "cell_type": "code",
   "execution_count": null,
   "id": "c515258a",
   "metadata": {},
   "outputs": [],
   "source": []
  },
  {
   "cell_type": "markdown",
   "id": "f4d688f9",
   "metadata": {},
   "source": [
    "#### Reverse Each Word"
   ]
  },
  {
   "cell_type": "code",
   "execution_count": 14,
   "id": "4d9f27f9",
   "metadata": {},
   "outputs": [
    {
     "name": "stdout",
     "output_type": "stream",
     "text": [
      "Welcome to Coding Ninjas\n",
      "emocleW ot gnidoC sajniN\n"
     ]
    }
   ],
   "source": [
    "from sys import stdin\n",
    "\n",
    "def reverse(lst):\n",
    "    words = lst.split(\" \")\n",
    "    new = [word[::-1] for word in words]\n",
    "    newsen = \" \".join(new)\n",
    "\n",
    "    return newsen\n",
    "\n",
    "\n",
    "\n",
    "#main\n",
    "lst = input()\n",
    "\n",
    "print(reverse(lst))"
   ]
  },
  {
   "cell_type": "markdown",
   "id": "f9190d0f",
   "metadata": {},
   "source": [
    "#### Remove Character"
   ]
  },
  {
   "cell_type": "code",
   "execution_count": 19,
   "id": "6b676a42",
   "metadata": {
    "scrolled": true
   },
   "outputs": [
    {
     "name": "stdout",
     "output_type": "stream",
     "text": [
      "ccxxcx\n",
      "\n"
     ]
    }
   ],
   "source": [
    "from sys import stdin\n",
    "def remove(str,ch):\n",
    "    x = str.replace(ch,'')\n",
    "    return x\n",
    "\n",
    "str = stdin.readline().strip()\n",
    "ch= input()\n",
    "print(remove(str,ch))"
   ]
  },
  {
   "cell_type": "markdown",
   "id": "4d83cc03",
   "metadata": {},
   "source": [
    "#### Highest Occuring Character"
   ]
  },
  {
   "cell_type": "code",
   "execution_count": 21,
   "id": "b64dd7e4",
   "metadata": {},
   "outputs": [
    {
     "name": "stdout",
     "output_type": "stream",
     "text": [
      "\n"
     ]
    }
   ],
   "source": [
    "from sys import stdin\n",
    "\n",
    "ascii =  256\n",
    "\n",
    "def maxchar(arr):\n",
    "    c = ''\n",
    "    mx = -1\n",
    "    count = [0]*ascii\n",
    "    for i in arr:\n",
    "        count[ord(i)]+=1\n",
    "    for i in arr:\n",
    "        if mx<count[ord(i)]:\n",
    "            mx = count[ord(i)]\n",
    "            c = i\n",
    "    return c\n",
    "\n",
    "#main\n",
    "string = stdin.readline().strip();\n",
    "ans = maxchar(string)\n",
    "\n",
    "print(ans)"
   ]
  },
  {
   "cell_type": "markdown",
   "id": "27f04a07",
   "metadata": {},
   "source": [
    "#### Compress String"
   ]
  },
  {
   "cell_type": "code",
   "execution_count": 1,
   "id": "9fe105a3",
   "metadata": {},
   "outputs": [
    {
     "name": "stdout",
     "output_type": "stream",
     "text": [
      "dddd\n",
      "d4\n"
     ]
    }
   ],
   "source": [
    "def ab(a):\n",
    "    i=0\n",
    "    x=''\n",
    "    while(i<len(a)):\n",
    "        j=i+1\n",
    "        c=1\n",
    "        while j<len(a) and (a[i]==a[j]):\n",
    "            j+=1\n",
    "            c+=1\n",
    "        if c==1:\n",
    "            x+=a[i]\n",
    "        else:\n",
    "            x+=a[i]+str(c)\n",
    "        i=j\n",
    "    return x\n",
    "a=input()\n",
    "print(ab(a))"
   ]
  }
 ],
 "metadata": {
  "kernelspec": {
   "display_name": "Python 3 (ipykernel)",
   "language": "python",
   "name": "python3"
  },
  "language_info": {
   "codemirror_mode": {
    "name": "ipython",
    "version": 3
   },
   "file_extension": ".py",
   "mimetype": "text/x-python",
   "name": "python",
   "nbconvert_exporter": "python",
   "pygments_lexer": "ipython3",
   "version": "3.9.12"
  }
 },
 "nbformat": 4,
 "nbformat_minor": 5
}
