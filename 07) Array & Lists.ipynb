{
 "cells": [
  {
   "cell_type": "code",
   "execution_count": 1,
   "id": "bfbb3c7a",
   "metadata": {},
   "outputs": [
    {
     "name": "stdout",
     "output_type": "stream",
     "text": [
      "[1, 'Hardik', 4.5, [2, 3, 99, 'Hardik'], 2, 'a', 'd', 'Arjun', 2]\n"
     ]
    }
   ],
   "source": [
    "l1 = [1,2,'Hardik',4.5,2,'a','d',99,\"Arjun\"]\n",
    "l1.append(2)\n",
    "l1.insert(4,[2,3,99,'Hardik'])\n",
    "l1.extend('a')\n",
    "l1.remove(99)\n",
    "l1.pop()\n",
    "l1.pop(1)\n",
    "len(l1)\n",
    "print(l1)"
   ]
  },
  {
   "cell_type": "code",
   "execution_count": 5,
   "id": "fe655682",
   "metadata": {},
   "outputs": [
    {
     "data": {
      "text/plain": [
       "['i', 'h', 'g', 'f', 'd', 'c', 'b', 'a']"
      ]
     },
     "execution_count": 5,
     "metadata": {},
     "output_type": "execute_result"
    }
   ],
   "source": [
    "l1  = ['a','b','c','d','f','g','h','i']\n",
    "l1[::-1]"
   ]
  },
  {
   "cell_type": "code",
   "execution_count": 6,
   "id": "b4c2f6fb",
   "metadata": {},
   "outputs": [
    {
     "data": {
      "text/plain": [
       "['b', 'd', 'g', 'i']"
      ]
     },
     "execution_count": 6,
     "metadata": {},
     "output_type": "execute_result"
    }
   ],
   "source": [
    "l1  = ['a','b','c','d','f','g','h','i']\n",
    "l1[1:8:2]"
   ]
  },
  {
   "cell_type": "code",
   "execution_count": 7,
   "id": "0c907ad3",
   "metadata": {},
   "outputs": [
    {
     "data": {
      "text/plain": [
       "['a', 'b', 'c', 'd']"
      ]
     },
     "execution_count": 7,
     "metadata": {},
     "output_type": "execute_result"
    }
   ],
   "source": [
    "l1  = ['a','b','c','d','f','g','h','i']\n",
    "l1[:4]"
   ]
  },
  {
   "cell_type": "code",
   "execution_count": 13,
   "id": "cfc9c118",
   "metadata": {},
   "outputs": [
    {
     "data": {
      "text/plain": [
       "['h']"
      ]
     },
     "execution_count": 13,
     "metadata": {},
     "output_type": "execute_result"
    }
   ],
   "source": [
    "l1  = ['a','b','c','d','f','g','h','i']\n",
    "l1[-2:8:2]"
   ]
  },
  {
   "cell_type": "code",
   "execution_count": 14,
   "id": "f4172dda",
   "metadata": {},
   "outputs": [
    {
     "name": "stdout",
     "output_type": "stream",
     "text": [
      "1\n",
      "2\n",
      "Hardik\n",
      "9\n",
      "10\n",
      "Arjun\n"
     ]
    }
   ],
   "source": [
    "l1 = [1,2,'Hardik',9,10,'Arjun']\n",
    "for i in range(len(l1)):\n",
    "    print(l1[i])\n"
   ]
  },
  {
   "cell_type": "code",
   "execution_count": 15,
   "id": "0f9ca07f",
   "metadata": {},
   "outputs": [
    {
     "name": "stdout",
     "output_type": "stream",
     "text": [
      "1\n",
      "2\n",
      "Hardik\n",
      "9\n",
      "10\n",
      "Arjun\n"
     ]
    }
   ],
   "source": [
    "l1 = [1,2,'Hardik',9,10,'Arjun']\n",
    "for item in l1:\n",
    "    print(item)\n"
   ]
  },
  {
   "cell_type": "code",
   "execution_count": 16,
   "id": "4fb470c4",
   "metadata": {},
   "outputs": [
    {
     "name": "stdout",
     "output_type": "stream",
     "text": [
      "Hardik\n",
      "9\n",
      "10\n",
      "Arjun\n"
     ]
    }
   ],
   "source": [
    "l1 = [1,2,'Hardik',9,10,'Arjun']\n",
    "for item in l1[2:]:\n",
    "    print(item)\n"
   ]
  },
  {
   "cell_type": "code",
   "execution_count": 17,
   "id": "b4a5cd9d",
   "metadata": {},
   "outputs": [
    {
     "name": "stdout",
     "output_type": "stream",
     "text": [
      "4\n",
      "1\n",
      "a\n",
      "4.5\n",
      "har\n",
      "['1', 'a', '4.5', 'har']\n"
     ]
    }
   ],
   "source": [
    "n = int(input())\n",
    "l1= []\n",
    "for i in range(n):\n",
    "    curr = input()\n",
    "    l1.append(curr)\n",
    "print(l1)"
   ]
  },
  {
   "cell_type": "code",
   "execution_count": 19,
   "id": "2edac309",
   "metadata": {},
   "outputs": [
    {
     "name": "stdout",
     "output_type": "stream",
     "text": [
      "1 2 3 4 5\n",
      "[1, 2, 3, 4, 5]\n"
     ]
    }
   ],
   "source": [
    "l1 = [int(x) for x in input().split()]\n",
    "print(l1)"
   ]
  },
  {
   "cell_type": "markdown",
   "id": "f32f7ad1",
   "metadata": {},
   "source": [
    "#### Array Sum"
   ]
  },
  {
   "cell_type": "code",
   "execution_count": 2,
   "id": "96cbcdf3",
   "metadata": {},
   "outputs": [
    {
     "name": "stdout",
     "output_type": "stream",
     "text": [
      "3\n",
      "1 2 3\n",
      "6\n"
     ]
    }
   ],
   "source": [
    "n = int(input())\n",
    "li = [int(x) for x in input().split()]\n",
    "sum = 0\n",
    "for i in li:\n",
    "    sum = sum + i\n",
    "print(sum)"
   ]
  },
  {
   "cell_type": "markdown",
   "id": "21113cf8",
   "metadata": {},
   "source": [
    "#### Linear Search"
   ]
  },
  {
   "cell_type": "code",
   "execution_count": 20,
   "id": "e6b08578",
   "metadata": {},
   "outputs": [
    {
     "name": "stdout",
     "output_type": "stream",
     "text": [
      "6 \n",
      "1 2 4 5 3 2 5\n",
      "4 \n",
      "Place of 4 is 2\n"
     ]
    }
   ],
   "source": [
    "def linear_search():\n",
    "    l1 = [int(x) for x in input().split()]\n",
    "    found = False\n",
    "    ele = int(input())\n",
    "    for i in range(len(l1)):\n",
    "        if l1[i] == ele:\n",
    "            found = True\n",
    "            print(f\"Place of {ele} is {i}\")\n",
    "    if found is False:\n",
    "        print(-1)\n",
    "\n",
    "n = int(input())\n",
    "linear_search()"
   ]
  },
  {
   "cell_type": "code",
   "execution_count": 21,
   "id": "aaf00931",
   "metadata": {},
   "outputs": [
    {
     "name": "stdout",
     "output_type": "stream",
     "text": [
      "3\n"
     ]
    }
   ],
   "source": [
    "def linear_search(l1,ele):\n",
    "\n",
    "    for i in range(len(l1)):\n",
    "        if l1[i] == ele:\n",
    "            return i\n",
    "    return -1\n",
    "\n",
    "l1 = [1,2,3,4,6]\n",
    "index = linear_search(l1,4)\n",
    "print(index)"
   ]
  },
  {
   "cell_type": "code",
   "execution_count": 9,
   "id": "814cc9fb",
   "metadata": {},
   "outputs": [
    {
     "name": "stdout",
     "output_type": "stream",
     "text": [
      "[2, 1, 5, 3, 6]\n"
     ]
    }
   ],
   "source": [
    "def increment(l1):\n",
    "    l1[4] = 6\n",
    "    return l1\n",
    "\n",
    "l1  = [2,1,5,3,3]\n",
    "increment(l1)\n",
    "print(l1)"
   ]
  },
  {
   "cell_type": "markdown",
   "id": "c4586b64",
   "metadata": {},
   "source": [
    "#### Reverse"
   ]
  },
  {
   "cell_type": "code",
   "execution_count": 23,
   "id": "be6e9c66",
   "metadata": {},
   "outputs": [
    {
     "name": "stdout",
     "output_type": "stream",
     "text": [
      "[5, 4, 3, 2, 1]\n"
     ]
    }
   ],
   "source": [
    "def reverse(li):\n",
    "    length = len(li)\n",
    "    for i in range(length//2):\n",
    "        li[i],li[length-1-i] = li[length-1-i],li[i]\n",
    "li = [1,2,3,4,5]\n",
    "reverse(li)\n",
    "print(li)"
   ]
  },
  {
   "cell_type": "markdown",
   "id": "26b6f09a",
   "metadata": {},
   "source": [
    "#### Swap"
   ]
  },
  {
   "cell_type": "code",
   "execution_count": 36,
   "id": "803fb769",
   "metadata": {},
   "outputs": [
    {
     "name": "stdout",
     "output_type": "stream",
     "text": [
      "[1, 2, 1, 4, 7, 6]\n"
     ]
    }
   ],
   "source": [
    "def swap(arr,n):\n",
    "    if n%2 == 0:\n",
    "        for i in range(0,n,2):\n",
    "            arr[i],arr[i+1]=arr[i+1],arr[i]\n",
    "            \n",
    "        else:\n",
    "            for i in range(0,n-1,2):\n",
    "                arr[i],arr[i+1]=arr[i+1],arr[i]\n",
    "                return arr\n",
    "    \n",
    "arr = [1,2,4,1,6,7]\n",
    "n = len(arr)\n",
    "a =swap(arr,n)\n",
    "print(a)"
   ]
  },
  {
   "cell_type": "markdown",
   "id": "37227b1a",
   "metadata": {},
   "source": [
    "### Assignment 5"
   ]
  },
  {
   "cell_type": "markdown",
   "id": "ef9d0e7a",
   "metadata": {},
   "source": [
    "#### Find Unique"
   ]
  },
  {
   "cell_type": "code",
   "execution_count": 38,
   "id": "52220293",
   "metadata": {},
   "outputs": [
    {
     "name": "stdout",
     "output_type": "stream",
     "text": [
      "2\n"
     ]
    }
   ],
   "source": [
    "def find_Unique(arr, n) :\n",
    "    ans = 0\n",
    "    for i in range(n):\n",
    "        ans = ans^arr[i] # xor nulify the paired numbers\n",
    "    return ans\n",
    "arr = [1,4,1,5,5,2,4]\n",
    "n = len(arr)\n",
    "a = find_Unique(arr,n)\n",
    "print(a)"
   ]
  },
  {
   "cell_type": "markdown",
   "id": "cad9ca40",
   "metadata": {},
   "source": [
    "#### Find Duplicate"
   ]
  },
  {
   "cell_type": "code",
   "execution_count": 10,
   "id": "26883b1b",
   "metadata": {},
   "outputs": [
    {
     "name": "stdout",
     "output_type": "stream",
     "text": [
      "4\n"
     ]
    }
   ],
   "source": [
    "def find_Dupli(arr,n):\n",
    "    for i in range(n):\n",
    "            j = 0\n",
    "            while j<i:\n",
    "                if arr[i] == arr[j]:\n",
    "                   return arr[i]\n",
    "                j+=1\n",
    "arr = [1,4,2,4,5,9,0]\n",
    "n = len(arr)\n",
    "a = find_Dupli(arr,n)\n",
    "print(a)"
   ]
  },
  {
   "cell_type": "markdown",
   "id": "25757a8e",
   "metadata": {},
   "source": [
    "#### Intersection"
   ]
  },
  {
   "cell_type": "code",
   "execution_count": 26,
   "id": "7107efb6",
   "metadata": {},
   "outputs": [
    {
     "name": "stdout",
     "output_type": "stream",
     "text": [
      "2\n"
     ]
    }
   ],
   "source": [
    "def intersec(arr1, n, arr2, m) :\n",
    "    for i in range(len(arr1)):\n",
    "    \n",
    "        for j in range(len(arr2)):\n",
    "            if arr1[i] == arr2[j] :\n",
    "                print(arr1[i],end=' ')\n",
    "                arr2.remove(arr2[j])\n",
    "                break\n",
    "                \n",
    "arr1 = [2,6,1,2]\n",
    "n = len(arr1)\n",
    "arr2 = [1,2,3,4,2]\n",
    "m = len(arr2)\n",
    "a = intersec(arr1,n,arr2,m)\n",
    "print(a)"
   ]
  },
  {
   "cell_type": "markdown",
   "id": "186554de",
   "metadata": {},
   "source": [
    "#### Pairs Sum"
   ]
  },
  {
   "cell_type": "code",
   "execution_count": 3,
   "id": "a1f16010",
   "metadata": {},
   "outputs": [
    {
     "name": "stdout",
     "output_type": "stream",
     "text": [
      "4\n"
     ]
    }
   ],
   "source": [
    "def pairSum(arr, n, x) :\n",
    "    numPairs=0\n",
    "    for i in range(n):\n",
    "        for j in range(i+1,n):\n",
    "            if arr[i]+arr[j]==x:\n",
    "                numPairs+=1 \n",
    "    return numPairs\n",
    "arr = [1,5,3,6,3,4,1]\n",
    "x = 7\n",
    "n = len(arr)\n",
    "a =pairSum(arr,n,x)\n",
    "print(a)\n"
   ]
  },
  {
   "cell_type": "markdown",
   "id": "2b3c4d08",
   "metadata": {},
   "source": [
    "#### Triplet Sum"
   ]
  },
  {
   "cell_type": "code",
   "execution_count": 3,
   "id": "af300c9b",
   "metadata": {},
   "outputs": [
    {
     "name": "stdout",
     "output_type": "stream",
     "text": [
      "1\n"
     ]
    }
   ],
   "source": [
    "def triplet(arr,x,n):\n",
    "    pair = 0\n",
    "    for i in range(n):\n",
    "        for j in range(i+1,n):\n",
    "            for k in range(j+1,n):\n",
    "                if arr[i]+arr[j]+arr[k]==x:\n",
    "                    pair+=1\n",
    "    return pair\n",
    "\n",
    "arr = [4,5,9,1,3,7]\n",
    "x = 10\n",
    "n = len(arr)\n",
    "a = triplet(arr,x,n)\n",
    "print(a)"
   ]
  },
  {
   "cell_type": "markdown",
   "id": "c5eff2a2",
   "metadata": {},
   "source": [
    "#### Sort 0 1"
   ]
  },
  {
   "cell_type": "code",
   "execution_count": 4,
   "id": "cbecada3",
   "metadata": {},
   "outputs": [
    {
     "name": "stdout",
     "output_type": "stream",
     "text": [
      "[0, 0, 0, 0, 0, 1, 1, 1, 1, 1]\n"
     ]
    }
   ],
   "source": [
    "arr = [0,1,1,0,0,1,0,1,0,1]\n",
    "arr.sort()\n",
    "print(arr)\n"
   ]
  },
  {
   "cell_type": "code",
   "execution_count": null,
   "id": "6f40500c",
   "metadata": {},
   "outputs": [],
   "source": []
  }
 ],
 "metadata": {
  "kernelspec": {
   "display_name": "Python 3 (ipykernel)",
   "language": "python",
   "name": "python3"
  },
  "language_info": {
   "codemirror_mode": {
    "name": "ipython",
    "version": 3
   },
   "file_extension": ".py",
   "mimetype": "text/x-python",
   "name": "python",
   "nbconvert_exporter": "python",
   "pygments_lexer": "ipython3",
   "version": "3.9.12"
  }
 },
 "nbformat": 4,
 "nbformat_minor": 5
}
