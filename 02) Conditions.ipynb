{
 "cells": [
  {
   "cell_type": "markdown",
   "id": "67ad72d5",
   "metadata": {},
   "source": [
    "#### Check N Numbers"
   ]
  },
  {
   "cell_type": "code",
   "execution_count": 6,
   "id": "07c80458",
   "metadata": {},
   "outputs": [
    {
     "name": "stdout",
     "output_type": "stream",
     "text": [
      "4\n",
      "Positive\n"
     ]
    }
   ],
   "source": [
    "n = int(input())\n",
    "if n>0:\n",
    "    print(\"Positive\")\n",
    "elif n == 0:\n",
    "    print(\"Zero\")\n",
    "else:\n",
    "    print(\"Negative\")\n"
   ]
  },
  {
   "cell_type": "markdown",
   "id": "88d0ca2c",
   "metadata": {},
   "source": [
    "#### Sum of n numbers"
   ]
  },
  {
   "cell_type": "code",
   "execution_count": 8,
   "id": "e352a47c",
   "metadata": {},
   "outputs": [
    {
     "name": "stdout",
     "output_type": "stream",
     "text": [
      "5\n",
      "15\n"
     ]
    }
   ],
   "source": [
    "n = int(input())\n",
    "i = 0\n",
    "sum = 0\n",
    "while i<=n:\n",
    "    sum = i+sum  \n",
    "    i = i+1\n",
    "\n",
    "print(sum)"
   ]
  },
  {
   "cell_type": "markdown",
   "id": "f44d8718",
   "metadata": {},
   "source": [
    "#### Sum of even Numbers"
   ]
  },
  {
   "cell_type": "code",
   "execution_count": 10,
   "id": "ca9c2066",
   "metadata": {},
   "outputs": [
    {
     "name": "stdout",
     "output_type": "stream",
     "text": [
      "9\n",
      "20\n"
     ]
    }
   ],
   "source": [
    "n = int(input())\n",
    "i = 1\n",
    "r = 0\n",
    "while i<=n:\n",
    "    if i%2 == 0:\n",
    "        r = i+r\n",
    "    i += 1\n",
    "print(r)"
   ]
  },
  {
   "cell_type": "markdown",
   "id": "d92b9602",
   "metadata": {},
   "source": [
    "#### Fahrenheit to celsius\n"
   ]
  },
  {
   "cell_type": "code",
   "execution_count": 13,
   "id": "dcaf94f7",
   "metadata": {},
   "outputs": [
    {
     "name": "stdout",
     "output_type": "stream",
     "text": [
      "0\n",
      "100\n",
      "20\n",
      "0 -17\n",
      "20 -6\n",
      "40 4\n",
      "60 15\n",
      "80 26\n",
      "100 37\n"
     ]
    }
   ],
   "source": [
    "start = int(input())\n",
    "end = int(input())\n",
    "inter = int(input())\n",
    "while start<=end:\n",
    "  tem = start\n",
    "  cel = (tem-32)*5/9\n",
    "  print(start,int(cel))\n",
    "  start += inter"
   ]
  },
  {
   "cell_type": "markdown",
   "id": "22b6ad0e",
   "metadata": {},
   "source": [
    "### Assignment 2"
   ]
  },
  {
   "cell_type": "markdown",
   "id": "6621e01f",
   "metadata": {},
   "source": [
    "#### Calculator"
   ]
  },
  {
   "cell_type": "code",
   "execution_count": 17,
   "id": "318896af",
   "metadata": {},
   "outputs": [
    {
     "name": "stdout",
     "output_type": "stream",
     "text": [
      "1\n",
      "2\n",
      "1\n",
      "3\n",
      "6\n"
     ]
    }
   ],
   "source": [
    "while True:\n",
    "    a = int(input())\n",
    "    if a ==1:  #==6 break   \n",
    "        num1 = int(input())\n",
    "        num2 = int(input())\n",
    "        sum = num1+num2\n",
    "        print(sum)        \n",
    "    elif a ==2:\n",
    "            num1 = int(input())\n",
    "            num2 = int(input())\n",
    "            sum = num1-num2\n",
    "            print(sum)\n",
    "    elif a ==3:\n",
    "            num1 = int(input())\n",
    "            num2 = int(input())\n",
    "            sum = num1*num2\n",
    "            print(sum)           \n",
    "    elif a ==4:\n",
    "            num1 = int(input())\n",
    "            num2 = int(input())\n",
    "            sum = int(num1/num2)\n",
    "            print(sum)\n",
    "    elif a ==5:\n",
    "            num1 = int(input())\n",
    "            num2 = int(input())\n",
    "            sum = num1%num2\n",
    "            print(sum)\n",
    "    elif a == 6:\n",
    "            break\n",
    "    else:\n",
    "        print(\"Invalid Operation\")\n",
    "\n",
    "    \n",
    "\n"
   ]
  },
  {
   "cell_type": "markdown",
   "id": "02b44f33",
   "metadata": {},
   "source": [
    "#### Reverse Number"
   ]
  },
  {
   "cell_type": "code",
   "execution_count": 19,
   "id": "88de90a0",
   "metadata": {},
   "outputs": [
    {
     "name": "stdout",
     "output_type": "stream",
     "text": [
      "124\n",
      "421\n"
     ]
    }
   ],
   "source": [
    "num = int(input())  \n",
    "rev = 0\n",
    "while num != 0: \n",
    "    rem = num%10\t\n",
    "    rev = (rev * 10)+rem \n",
    "    num = num//10 \n",
    "print(rev)"
   ]
  },
  {
   "cell_type": "markdown",
   "id": "64a55855",
   "metadata": {},
   "source": [
    "#### Palindrome number"
   ]
  },
  {
   "cell_type": "code",
   "execution_count": 21,
   "id": "7ca6ec52",
   "metadata": {},
   "outputs": [
    {
     "name": "stdout",
     "output_type": "stream",
     "text": [
      "121\n",
      "true\n"
     ]
    }
   ],
   "source": [
    "def palindrome(num):\n",
    "\tnum1 = num\n",
    "\trev = 0\n",
    "\twhile num>0:\n",
    "\t\trem = num%10\n",
    "\t\trev = rev*10+rem\n",
    "\t\tnum = num//10\n",
    "\treturn rev == num1\n",
    "\t\n",
    "\n",
    "num = int(input())\n",
    "ispalindrome = palindrome(num)\n",
    "if ispalindrome:\n",
    "\tprint(\"true\")\n",
    "else:\n",
    "\tprint(\"false\")"
   ]
  },
  {
   "cell_type": "markdown",
   "id": "6105f72d",
   "metadata": {},
   "source": [
    "#### Sum of Even & Odd"
   ]
  },
  {
   "cell_type": "code",
   "execution_count": 23,
   "id": "39191a55",
   "metadata": {},
   "outputs": [
    {
     "name": "stdout",
     "output_type": "stream",
     "text": [
      "552245\n",
      "8 15\n"
     ]
    }
   ],
   "source": [
    "num = int(input())\n",
    "sum_e = 0\n",
    "sum_o = 0\n",
    "while num !=0:\n",
    "\tlast = num%10\n",
    "\tnum = num//10\n",
    "\tif last%2==0:\n",
    "\t\tsum_e = sum_e+last\n",
    "\telse:\n",
    "\t\tsum_o = sum_o+last\n",
    "print(sum_e, sum_o)\n"
   ]
  },
  {
   "cell_type": "markdown",
   "id": "2c5c730d",
   "metadata": {},
   "source": [
    "#### Nth Fibonacci series"
   ]
  },
  {
   "cell_type": "code",
   "execution_count": 28,
   "id": "aa70318c",
   "metadata": {},
   "outputs": [
    {
     "name": "stdout",
     "output_type": "stream",
     "text": [
      "6\n",
      "8\n"
     ]
    }
   ],
   "source": [
    "n = int(input())\n",
    "i = 0\n",
    "j = 1\n",
    "k = 0\n",
    "fib = 0\n",
    "while i<n:\n",
    "    fib = j+k\n",
    "    j = k\n",
    "    k = fib\n",
    "    i += 1\n",
    "\n",
    "print(fib)"
   ]
  }
 ],
 "metadata": {
  "kernelspec": {
   "display_name": "Python 3 (ipykernel)",
   "language": "python",
   "name": "python3"
  },
  "language_info": {
   "codemirror_mode": {
    "name": "ipython",
    "version": 3
   },
   "file_extension": ".py",
   "mimetype": "text/x-python",
   "name": "python",
   "nbconvert_exporter": "python",
   "pygments_lexer": "ipython3",
   "version": "3.9.12"
  }
 },
 "nbformat": 4,
 "nbformat_minor": 5
}
