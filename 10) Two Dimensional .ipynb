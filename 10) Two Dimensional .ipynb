{
 "cells": [
  {
   "cell_type": "markdown",
   "id": "e884e7e9",
   "metadata": {},
   "source": [
    "#### List Storing"
   ]
  },
  {
   "cell_type": "code",
   "execution_count": 9,
   "id": "9eb6767b",
   "metadata": {},
   "outputs": [
    {
     "data": {
      "text/plain": [
       "[[2, 'Hardik', 1, 1], [2, 5, 6, 8, 9]]"
      ]
     },
     "execution_count": 9,
     "metadata": {},
     "output_type": "execute_result"
    }
   ],
   "source": [
    "li = [[2,3,1,1],[2,5,6,8,9]]\n",
    "li[0][1]= \"Hardik\"  #Replaced 3 with 'Hardik'\n",
    "li\n"
   ]
  },
  {
   "cell_type": "code",
   "execution_count": 13,
   "id": "2fa143a8",
   "metadata": {},
   "outputs": [
    {
     "data": {
      "text/plain": [
       "[1, 4, 9, 16, 25]"
      ]
     },
     "execution_count": 13,
     "metadata": {},
     "output_type": "execute_result"
    }
   ],
   "source": [
    "li = [[1,2,3,4,5],[4,2,1,5]]\n",
    "t = [ele**2 for ele in li[0]]\n",
    "t"
   ]
  },
  {
   "cell_type": "markdown",
   "id": "a37d040c",
   "metadata": {},
   "source": [
    "#### Squaring"
   ]
  },
  {
   "cell_type": "code",
   "execution_count": 16,
   "id": "1da4b898",
   "metadata": {},
   "outputs": [
    {
     "name": "stdout",
     "output_type": "stream",
     "text": [
      "Long [4, 16]\n",
      "Short [4, 16]\n"
     ]
    }
   ],
   "source": [
    "li = [1,2,3,4]\n",
    "li_eve = []\n",
    "for ele in li:\n",
    "    if ele%2 == 0:\n",
    "        li_eve.append(ele**2)\n",
    "print(\"Long\",li_eve)\n",
    "\n",
    "li_eve = [ele**2 for ele in li if ele%2==0]\n",
    "print(\"Short\",li_eve)\n",
    "        \n"
   ]
  },
  {
   "cell_type": "markdown",
   "id": "7dad61dd",
   "metadata": {},
   "source": [
    "### List Comprehesion "
   ]
  },
  {
   "cell_type": "markdown",
   "id": "f6612f07",
   "metadata": {},
   "source": [
    "#### Multiple of Two and Three"
   ]
  },
  {
   "cell_type": "code",
   "execution_count": 19,
   "id": "7b717287",
   "metadata": {},
   "outputs": [
    {
     "name": "stdout",
     "output_type": "stream",
     "text": [
      "Long [6]\n",
      "Short [6]\n"
     ]
    }
   ],
   "source": [
    "li = [1,2,3,4,5,6,7,8,9]\n",
    "li_new=[]\n",
    "for ele in li:\n",
    "    if ele%2==0:\n",
    "        if ele%3==0:\n",
    "            li_new.append(ele)\n",
    "            \n",
    "print(\"Long\",li_new)\n",
    "li_new = [ele for ele in li if ele%2==0 if ele%3==0]\n",
    "print(\"Short\",li_new)"
   ]
  },
  {
   "cell_type": "markdown",
   "id": "3a401c11",
   "metadata": {},
   "source": [
    "#### List Intersection"
   ]
  },
  {
   "cell_type": "code",
   "execution_count": 1,
   "id": "0e4cf43d",
   "metadata": {},
   "outputs": [
    {
     "name": "stdout",
     "output_type": "stream",
     "text": [
      "2 3 6 7 5\n",
      "2 6 0 1 7\n",
      "[2, 6, 7]\n"
     ]
    }
   ],
   "source": [
    "li_1 = list(map(int,input().split()))\n",
    "li_2 = list(map(int,input().split()))\n",
    "li_inter = [ele for ele in li_1 for ele2 in li_2 if ele==ele2]\n",
    "\n",
    "print(li_inter)  "
   ]
  },
  {
   "cell_type": "markdown",
   "id": "fddcc654",
   "metadata": {},
   "source": [
    "#### RowXColumn"
   ]
  },
  {
   "cell_type": "code",
   "execution_count": 3,
   "id": "9475213c",
   "metadata": {},
   "outputs": [
    {
     "name": "stdout",
     "output_type": "stream",
     "text": [
      "[[0, 0, 0, 0], [0, 1, 2, 3], [0, 2, 4, 6]]\n"
     ]
    }
   ],
   "source": [
    "li = [[i*j for j in range(4)] for i in range(3)]\n",
    "print(li)"
   ]
  },
  {
   "cell_type": "markdown",
   "id": "696f51a7",
   "metadata": {},
   "source": [
    "#### Square Even and Odd"
   ]
  },
  {
   "cell_type": "code",
   "execution_count": 29,
   "id": "e5ab6c45",
   "metadata": {},
   "outputs": [
    {
     "name": "stdout",
     "output_type": "stream",
     "text": [
      "Even [0, 1, 4, 3, 16, 5, 36]\n",
      "Odd  [0, 1, 2, 9, 4, 25, 6]\n"
     ]
    }
   ],
   "source": [
    "li = [0,1,2,3,4,5,6]\n",
    "\n",
    "li_eve = [ele**2 if ele%2==0 else ele for ele in li ]\n",
    "print('Even',li_eve)\n",
    "li_odd = [ele**2 if ele%2==1 else ele for ele in li ]\n",
    "print('Odd ',li_odd)"
   ]
  },
  {
   "cell_type": "code",
   "execution_count": 25,
   "id": "a6af74f9",
   "metadata": {},
   "outputs": [
    {
     "data": {
      "text/plain": [
       "[['R', 'a', 'h', 'u', 'l'],\n",
       " ['S', 'a', 'm', 'e', 'u', 'l'],\n",
       " ['J', 'a', 'y', 's', 'h', 'a', 'n']]"
      ]
     },
     "execution_count": 25,
     "metadata": {},
     "output_type": "execute_result"
    }
   ],
   "source": [
    "li = ['Rahul','Sameul','Jayshan']\n",
    "li_2d = [[ch for ch in ele]for ele in li]\n",
    "li_2d"
   ]
  },
  {
   "cell_type": "code",
   "execution_count": 26,
   "id": "4a84f19c",
   "metadata": {},
   "outputs": [
    {
     "name": "stdout",
     "output_type": "stream",
     "text": [
      "['H', 'a', 'r', 'd', 'i', 'k', 'A', 'r', 'j', 'u', 'n', 'n', 'o', 'N', 'a', 'm', 'e']\n"
     ]
    }
   ],
   "source": [
    "li = ['Hardik',\"Arjun\",\"noName\"]\n",
    "s = []\n",
    "for ele in li:\n",
    "    for ch in ele:\n",
    "        s.append(ch)\n",
    "\n",
    "print(s)"
   ]
  },
  {
   "cell_type": "code",
   "execution_count": 5,
   "id": "9d846be6",
   "metadata": {},
   "outputs": [
    {
     "name": "stdout",
     "output_type": "stream",
     "text": [
      "6\n"
     ]
    }
   ],
   "source": [
    "def maxcol(mat):\n",
    "    nRow = len(mat) #no. of rows(3)\n",
    "    mCol = len(mat[0]) #no. of cols(4)\n",
    "    sum = 0\n",
    "    for i in range(nRow):\n",
    "        \n",
    "        for j in range(mCol):\n",
    "            sum+=mat[i][j]\n",
    "        return sum\n",
    "        sum = 0\n",
    "\n",
    "mat = [[1,2,3],[8,7,6],[9,10,11]]\n",
    "print(maxcol(mat))"
   ]
  },
  {
   "cell_type": "markdown",
   "id": "530b4482",
   "metadata": {},
   "source": [
    "#### Row Wise Sum"
   ]
  },
  {
   "cell_type": "code",
   "execution_count": 9,
   "id": "e1f3cdf7",
   "metadata": {},
   "outputs": [
    {
     "name": "stdout",
     "output_type": "stream",
     "text": [
      "[[1, 2, 3, 4], [2, 1, 4, 5], [6, 7, 8, 9]]\n",
      "10 12 30 None\n"
     ]
    }
   ],
   "source": [
    "\n",
    "def rowWiseSum(mat,nRows,mCols):\n",
    "    for i in range(nRows):\n",
    "        sum = 0\n",
    "        for j in range(mCols):\n",
    "            sum+=mat[i][j]\n",
    "        print(sum,end=' ')\n",
    "        sum = 0\n",
    "\n",
    "mat = [[1,2,3,4],[2,1,4,5],[6,7,8,9]]\n",
    "n = len(mat)\n",
    "m = len(mat[0])\n",
    "print(mat)\n",
    "ans = rowWiseSum(mat,n,m)\n",
    "print(ans)"
   ]
  },
  {
   "cell_type": "markdown",
   "id": "4e036441",
   "metadata": {},
   "source": [
    "#### Column wise Sum"
   ]
  },
  {
   "cell_type": "code",
   "execution_count": 7,
   "id": "3bc63af5",
   "metadata": {},
   "outputs": [
    {
     "name": "stdout",
     "output_type": "stream",
     "text": [
      "[[1, 2, 3, 4], [2, 1, 4, 5], [6, 7, 8, 9]]\n",
      "9 10 15 18 None\n"
     ]
    }
   ],
   "source": [
    "\n",
    "def colWiseSum(mat,nRows,mCols):\n",
    "    for j in range(mCols):\n",
    "        sum = 0\n",
    "        for i in range(nRows):\n",
    "            sum+=mat[i][j]\n",
    "        print(sum,end=' ')\n",
    "        sum = 0\n",
    "\n",
    "mat = [[1,2,3,4],[2,1,4,5],[6,7,8,9]]\n",
    "n = len(mat)\n",
    "m = len(mat[0])\n",
    "print(mat)\n",
    "ans = colWiseSum(mat,n,m)\n",
    "print(ans)"
   ]
  },
  {
   "cell_type": "markdown",
   "id": "acfaf607",
   "metadata": {},
   "source": [
    "#### Largest Row/Column"
   ]
  },
  {
   "cell_type": "code",
   "execution_count": 10,
   "id": "166c38a7",
   "metadata": {
    "scrolled": true
   },
   "outputs": [
    {
     "name": "stdout",
     "output_type": "stream",
     "text": [
      "row 2 30\n",
      "None\n"
     ]
    }
   ],
   "source": [
    "\n",
    "def findLargest(mat, nRows, mCols):\n",
    "    \n",
    "    \n",
    "    max_sumR=-2147483648\n",
    "    r_ind = 0\n",
    "    for i in range(nRows):\n",
    "        sum = 0\n",
    "        for j in range(mCols):\n",
    "            sum += mat[i][j]\n",
    "        if max_sumR<sum:\n",
    "            max_sumR=sum\n",
    "            r_ind = i\n",
    "        sum = 0\n",
    "    max_sumC=-2147483648\n",
    "    c_ind = 0\n",
    "    for j in range(mCols):\n",
    "        sum = 0\n",
    "        for i in range(nRows):\n",
    "            sum += mat[i][j]  \n",
    "        if max_sumC<sum:\n",
    "            max_sumC=sum\n",
    "            c_ind = j\n",
    "        sum = 0\n",
    "    if max_sumC>max_sumR:\n",
    "        print('column',c_ind,max_sumC)\n",
    "    else:\n",
    "        print('row',r_ind,max_sumR)\n",
    "            \n",
    "\n",
    "mat = [[1,2,3,4],[2,1,4,5],[6,7,8,9]]\n",
    "n = len(mat)\n",
    "m = len(mat[0])\n",
    "ans = findLargest(mat,n,m)\n",
    "print(ans)"
   ]
  },
  {
   "cell_type": "markdown",
   "id": "3bc21f08",
   "metadata": {},
   "source": [
    "#### Wave Print"
   ]
  },
  {
   "cell_type": "code",
   "execution_count": 14,
   "id": "1e626216",
   "metadata": {},
   "outputs": [
    {
     "name": "stdout",
     "output_type": "stream",
     "text": [
      "1 5 9 10 6 2 3 7 11 12 8 4 None\n"
     ]
    }
   ],
   "source": [
    "def wavePrint(mat, nRows, mCols):\n",
    "    \n",
    "    for j in range(mCols):\n",
    "        if j%2==0:\n",
    "            i = 0\n",
    "            while i<nRows:\n",
    "                print(mat[i][j],end=' ')\n",
    "                i+=1\n",
    "                \n",
    "        else:\n",
    "            i =nRows-1\n",
    "            while i>=0:\n",
    "                print(mat[i][j],end=' ')\n",
    "                i-=1\n",
    "                \n",
    "mat = [[1,2,3,4],[5,6,7,8],[9,10,11,12]]\n",
    "n = len(mat)\n",
    "m = len(mat[0])\n",
    "ans = wavePrint(mat,n,m)\n",
    "print(ans)"
   ]
  },
  {
   "cell_type": "markdown",
   "id": "b6a1dc52",
   "metadata": {},
   "source": [
    "#### Spiral Print"
   ]
  },
  {
   "cell_type": "code",
   "execution_count": 3,
   "id": "416636c0",
   "metadata": {},
   "outputs": [
    {
     "name": "stdout",
     "output_type": "stream",
     "text": [
      "[1, 2, 3, 4, 8, 12, 11, 10, 9, 5, 6, 7]\n"
     ]
    }
   ],
   "source": [
    "def spiralprint(mat,nRows,mCols):\n",
    "    iRows = 0\n",
    "    jCols = 0\n",
    "    res=[]\n",
    "    while (iRows<nRows and jCols<mCols):\n",
    "        for j in range(jCols,mCols):\n",
    "            res.append(mat[iRows][j])\n",
    "        for i in range(iRows+1,nRows-1):\n",
    "            res.append(mat[i][jCols-1])\n",
    "        if nRows != iRows+1:\n",
    "            for j in range(mCols-1,jCols-1,-1):\n",
    "                res.append(mat[nRows-1][j])\n",
    "        if jCols != mCols-1:\n",
    "            for i in range(nRows-2,iRows,-1):\n",
    "                res.append(mat[i][jCols])\n",
    "        iRows+=1\n",
    "        jCols+=1\n",
    "        nRows-=1\n",
    "        mCols-=1\n",
    "    return res\n",
    "        \n",
    "        \n",
    "mat = [[1,2,3,4],[5,6,7,8],[9,10,11,12]]\n",
    "nRows = len(mat)\n",
    "mCols = len(mat[0])\n",
    "print(spiralprint(mat,nRows,mCols))"
   ]
  },
  {
   "cell_type": "code",
   "execution_count": null,
   "id": "620fa67f",
   "metadata": {},
   "outputs": [],
   "source": []
  }
 ],
 "metadata": {
  "kernelspec": {
   "display_name": "Python 3 (ipykernel)",
   "language": "python",
   "name": "python3"
  },
  "language_info": {
   "codemirror_mode": {
    "name": "ipython",
    "version": 3
   },
   "file_extension": ".py",
   "mimetype": "text/x-python",
   "name": "python",
   "nbconvert_exporter": "python",
   "pygments_lexer": "ipython3",
   "version": "3.9.12"
  }
 },
 "nbformat": 4,
 "nbformat_minor": 5
}
