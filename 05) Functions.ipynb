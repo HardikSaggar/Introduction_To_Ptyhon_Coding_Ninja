{
 "cells": [
  {
   "cell_type": "markdown",
   "id": "d876742f",
   "metadata": {},
   "source": [
    "## Functions"
   ]
  },
  {
   "cell_type": "markdown",
   "id": "ff90e3e6",
   "metadata": {},
   "source": [
    "### Assignment 4"
   ]
  },
  {
   "cell_type": "markdown",
   "id": "66fb8f5d",
   "metadata": {},
   "source": [
    "#### Temprature"
   ]
  },
  {
   "cell_type": "code",
   "execution_count": 2,
   "id": "8ddfceef",
   "metadata": {
    "scrolled": true
   },
   "outputs": [
    {
     "name": "stdout",
     "output_type": "stream",
     "text": [
      "0\n",
      "10\n",
      "2\n",
      "0 -17\n",
      "2 -16\n",
      "4 -15\n",
      "6 -14\n",
      "8 -13\n",
      "10 -12\n"
     ]
    }
   ],
   "source": [
    "def printTable(start,end,step):\n",
    "\t# temp = start\n",
    "\twhile start<=end:\n",
    "\t\ttemp = start\n",
    "\t\tcel = (temp-32)*5/9\n",
    "\t\tprint(temp,int(cel))\n",
    "\t\tstart+=step\n",
    "\n",
    "\t   \n",
    "s = int(input())\n",
    "e = int(input())\n",
    "step = int(input())\n",
    "printTable(s,e,step)\n"
   ]
  },
  {
   "cell_type": "markdown",
   "id": "ffb07238",
   "metadata": {},
   "source": [
    "#### Fibonacci Members"
   ]
  },
  {
   "cell_type": "code",
   "execution_count": 2,
   "id": "e5c8eb30",
   "metadata": {},
   "outputs": [
    {
     "name": "stdout",
     "output_type": "stream",
     "text": [
      "545\n",
      "false\n"
     ]
    }
   ],
   "source": [
    "number =  int(input())\n",
    "first = 0\n",
    "second = 1\n",
    "last = 1\n",
    "while number>first:\n",
    "    last = first+second\n",
    "    first = second\n",
    "    second = last\n",
    "if number == first:\n",
    "    print('true')\n",
    "else:\n",
    "    print('false')"
   ]
  },
  {
   "cell_type": "markdown",
   "id": "bbf9f180",
   "metadata": {},
   "source": [
    "#### Palindrome"
   ]
  },
  {
   "cell_type": "code",
   "execution_count": 3,
   "id": "d293b327",
   "metadata": {},
   "outputs": [
    {
     "name": "stdout",
     "output_type": "stream",
     "text": [
      "121\n",
      "true\n"
     ]
    }
   ],
   "source": [
    "def palindrome(num):\n",
    "\tnum1 = num\n",
    "\trev = 0\n",
    "\twhile num>0:\n",
    "\t\trem = num%10\n",
    "\t\trev = rev*10+rem\n",
    "\t\tnum = num//10\n",
    "\treturn rev == num1\n",
    "\t\n",
    "\n",
    "num = int(input())\n",
    "ispalindrome = palindrome(num)\n",
    "if ispalindrome:\n",
    "\tprint(\"true\")\n",
    "else:\n",
    "\tprint(\"false\")"
   ]
  },
  {
   "cell_type": "markdown",
   "id": "2ce5d058",
   "metadata": {},
   "source": [
    "#### Armstrong"
   ]
  },
  {
   "cell_type": "code",
   "execution_count": 4,
   "id": "4ed1d061",
   "metadata": {},
   "outputs": [
    {
     "name": "stdout",
     "output_type": "stream",
     "text": [
      "371\n",
      "true\n"
     ]
    }
   ],
   "source": [
    "n = int(input())\n",
    "\n",
    "sum = 0\n",
    "order = len(str(n))\n",
    "copy_n = n\n",
    "for digits in range(n,0,-1):\n",
    "    digits = n%10\n",
    "    sum += digits**order\n",
    "    n = n//10\n",
    "   \n",
    "if sum == copy_n:\n",
    "    print('true')\n",
    "else:\n",
    "    print(\"false\")\n"
   ]
  },
  {
   "cell_type": "code",
   "execution_count": null,
   "id": "55e8f0a7",
   "metadata": {},
   "outputs": [],
   "source": []
  }
 ],
 "metadata": {
  "kernelspec": {
   "display_name": "Python 3 (ipykernel)",
   "language": "python",
   "name": "python3"
  },
  "language_info": {
   "codemirror_mode": {
    "name": "ipython",
    "version": 3
   },
   "file_extension": ".py",
   "mimetype": "text/x-python",
   "name": "python",
   "nbconvert_exporter": "python",
   "pygments_lexer": "ipython3",
   "version": "3.9.12"
  }
 },
 "nbformat": 4,
 "nbformat_minor": 5
}
