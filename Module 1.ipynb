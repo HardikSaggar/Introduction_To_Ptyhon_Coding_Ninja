{
 "cells": [
  {
   "cell_type": "markdown",
   "id": "072b4e6e",
   "metadata": {},
   "source": [
    "## Module 1"
   ]
  },
  {
   "cell_type": "markdown",
   "id": "f717cc44",
   "metadata": {},
   "source": [
    "### Assignment 1"
   ]
  },
  {
   "cell_type": "markdown",
   "id": "899f45d3",
   "metadata": {},
   "source": [
    "#### Average"
   ]
  },
  {
   "cell_type": "code",
   "execution_count": 3,
   "id": "46bb2f79",
   "metadata": {},
   "outputs": [
    {
     "name": "stdout",
     "output_type": "stream",
     "text": [
      "89\n",
      "99\n",
      "19\n",
      "69.0\n"
     ]
    }
   ],
   "source": [
    "sub1 = int(input())\n",
    "sub2 = int(input())\n",
    "sub3 = int(input())\n",
    "avg = (sub1+sub2+sub3)/3\n",
    "print(avg)"
   ]
  },
  {
   "cell_type": "markdown",
   "id": "da3b34e0",
   "metadata": {},
   "source": [
    "#### X raise to power N"
   ]
  },
  {
   "cell_type": "code",
   "execution_count": 4,
   "id": "9dcdd717",
   "metadata": {},
   "outputs": [
    {
     "name": "stdout",
     "output_type": "stream",
     "text": [
      "5\n",
      "4\n",
      "625\n"
     ]
    }
   ],
   "source": [
    "x = int(input())\n",
    "n = int(input())\n",
    "print(x**n)"
   ]
  },
  {
   "cell_type": "markdown",
   "id": "53dc44f6",
   "metadata": {},
   "source": [
    "#### Arithmetic Progression"
   ]
  },
  {
   "cell_type": "code",
   "execution_count": 5,
   "id": "c952659c",
   "metadata": {},
   "outputs": [
    {
     "name": "stdout",
     "output_type": "stream",
     "text": [
      "4\n",
      "3\n",
      "2\n",
      "-1\n"
     ]
    }
   ],
   "source": [
    "a = int(input())\n",
    "b = int(input())\n",
    "c = int(input())\n",
    "diff = (c-b) and (b-a)\n",
    "print(diff)"
   ]
  },
  {
   "cell_type": "markdown",
   "id": "57ac060c",
   "metadata": {},
   "source": [
    "#### Rectangular Area"
   ]
  },
  {
   "cell_type": "code",
   "execution_count": 6,
   "id": "f282dd91",
   "metadata": {},
   "outputs": [
    {
     "name": "stdout",
     "output_type": "stream",
     "text": [
      "1\n",
      "3\n",
      "1\n",
      "3\n",
      "0\n"
     ]
    }
   ],
   "source": [
    "x1 = int(input())\n",
    "x2 = int(input())\n",
    "y1 = int(input())\n",
    "y2 = int(input())\n",
    "area = (y1-x1)*(y2-x2)\n",
    "print(area)"
   ]
  },
  {
   "cell_type": "markdown",
   "id": "ecf80450",
   "metadata": {},
   "source": [
    "### Assignment 2"
   ]
  },
  {
   "cell_type": "markdown",
   "id": "97654f77",
   "metadata": {},
   "source": [
    "#### Check Number"
   ]
  },
  {
   "cell_type": "code",
   "execution_count": 7,
   "id": "2e7a0ab7",
   "metadata": {},
   "outputs": [
    {
     "name": "stdout",
     "output_type": "stream",
     "text": [
      "5\n",
      "Positive\n"
     ]
    }
   ],
   "source": [
    "n = int(input())\n",
    "if n>0:\n",
    "    print(\"Positive\")\n",
    "elif n == 0:\n",
    "    print(\"Zero\")\n",
    "else:\n",
    "    print(\"Negative\")"
   ]
  },
  {
   "cell_type": "markdown",
   "id": "12b75ad9",
   "metadata": {},
   "source": [
    "#### Sum of n numbers"
   ]
  },
  {
   "cell_type": "code",
   "execution_count": 4,
   "id": "50e51e06",
   "metadata": {},
   "outputs": [
    {
     "name": "stdout",
     "output_type": "stream",
     "text": [
      "0+1= 0\n",
      "1+2= 1\n",
      "3+3= 3\n",
      "6+4= 6\n",
      "10+5= 10\n",
      "15+6= 15\n",
      "21+7= 21\n",
      "28+8= 28\n",
      "36+9= 36\n",
      "45+10= 45\n",
      "55+11= 55\n"
     ]
    }
   ],
   "source": [
    "n = 10\n",
    "i = 0\n",
    "sum = 0\n",
    "while n>=i:\n",
    "  sum += i\n",
    "  i += 1\n",
    "  print(f\"{sum}+{i}=\",sum)"
   ]
  },
  {
   "cell_type": "markdown",
   "id": "fd5cab5d",
   "metadata": {},
   "source": [
    "#### Sum of even Number"
   ]
  },
  {
   "cell_type": "code",
   "execution_count": 5,
   "id": "0e05b0c5",
   "metadata": {},
   "outputs": [
    {
     "name": "stdout",
     "output_type": "stream",
     "text": [
      "5\n",
      "6\n"
     ]
    }
   ],
   "source": [
    "n = int(input())\n",
    "i = 1\n",
    "r = 0\n",
    "while i<=n:\n",
    "    if i%2 == 0:\n",
    "        r = i+r\n",
    "    i += 1\n",
    "print(r)"
   ]
  },
  {
   "cell_type": "markdown",
   "id": "7ed3a92a",
   "metadata": {},
   "source": [
    "#### Fahrenheit to Celsius"
   ]
  },
  {
   "cell_type": "code",
   "execution_count": 5,
   "id": "dbdc4021",
   "metadata": {},
   "outputs": [
    {
     "name": "stdout",
     "output_type": "stream",
     "text": [
      "0 -17\n",
      "20 -6\n",
      "40 4\n",
      "60 15\n",
      "80 26\n",
      "100 37\n"
     ]
    }
   ],
   "source": [
    "start = 0\n",
    "end = 100\n",
    "inter = 20\n",
    "while start<=end:\n",
    "  tem = start\n",
    "  cel = (tem-32)*5/9\n",
    "  print(start,int(cel))\n",
    "  start += inter\n",
    " "
   ]
  },
  {
   "cell_type": "markdown",
   "id": "87de58c8",
   "metadata": {},
   "source": [
    "#### Calculator"
   ]
  },
  {
   "cell_type": "code",
   "execution_count": null,
   "id": "370f0cd5",
   "metadata": {},
   "outputs": [],
   "source": [
    "while True:\n",
    "    a = int(input())\n",
    "    if a ==1:  #==6 break   \n",
    "        num1 = int(input())\n",
    "        num2 = int(input())\n",
    "        sum = num1+num2\n",
    "        print(sum)        \n",
    "    elif a ==2:\n",
    "            num1 = int(input())\n",
    "            num2 = int(input())\n",
    "            sum = num1-num2\n",
    "            print(sum)\n",
    "    elif a ==3:\n",
    "            num1 = int(input())\n",
    "            num2 = int(input())\n",
    "            sum = num1*num2\n",
    "            print(sum)           \n",
    "    elif a ==4:\n",
    "            num1 = int(input())\n",
    "            num2 = int(input())\n",
    "            sum = int(num1/num2)\n",
    "            print(sum)\n",
    "    elif a ==5:\n",
    "            num1 = int(input())\n",
    "            num2 = int(input())\n",
    "            sum = num1%num2\n",
    "            print(sum)\n",
    "    elif a == 6:\n",
    "            break\n",
    "    else:\n",
    "        print(\"Invalid Operation\")\n"
   ]
  },
  {
   "cell_type": "markdown",
   "id": "f01d0e13",
   "metadata": {},
   "source": [
    "#### Reverse Number"
   ]
  },
  {
   "cell_type": "code",
   "execution_count": 11,
   "id": "fb243cf5",
   "metadata": {
    "scrolled": true
   },
   "outputs": [
    {
     "name": "stdout",
     "output_type": "stream",
     "text": [
      "123\n",
      "3\n",
      "32\n",
      "321\n",
      "321\n"
     ]
    }
   ],
   "source": [
    "num = int(input())  \n",
    "rev = 0\n",
    "while num != 0: \n",
    "    rem = num%10 \n",
    "    rev = (rev * 10)+rem \n",
    "    num = num//10 \n",
    "    print(rev)\n",
    "print(rev)"
   ]
  },
  {
   "cell_type": "markdown",
   "id": "ce2cf9cb",
   "metadata": {},
   "source": [
    "#### Palindrome"
   ]
  },
  {
   "cell_type": "code",
   "execution_count": null,
   "id": "d1021974",
   "metadata": {},
   "outputs": [],
   "source": [
    "def palindrome(num):\n",
    "\tnum1 = num\n",
    "\trev = 0\n",
    "\twhile num>0:\n",
    "\t\trem = num%10\n",
    "\t\trev = rev*10+rem\n",
    "\t\tnum = num//10\n",
    "\treturn rev == num1\n",
    "\t\n",
    "\n",
    "num = int(input(\"CheckNo.\"))\n",
    "ispalindrome = palindrome(num)\n",
    "if ispalindrome:\n",
    "\tprint(\"True\")\n",
    "else:\n",
    "\tprint(\"False\")"
   ]
  },
  {
   "cell_type": "markdown",
   "id": "80144132",
   "metadata": {},
   "source": [
    "#### Sum of odd and evens"
   ]
  },
  {
   "cell_type": "code",
   "execution_count": 1,
   "id": "dea5fca0",
   "metadata": {},
   "outputs": [
    {
     "name": "stdout",
     "output_type": "stream",
     "text": [
      "8 15\n"
     ]
    }
   ],
   "source": [
    "num = 552245\n",
    "even = 0\n",
    "odd = 0\n",
    "while num>0:\n",
    "  last = num%10\n",
    "  num = num//10\n",
    "  if last%2 == 0:\n",
    "    even += last\n",
    "  else:\n",
    "    odd += last\n",
    "\n",
    "print(even,odd)"
   ]
  },
  {
   "cell_type": "markdown",
   "id": "54f3a82c",
   "metadata": {},
   "source": [
    "#### Fibonacci Series"
   ]
  },
  {
   "cell_type": "code",
   "execution_count": 16,
   "id": "72252d66",
   "metadata": {},
   "outputs": [
    {
     "name": "stdout",
     "output_type": "stream",
     "text": [
      "10\n",
      "1\n",
      "1\n",
      "2\n",
      "3\n",
      "5\n",
      "8\n",
      "13\n",
      "21\n",
      "34\n",
      "55\n"
     ]
    }
   ],
   "source": [
    "n = int(input())\n",
    "i = 0\n",
    "j = 1\n",
    "k = 0\n",
    "fib = 0\n",
    "while i<n:\n",
    "    fib = j+k\n",
    "    j = k\n",
    "    k = fib\n",
    "    i += 1\n",
    "    print(fib)"
   ]
  },
  {
   "cell_type": "markdown",
   "id": "f0d2a43c",
   "metadata": {},
   "source": [
    "### Practice 1"
   ]
  },
  {
   "cell_type": "markdown",
   "id": "151b6042",
   "metadata": {},
   "source": [
    "### Square's Pattern "
   ]
  },
  {
   "cell_type": "markdown",
   "id": "bdde5f0f",
   "metadata": {},
   "source": [
    "#### Box Pattern1"
   ]
  },
  {
   "cell_type": "code",
   "execution_count": 2,
   "id": "b1f38bc4",
   "metadata": {},
   "outputs": [
    {
     "name": "stdout",
     "output_type": "stream",
     "text": [
      "4444\n",
      "4444\n",
      "4444\n",
      "4444\n"
     ]
    }
   ],
   "source": [
    "num = 4\n",
    "row = 1\n",
    "while row<=num:\n",
    "  col = 1\n",
    "  while col<=num:\n",
    "    print(num,end='')\n",
    "    col += 1\n",
    "  print()\n",
    "  row += 1"
   ]
  },
  {
   "cell_type": "markdown",
   "id": "4e027a6e",
   "metadata": {},
   "source": [
    "#### Box  Pattern 2"
   ]
  },
  {
   "cell_type": "code",
   "execution_count": 18,
   "id": "c75e55ad",
   "metadata": {
    "scrolled": true
   },
   "outputs": [
    {
     "name": "stdout",
     "output_type": "stream",
     "text": [
      "4\n",
      "####\n",
      "####\n",
      "####\n",
      "####\n"
     ]
    }
   ],
   "source": [
    "num = int(input())\n",
    "i = 1\n",
    "while i <= num:\n",
    "    j = 1\n",
    "    while j <= num:\n",
    "            print('#',end='')\n",
    "            j += 1\n",
    "    print()\n",
    "    i += 1"
   ]
  },
  {
   "cell_type": "markdown",
   "id": "521c3513",
   "metadata": {},
   "source": [
    "#### Box Pattern 3"
   ]
  },
  {
   "cell_type": "code",
   "execution_count": 29,
   "id": "726e707e",
   "metadata": {
    "scrolled": true
   },
   "outputs": [
    {
     "name": "stdout",
     "output_type": "stream",
     "text": [
      "4\n",
      "1111\n",
      "2222\n",
      "3333\n",
      "4444\n"
     ]
    }
   ],
   "source": [
    "num = int(input())\n",
    "i = 1\n",
    "while i <=num:\n",
    "    j = 1\n",
    "    while j <= num:\n",
    "        print(i,end='')\n",
    "        j += 1\n",
    "    print()\n",
    "    i += 1"
   ]
  },
  {
   "cell_type": "markdown",
   "id": "8ccc9649",
   "metadata": {},
   "source": [
    "#### Box Pattern 4"
   ]
  },
  {
   "cell_type": "code",
   "execution_count": 47,
   "id": "a487adce",
   "metadata": {
    "scrolled": true
   },
   "outputs": [
    {
     "name": "stdout",
     "output_type": "stream",
     "text": [
      "4\n",
      "1234\n",
      "1234\n",
      "1234\n",
      "1234\n"
     ]
    }
   ],
   "source": [
    "num = int(input())\n",
    "i = 1\n",
    "while i <=num:\n",
    "    j = 1\n",
    "    while j <= num:\n",
    "        print(j,end='')\n",
    "        j += 1\n",
    "    print()\n",
    "    i += 1"
   ]
  },
  {
   "cell_type": "markdown",
   "id": "bc155d7d",
   "metadata": {},
   "source": [
    "#### Box Pattern 5"
   ]
  },
  {
   "cell_type": "code",
   "execution_count": 45,
   "id": "b5bfab40",
   "metadata": {
    "scrolled": true
   },
   "outputs": [
    {
     "name": "stdout",
     "output_type": "stream",
     "text": [
      "4\n",
      "4444\n",
      "3333\n",
      "2222\n",
      "1111\n"
     ]
    }
   ],
   "source": [
    "num = int(input())\n",
    "i = 1\n",
    "while i <=num:\n",
    "    j = 1\n",
    "    while j <= num:\n",
    "        print(num-i+1,end='')\n",
    "        j += 1\n",
    "    print()\n",
    "    i += 1"
   ]
  },
  {
   "cell_type": "markdown",
   "id": "76210a10",
   "metadata": {},
   "source": [
    "#### Box Pattern 6"
   ]
  },
  {
   "cell_type": "code",
   "execution_count": 46,
   "id": "ebb1104a",
   "metadata": {
    "scrolled": true
   },
   "outputs": [
    {
     "name": "stdout",
     "output_type": "stream",
     "text": [
      "4\n",
      "4321\n",
      "4321\n",
      "4321\n",
      "4321\n"
     ]
    }
   ],
   "source": [
    "num = int(input())\n",
    "i = 1\n",
    "while i <=num:\n",
    "    j = 1\n",
    "    while j <= num:\n",
    "        print(num-j+1,end='')\n",
    "        j += 1\n",
    "    print()\n",
    "    i += 1"
   ]
  },
  {
   "cell_type": "markdown",
   "id": "0a3f8787",
   "metadata": {},
   "source": [
    "#### Triangles Pattern"
   ]
  },
  {
   "cell_type": "markdown",
   "id": "56368e61",
   "metadata": {},
   "source": [
    "#### Tri Pattern 1"
   ]
  },
  {
   "cell_type": "code",
   "execution_count": 5,
   "id": "3f21c520",
   "metadata": {
    "scrolled": true
   },
   "outputs": [
    {
     "name": "stdout",
     "output_type": "stream",
     "text": [
      "5\n",
      "1\n",
      "12\n",
      "123\n",
      "1234\n",
      "12345\n"
     ]
    }
   ],
   "source": [
    "num = int(input())\n",
    "i = 1\n",
    "while i <=num:            \n",
    "    j = 1                                \n",
    "    while j <= i:       \n",
    "        print(j,end='')   \n",
    "        j += 1                      \n",
    "    print()               \n",
    "    i += 1                "
   ]
  },
  {
   "cell_type": "markdown",
   "id": "9d19797f",
   "metadata": {},
   "source": [
    "#### Tri Pattern 2"
   ]
  },
  {
   "cell_type": "code",
   "execution_count": 4,
   "id": "e1982ed9",
   "metadata": {
    "scrolled": true
   },
   "outputs": [
    {
     "name": "stdout",
     "output_type": "stream",
     "text": [
      "5\n",
      "1\n",
      "22\n",
      "333\n",
      "4444\n",
      "55555\n"
     ]
    }
   ],
   "source": [
    "num = int(input())\n",
    "i = 1\n",
    "while i <=num:            \n",
    "    j = 1                 \n",
    "    while j <= i:       \n",
    "        print(i,end='')   \n",
    "        j += 1                      \n",
    "    print()               \n",
    "    i += 1                "
   ]
  },
  {
   "cell_type": "markdown",
   "id": "2f50e0fc",
   "metadata": {},
   "source": [
    "####  Tri Pattern 3"
   ]
  },
  {
   "cell_type": "code",
   "execution_count": 16,
   "id": "ccbe8cad",
   "metadata": {},
   "outputs": [
    {
     "name": "stdout",
     "output_type": "stream",
     "text": [
      "5\n",
      "1\n",
      "23\n",
      "345\n",
      "4567\n",
      "56789\n"
     ]
    }
   ],
   "source": [
    "num = int(input())\n",
    "i = 1\n",
    "while i <=num:            \n",
    "    j = 1                 \n",
    "    p = i                 \n",
    "    while j <= i:       \n",
    "        print(p,end='')   \n",
    "        p += 1\n",
    "        j += 1 \n",
    "    print()               \n",
    "    i += 1                "
   ]
  },
  {
   "cell_type": "markdown",
   "id": "755ad248",
   "metadata": {},
   "source": [
    "#### Tri Pattern 4"
   ]
  },
  {
   "cell_type": "code",
   "execution_count": 7,
   "id": "bcf49857",
   "metadata": {},
   "outputs": [
    {
     "name": "stdout",
     "output_type": "stream",
     "text": [
      "4\n",
      "1\n",
      "21\n",
      "321\n",
      "4321\n"
     ]
    }
   ],
   "source": [
    "n = int(input())\n",
    "i = 1\n",
    "while i<=n:\n",
    "    j = i\n",
    "    while j>=1:\n",
    "        print(j,end='')\n",
    "        j -= 1\n",
    "    print()\n",
    "    i += 1"
   ]
  },
  {
   "cell_type": "markdown",
   "id": "c3a26d48",
   "metadata": {},
   "source": [
    "#### Alphabet Pattern"
   ]
  },
  {
   "cell_type": "markdown",
   "id": "b4b8c29c",
   "metadata": {},
   "source": [
    "#### Pattern 1"
   ]
  },
  {
   "cell_type": "code",
   "execution_count": 17,
   "id": "5b105f6e",
   "metadata": {},
   "outputs": [
    {
     "name": "stdout",
     "output_type": "stream",
     "text": [
      "4\n",
      "ABCD\n",
      "ABCD\n",
      "ABCD\n",
      "ABCD\n"
     ]
    }
   ],
   "source": [
    "num = int(input())\n",
    "i = 1\n",
    "while i <=num:\n",
    "    j = 1\n",
    "    \n",
    "    while j <= num:\n",
    "        abc = chr(ord('A')+j-1)\n",
    "        print(abc,end='')\n",
    "        j += 1\n",
    "    print()\n",
    "    i += 1"
   ]
  },
  {
   "cell_type": "markdown",
   "id": "e305f702",
   "metadata": {},
   "source": [
    "#### Pattern 2"
   ]
  },
  {
   "cell_type": "code",
   "execution_count": 24,
   "id": "5a1fefe8",
   "metadata": {},
   "outputs": [
    {
     "name": "stdout",
     "output_type": "stream",
     "text": [
      "5\n",
      "AAAAA\n",
      "BBBBB\n",
      "CCCCC\n",
      "DDDDD\n",
      "EEEEE\n"
     ]
    }
   ],
   "source": [
    "num = int(input())\n",
    "i = 1\n",
    "while i <=num:\n",
    "    j = 1\n",
    "    \n",
    "    while j <= num:\n",
    "        charP = chr(ord('A')+i-1)\n",
    "        print(charP,end='')\n",
    "        j += 1\n",
    "    print()\n",
    "    i += 1"
   ]
  },
  {
   "cell_type": "markdown",
   "id": "ec6d385e",
   "metadata": {},
   "source": [
    "#### Pattern 3"
   ]
  },
  {
   "cell_type": "code",
   "execution_count": 10,
   "id": "fe5cdbcf",
   "metadata": {},
   "outputs": [
    {
     "name": "stdout",
     "output_type": "stream",
     "text": [
      "5\n",
      "ABCDE\n",
      "FGHIJ\n",
      "KLMNO\n",
      "PQRST\n",
      "UVWXY\n"
     ]
    }
   ],
   "source": [
    "num = int(input())\n",
    "i = 1\n",
    "p = 1\n",
    "while i <=num:\n",
    "    j = 1\n",
    "    while j <= num:\n",
    "        charP = chr(ord('A')+p-1)\n",
    "        print(charP,end='')\n",
    "        p += 1\n",
    "        j += 1\n",
    "    print()\n",
    "    i += 1"
   ]
  },
  {
   "cell_type": "markdown",
   "id": "dd5eb3b3",
   "metadata": {},
   "source": [
    "#### Pattern 4"
   ]
  },
  {
   "cell_type": "code",
   "execution_count": 5,
   "id": "b126573e",
   "metadata": {},
   "outputs": [
    {
     "name": "stdout",
     "output_type": "stream",
     "text": [
      "4\n",
      "ABCD\n",
      "BCDE\n",
      "CDEF\n",
      "DEFG\n"
     ]
    }
   ],
   "source": [
    "num = int(input())\n",
    "i = 1\n",
    "while i <=num:\n",
    "    j = 1\n",
    "    str_chr = chr(ord('A')+i-1)\n",
    "    while j <= num:\n",
    "        charP = chr(ord(str_chr)+j-1)\n",
    "        print(charP,end='')\n",
    "        j += 1\n",
    "    print()\n",
    "    i += 1"
   ]
  },
  {
   "cell_type": "markdown",
   "id": "6df059f3",
   "metadata": {},
   "source": [
    "#### Pattern 5"
   ]
  },
  {
   "cell_type": "code",
   "execution_count": 1,
   "id": "5c00fe4c",
   "metadata": {
    "scrolled": true
   },
   "outputs": [
    {
     "name": "stdout",
     "output_type": "stream",
     "text": [
      "4\n",
      "ABCD\n",
      "ABC\n",
      "AB\n",
      "A\n"
     ]
    }
   ],
   "source": [
    "num = int(input())\n",
    "i = 1\n",
    "while num >=i:\n",
    "    j = 1\n",
    "    # str_chr = chr(ord('A')+i-1)\n",
    "    while j <= num:\n",
    "        charP = chr(ord('A')+j-1)\n",
    "        print(charP,end='')\n",
    "        j += 1\n",
    "    print()\n",
    "    num -= 1"
   ]
  },
  {
   "cell_type": "markdown",
   "id": "690e740d",
   "metadata": {},
   "source": [
    "#### Pattern 6"
   ]
  },
  {
   "cell_type": "code",
   "execution_count": 19,
   "id": "65fc633a",
   "metadata": {},
   "outputs": [
    {
     "name": "stdout",
     "output_type": "stream",
     "text": [
      "EDCBA\n",
      "DCBA\n",
      "CBA\n",
      "BA\n",
      "A\n"
     ]
    }
   ],
   "source": [
    "n = 5\n",
    "for i in range(0,n):\n",
    "    str_char = chr(ord('A')+n-1)\n",
    "    for j in range(i,n):\n",
    "        charp = chr(ord(str_char)-j)\n",
    "        print(charp, end=\"\")\n",
    "    print()\n"
   ]
  },
  {
   "cell_type": "markdown",
   "id": "4c1c89d8",
   "metadata": {},
   "source": [
    "#### Pattern 7"
   ]
  },
  {
   "cell_type": "code",
   "execution_count": 5,
   "id": "8c53a532",
   "metadata": {},
   "outputs": [
    {
     "name": "stdout",
     "output_type": "stream",
     "text": [
      "5\n",
      "A\n",
      "AB\n",
      "ABC\n",
      "ABCD\n",
      "ABCDE\n"
     ]
    }
   ],
   "source": [
    "num = int(input())\n",
    "i = 1\n",
    "while i <=num:            \n",
    "    j = 1\n",
    "    setchar = chr(ord('A')+i)\n",
    "    while j <= i: \n",
    "        charp = chr(ord('A')+j-1)\n",
    "        print(charp,end='')   \n",
    "        j += 1                      \n",
    "    print()               \n",
    "    i += 1                "
   ]
  },
  {
   "cell_type": "markdown",
   "id": "7f0252bb",
   "metadata": {},
   "source": [
    "#### Pattern 8"
   ]
  },
  {
   "cell_type": "code",
   "execution_count": 3,
   "id": "d4226f0c",
   "metadata": {},
   "outputs": [
    {
     "name": "stdout",
     "output_type": "stream",
     "text": [
      "E\n",
      "DE\n",
      "CDE\n",
      "BCDE\n",
      "ABCDE\n"
     ]
    }
   ],
   "source": [
    "n = 5\n",
    "i = 1\n",
    "while i<=n:\n",
    "  char = chr(ord('A')+n-i)\n",
    "  j = 1\n",
    "  while j<=i:\n",
    "    strg = chr(ord(char)+j-1)\n",
    "    print(strg,end='')\n",
    "    j += 1\n",
    "  print()\n",
    "  i += 1"
   ]
  },
  {
   "cell_type": "markdown",
   "id": "e4f07190",
   "metadata": {},
   "source": [
    "### Practice 2 "
   ]
  },
  {
   "cell_type": "markdown",
   "id": "2bd357ce",
   "metadata": {},
   "source": [
    "#### Number Pattern 1"
   ]
  },
  {
   "cell_type": "code",
   "execution_count": 7,
   "id": "21d26c5e",
   "metadata": {
    "scrolled": true
   },
   "outputs": [
    {
     "name": "stdout",
     "output_type": "stream",
     "text": [
      "4\n",
      "1\n",
      "11\n",
      "111\n",
      "1111\n"
     ]
    }
   ],
   "source": [
    "n = int(input())\n",
    "i = 1\n",
    "while i<= n:\n",
    "    j = 1\n",
    "    while j<=i:\n",
    "        print(\"1\",end=\"\")\n",
    "        j += 1\n",
    "    print()\n",
    "    i += 1"
   ]
  },
  {
   "cell_type": "markdown",
   "id": "f4e250b2",
   "metadata": {},
   "source": [
    "#### Pattern 2"
   ]
  },
  {
   "cell_type": "code",
   "execution_count": 18,
   "id": "69d5b338",
   "metadata": {},
   "outputs": [
    {
     "name": "stdout",
     "output_type": "stream",
     "text": [
      "4\n",
      "1\n",
      "11\n",
      "202\n",
      "3003\n"
     ]
    }
   ],
   "source": [
    "n = int(input())\n",
    "i = 1\n",
    "while i<=n:\n",
    "\tj = 1\n",
    "\twhile j <=i:\n",
    "\t\tif i == 1:\n",
    "\t\t\tprint(i, end='')\n",
    "\t\telif i == 2:\n",
    "\t\t\tprint(1,end=\"\")\n",
    "\t\telif j == i or j == 1:\n",
    "\t\t\tprint(i-1,end='')\n",
    "\t\telse:\n",
    "\t\t\tprint(0,end='')\n",
    "\t\tj += 1\n",
    "\tprint()\n",
    "\ti += 1 \n"
   ]
  },
  {
   "cell_type": "markdown",
   "id": "ab9d31da",
   "metadata": {},
   "source": [
    "#### Pattern 3"
   ]
  },
  {
   "cell_type": "code",
   "execution_count": 1,
   "id": "369401bd",
   "metadata": {},
   "outputs": [
    {
     "name": "stdout",
     "output_type": "stream",
     "text": [
      "5\n",
      "1\n",
      "11\n",
      "121\n",
      "1221\n",
      "12221\n"
     ]
    }
   ],
   "source": [
    "n = int(input())\n",
    "i = 1\n",
    "while i<=n:\n",
    "\tj = 1\n",
    "\twhile j <=i:\n",
    "\t\tif i == 1:\n",
    "\t\t\tprint(1, end='')\n",
    "\t\telif j == i or j == 1:\n",
    "\t\t\tprint(1,end='')\n",
    "\t\telse:\n",
    "\t\t\tprint(2,end='')\n",
    "\t\tj += 1\n",
    "\tprint()\n",
    "\ti += 1 \n",
    "\t# n -= 1 \n"
   ]
  },
  {
   "cell_type": "markdown",
   "id": "124d1783",
   "metadata": {},
   "source": [
    "#### Number Pattern 4"
   ]
  },
  {
   "cell_type": "code",
   "execution_count": 4,
   "id": "a1c46370",
   "metadata": {},
   "outputs": [
    {
     "name": "stdout",
     "output_type": "stream",
     "text": [
      "4\n",
      "1234\n",
      "123\n",
      "12\n",
      "1\n"
     ]
    }
   ],
   "source": [
    "num = int(input())\n",
    "row = 1\n",
    "while num>=row:\n",
    "  col = 1\n",
    "  while col<=num:\n",
    "    print(col,end='')\n",
    "    col+=1\n",
    "  print()\n",
    "  num-=1"
   ]
  },
  {
   "cell_type": "markdown",
   "id": "771bebfb",
   "metadata": {},
   "source": [
    "#### Alpha Pattern"
   ]
  },
  {
   "cell_type": "code",
   "execution_count": 12,
   "id": "c244feb2",
   "metadata": {},
   "outputs": [
    {
     "name": "stdout",
     "output_type": "stream",
     "text": [
      "4\n",
      "A\n",
      "BB\n",
      "CCC\n",
      "DDDD\n"
     ]
    }
   ],
   "source": [
    "num = int(input())\n",
    "i = 1\n",
    "while i <=num:            \n",
    "    j = 1 \n",
    "    while j <= i: \n",
    "        charp = chr(ord('A')+i-1)\n",
    "        print(charp,end='')   \n",
    "        j += 1                      \n",
    "    print()               \n",
    "    i += 1                "
   ]
  },
  {
   "cell_type": "markdown",
   "id": "a7dae5ff",
   "metadata": {},
   "source": [
    "#### Interesting Alphabets"
   ]
  },
  {
   "cell_type": "code",
   "execution_count": 3,
   "id": "98089479",
   "metadata": {},
   "outputs": [
    {
     "name": "stdout",
     "output_type": "stream",
     "text": [
      "5\n",
      "E\n",
      "DE\n",
      "CDE\n",
      "BCDE\n",
      "ABCDE\n"
     ]
    }
   ],
   "source": [
    "num = int(input())\n",
    "i = 1\n",
    "while i <=num:\n",
    "    j = 1\n",
    "    str_chr = chr(ord('A')+num-i)\n",
    "    while j <= i:\n",
    "        charP = chr(ord(str_chr)+j-1)\n",
    "        print(charP,end='')\n",
    "        j += 1\n",
    "    print()\n",
    "    i += 1"
   ]
  },
  {
   "cell_type": "markdown",
   "id": "96c7c7c2",
   "metadata": {},
   "source": [
    "#### Inverted Patterns"
   ]
  },
  {
   "cell_type": "code",
   "execution_count": 1,
   "id": "0af23bcd",
   "metadata": {},
   "outputs": [
    {
     "name": "stdout",
     "output_type": "stream",
     "text": [
      "5\n",
      "55555\n",
      "4444\n",
      "333\n",
      "22\n",
      "1\n"
     ]
    }
   ],
   "source": [
    "num = int(input())\n",
    "i = 1\n",
    "while num>=i:\n",
    "    j = 1\n",
    "    while j<=num:\n",
    "        print(num,end =\"\")\n",
    "        j += 1\n",
    "    print()\n",
    "    num -=1"
   ]
  },
  {
   "cell_type": "markdown",
   "id": "f03b6873",
   "metadata": {},
   "source": [
    "#### Mirror Sequence"
   ]
  },
  {
   "cell_type": "code",
   "execution_count": 2,
   "id": "fe2f96d6",
   "metadata": {
    "scrolled": true
   },
   "outputs": [
    {
     "name": "stdout",
     "output_type": "stream",
     "text": [
      "5\n",
      "    1\n",
      "   12\n",
      "  123\n",
      " 1234\n",
      "12345\n"
     ]
    }
   ],
   "source": [
    "num = int(input())\n",
    "i = 1\n",
    "while i<=num:\n",
    "    s = 1\n",
    "    while s<=num-i:\n",
    "        print(\" \",end='')\n",
    "        s += 1\n",
    "    j = 1\n",
    "    while j<=i:\n",
    "        print(j,end=\"\")\n",
    "        j +=1\n",
    "    print()\n",
    "    i += 1"
   ]
  },
  {
   "cell_type": "code",
   "execution_count": null,
   "id": "c8b2d2d3",
   "metadata": {},
   "outputs": [],
   "source": []
  },
  {
   "cell_type": "markdown",
   "id": "9081aa62",
   "metadata": {},
   "source": [
    "#### Reversed Mirror Squence"
   ]
  },
  {
   "cell_type": "code",
   "execution_count": 2,
   "id": "df3c8569",
   "metadata": {},
   "outputs": [
    {
     "name": "stdout",
     "output_type": "stream",
     "text": [
      "    1\n",
      "   21\n",
      "  321\n",
      " 4321\n",
      "54321\n"
     ]
    }
   ],
   "source": [
    "n = 5\n",
    "i = 1\n",
    "while i<=n:\n",
    "    space = 1\n",
    "    while space<=n-i:\n",
    "        print(' ',end='')\n",
    "        space += 1\n",
    "    j = i\n",
    "    while j>=1:\n",
    "        print(j,end='')\n",
    "        j -=1\n",
    "   \n",
    "    \n",
    "    print()\n",
    "    i += 1"
   ]
  },
  {
   "cell_type": "markdown",
   "id": "c88cbf96",
   "metadata": {},
   "source": [
    "#### Isosceles Pattern"
   ]
  },
  {
   "cell_type": "code",
   "execution_count": null,
   "id": "a6bcf11a",
   "metadata": {},
   "outputs": [],
   "source": [
    "num = 4\n",
    "row = 1\n",
    "while row<=num:\n",
    "  space = 1\n",
    "  while space<=num-row:\n",
    "    print(' ',end='')\n",
    "    space+=1\n",
    "  lf_col = 1\n",
    "  while lf_col<=row:\n",
    "    print(lf_col,end='')\n",
    "    lf_col+=1\n",
    "  rt_col = row-1\n",
    "  while rt_col>=1:\n",
    "    print(rt_col,end='')\n",
    "    rt_col -= 1\n",
    "  print()  \n",
    "  row+=1"
   ]
  },
  {
   "cell_type": "markdown",
   "id": "1d128abe",
   "metadata": {},
   "source": [
    "#### Tree pattern"
   ]
  },
  {
   "cell_type": "code",
   "execution_count": 3,
   "id": "8fdb532e",
   "metadata": {},
   "outputs": [
    {
     "name": "stdout",
     "output_type": "stream",
     "text": [
      "5\n",
      "    *\n",
      "   ***\n",
      "  *****\n",
      " *******\n",
      "*********\n"
     ]
    }
   ],
   "source": [
    "num = int(input())\n",
    "i = 1\n",
    "while i<=num:\n",
    "    s = 1\n",
    "    while s<=num-i:\n",
    "        print(\" \",end='')\n",
    "        s += 1\n",
    "    j = 1\n",
    "    while j<=i:\n",
    "        print(\"*\",end=\"\")\n",
    "        j +=1/2\n",
    "    print()\n",
    "    i += 1"
   ]
  },
  {
   "cell_type": "markdown",
   "id": "47c0cccd",
   "metadata": {},
   "source": [
    "#### Triangle of Number"
   ]
  },
  {
   "cell_type": "code",
   "execution_count": 1,
   "id": "572ad511",
   "metadata": {},
   "outputs": [
    {
     "name": "stdout",
     "output_type": "stream",
     "text": [
      "5\n",
      "    1\n",
      "   232\n",
      "  34543\n",
      " 4567654\n",
      "567898765\n"
     ]
    }
   ],
   "source": [
    "num = int(input())\n",
    "row = 1\n",
    "while row<=num:\n",
    "  space = 1\n",
    "  while space<=num-row:\n",
    "    print(\" \",end='')\n",
    "    space+=1\n",
    "  rt_col = 1\n",
    "  p = row\n",
    "  while rt_col<=row:\n",
    "    print(p,end='')\n",
    "    p+=1\n",
    "    rt_col+=1\n",
    "  lf_col = 1\n",
    "  p = row*2-2\n",
    "  while lf_col<=row-1:\n",
    "    print(p,end='')\n",
    "    p-=1\n",
    "    lf_col+=1\n",
    "  print()\n",
    "  row +=1"
   ]
  },
  {
   "cell_type": "markdown",
   "id": "8872b121",
   "metadata": {},
   "source": [
    "#### Triangle of Number 2"
   ]
  },
  {
   "cell_type": "code",
   "execution_count": 2,
   "id": "465aa929",
   "metadata": {},
   "outputs": [
    {
     "name": "stdout",
     "output_type": "stream",
     "text": [
      "    1\n",
      "   121\n",
      "  12321\n",
      " 1234321\n",
      "123454321\n"
     ]
    }
   ],
   "source": [
    "n = 5\n",
    "i = 1\n",
    "while i<=n:\n",
    "    space = 1\n",
    "    while space<=n-i:\n",
    "        print(' ',end='')\n",
    "        space += 1\n",
    "    j = 1\n",
    "    while j<=i-1:\n",
    "        print(j,end='')\n",
    "        j += 1\n",
    "    k = i\n",
    "    while k>=1:\n",
    "        print(k,end='')\n",
    "        k -=1\n",
    "   \n",
    "    \n",
    "    print()\n",
    "    i += 1"
   ]
  },
  {
   "cell_type": "markdown",
   "id": "71236103",
   "metadata": {},
   "source": [
    "#### Diamond"
   ]
  },
  {
   "cell_type": "code",
   "execution_count": 2,
   "id": "93135cb6",
   "metadata": {},
   "outputs": [
    {
     "name": "stdout",
     "output_type": "stream",
     "text": [
      "  *\n",
      " ***\n",
      "*****\n",
      " ***\n",
      "  *\n"
     ]
    }
   ],
   "source": [
    "n = 5\n",
    "f_half = (n+1)//2 \n",
    "s_half = n//2\n",
    "i_row = 1\n",
    "while i_row<=f_half:\n",
    "    space = 1\n",
    "    while space<=f_half-i_row: \n",
    "        print(' ',end='')\n",
    "        space += 1\n",
    "    star = 1\n",
    "    while star<=2*i_row-1:\n",
    "        print('*',end='')\n",
    "        star += 1\n",
    "    print()\n",
    "    i_row += 1\n",
    "i_row = s_half \n",
    "while i_row>=1:\n",
    "    space = 1\n",
    "    while space<=s_half-i_row+1: \n",
    "        print(' ',end='')\n",
    "        space += 1\n",
    "    star = 1\n",
    "    while star<=2*i_row-1:\n",
    "        print('*',end='')\n",
    "        star += 1\n",
    "    print()\n",
    "    i_row -= 1"
   ]
  },
  {
   "cell_type": "markdown",
   "id": "a463df33",
   "metadata": {},
   "source": [
    "### Assignment 3"
   ]
  },
  {
   "cell_type": "markdown",
   "id": "866919d3",
   "metadata": {},
   "source": [
    "#### Number Pattern "
   ]
  },
  {
   "cell_type": "code",
   "execution_count": 3,
   "id": "4469d6d6",
   "metadata": {},
   "outputs": [
    {
     "name": "stdout",
     "output_type": "stream",
     "text": [
      "5\n",
      "1        1\n",
      "12      21\n",
      "123    321\n",
      "1234  4321\n",
      "1234554321\n"
     ]
    }
   ],
   "source": [
    "num = int(input())\n",
    "row = 1\n",
    "while row<=num:\n",
    "    left_colm = 1\n",
    "    while left_colm<=row:\n",
    "        print(left_colm,end='')\n",
    "        left_colm += 1\n",
    "    space1 = 1\n",
    "    while space1<=num-row:\n",
    "        print(' ',end='')\n",
    "        space1 += 1\n",
    "    space2 = 1\n",
    "    while space2<=num-row:\n",
    "        print(' ',end='')\n",
    "        space2 += 1\n",
    "    right_colm = row\n",
    "    while right_colm>=1:\n",
    "        print(right_colm,end='')\n",
    "        right_colm -=1   \n",
    "    print()\n",
    "    row += 1"
   ]
  },
  {
   "cell_type": "markdown",
   "id": "aa852ac9",
   "metadata": {},
   "source": [
    "#### Zeros and Stars"
   ]
  },
  {
   "cell_type": "code",
   "execution_count": 3,
   "id": "8159ca48",
   "metadata": {},
   "outputs": [
    {
     "name": "stdout",
     "output_type": "stream",
     "text": [
      "*000*000*\n",
      "0*00*00*0\n",
      "00*0*0*00\n",
      "000***000\n"
     ]
    }
   ],
   "source": [
    "n=4\n",
    "i=1  \n",
    "j=1  \n",
    "while i<=n: \n",
    "    j=1  \n",
    "    while j<=n:      \n",
    "        if i==j:  \n",
    "            print(\"*\", end='')  \n",
    "        else :  \n",
    "            print(\"0\", end='')  \n",
    "        j=j+1  \n",
    "    j=j-1;  \n",
    "    print(\"*\", end='')  \n",
    "    while j>=1:  \n",
    "        if i==j:  \n",
    "            print(\"*\", end='')  \n",
    "        else :  \n",
    "            print(\"0\", end='')  \n",
    "        j=j-1  \n",
    "    print(\"\");  \n",
    "    i=i+1  "
   ]
  },
  {
   "cell_type": "markdown",
   "id": "d5fadf88",
   "metadata": {},
   "source": [
    "#### Pyramid Number pattern"
   ]
  },
  {
   "cell_type": "code",
   "execution_count": 2,
   "id": "ee1f4925",
   "metadata": {},
   "outputs": [
    {
     "name": "stdout",
     "output_type": "stream",
     "text": [
      "   1\n",
      "  212\n",
      " 32123\n",
      "4321234\n"
     ]
    }
   ],
   "source": [
    "num = 4\n",
    "row = 1\n",
    "while row<=num:\n",
    "    space = 1\n",
    "    while space<=num-row:\n",
    "        print(\" \",end='')\n",
    "        space += 1 \n",
    "\n",
    "    left_col = row\n",
    "    while left_col>=1:\n",
    "        print(left_col,end=\"\")\n",
    "        left_col -= 1\n",
    "    right_col=1\n",
    "    while right_col<= row-1:\n",
    "        print(right_col+1,end = \"\")\n",
    "        right_col=right_col+1\n",
    "    print()\n",
    "    row = row + 1\n"
   ]
  },
  {
   "cell_type": "markdown",
   "id": "042f6248",
   "metadata": {},
   "source": [
    "#### Arrow Pattern"
   ]
  },
  {
   "cell_type": "code",
   "execution_count": 6,
   "id": "fb3bd646",
   "metadata": {},
   "outputs": [
    {
     "name": "stdout",
     "output_type": "stream",
     "text": [
      "*\n",
      " **\n",
      "  ***\n",
      "   ****\n",
      "    *****\n",
      "   ****\n",
      "  ***\n",
      " **\n",
      "*\n"
     ]
    }
   ],
   "source": [
    "num =9\n",
    "row = 1\n",
    "first_half = (num+1)//2\n",
    "sec_half = num//2\n",
    "while row<=first_half:\n",
    "    space = 2\n",
    "    while space<=row:\n",
    "        print(\" \",end='')\n",
    "        space += 1\n",
    "    up_star = 1\n",
    "    while up_star<=row:\n",
    "        print('*',end=\"\")\n",
    "        up_star += 1\n",
    "    print()\n",
    "    row += 1\n",
    "row = sec_half\n",
    "while row>=1:\n",
    "    space = 2\n",
    "    while space<=row:\n",
    "        print(\" \",end='')\n",
    "        space += 1\n",
    "    down_star = 1\n",
    "    while down_star<=row:\n",
    "        print(\"*\",end='')\n",
    "        down_star += 1\n",
    "    print()\n",
    "    row -= 1\n",
    "     \n",
    "\n"
   ]
  },
  {
   "cell_type": "code",
   "execution_count": 2,
   "id": "968b0cf7",
   "metadata": {},
   "outputs": [
    {
     "name": "stdout",
     "output_type": "stream",
     "text": [
      "123456654321\n",
      "12345**54321\n",
      "1234****4321\n",
      "123******321\n",
      "12********21\n",
      "1**********1\n"
     ]
    }
   ],
   "source": [
    "num = 6\n",
    "row = 1\n",
    "p = 0\n",
    "while num>=row:\n",
    "    left_col = 1\n",
    "    while left_col<=num:\n",
    "            print(left_col,end='')\n",
    "            left_col += 1\n",
    "    space = 1\n",
    "    while space<=p:\n",
    "        print('*',end='')\n",
    "        space += 1  \n",
    "    p+=2 \n",
    "    right_col = num\n",
    "    while right_col>=1:\n",
    "        print(right_col,end='')\n",
    "        right_col -=1   \n",
    "    print()\n",
    "    num -= 1"
   ]
  },
  {
   "cell_type": "code",
   "execution_count": null,
   "id": "5192d2f2",
   "metadata": {},
   "outputs": [],
   "source": []
  }
 ],
 "metadata": {
  "kernelspec": {
   "display_name": "Python 3 (ipykernel)",
   "language": "python",
   "name": "python3"
  },
  "language_info": {
   "codemirror_mode": {
    "name": "ipython",
    "version": 3
   },
   "file_extension": ".py",
   "mimetype": "text/x-python",
   "name": "python",
   "nbconvert_exporter": "python",
   "pygments_lexer": "ipython3",
   "version": "3.9.12"
  }
 },
 "nbformat": 4,
 "nbformat_minor": 5
}
