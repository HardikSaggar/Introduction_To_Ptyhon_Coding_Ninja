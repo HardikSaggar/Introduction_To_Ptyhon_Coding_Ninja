{
 "cells": [
  {
   "cell_type": "markdown",
   "id": "3df84f8f",
   "metadata": {},
   "source": [
    "## Pattern 2"
   ]
  },
  {
   "cell_type": "markdown",
   "id": "f7f43803",
   "metadata": {},
   "source": [
    "#### Inverted Number Pattern"
   ]
  },
  {
   "cell_type": "code",
   "execution_count": 3,
   "id": "c22e4727",
   "metadata": {
    "scrolled": true
   },
   "outputs": [
    {
     "name": "stdout",
     "output_type": "stream",
     "text": [
      "4\n",
      "4444\n",
      "333\n",
      "22\n",
      "1\n"
     ]
    }
   ],
   "source": [
    "num = int(input())\n",
    "i = 1\n",
    "while num>=i:\n",
    "    j = 1\n",
    "    while j<=num:\n",
    "        print(num,end =\"\")\n",
    "        j += 1\n",
    "    print()\n",
    "    num -=1"
   ]
  },
  {
   "cell_type": "markdown",
   "id": "1ff773d4",
   "metadata": {},
   "source": [
    "#### Mirror Number Pattern"
   ]
  },
  {
   "cell_type": "code",
   "execution_count": 4,
   "id": "b88f725a",
   "metadata": {},
   "outputs": [
    {
     "name": "stdout",
     "output_type": "stream",
     "text": [
      "5\n",
      "    1\n",
      "   12\n",
      "  123\n",
      " 1234\n",
      "12345\n"
     ]
    }
   ],
   "source": [
    "num = int(input())\n",
    "i = 1\n",
    "while i<=num:\n",
    "    s = 1\n",
    "    while s<=num-i:\n",
    "        print(\" \",end='')\n",
    "        s += 1\n",
    "    j = 1\n",
    "    while j<=i:\n",
    "        print(j,end=\"\")\n",
    "        j +=1\n",
    "    print()\n",
    "    i += 1"
   ]
  },
  {
   "cell_type": "markdown",
   "id": "b3d3fc9d",
   "metadata": {},
   "source": [
    "#### Star Pattern "
   ]
  },
  {
   "cell_type": "code",
   "execution_count": 6,
   "id": "f98f8fca",
   "metadata": {},
   "outputs": [
    {
     "name": "stdout",
     "output_type": "stream",
     "text": [
      "5\n",
      "    *\n",
      "   ***\n",
      "  *****\n",
      " *******\n",
      "*********\n"
     ]
    }
   ],
   "source": [
    "num = int(input())\n",
    "row = 1\n",
    "while row<=num:\n",
    "  space = 1\n",
    "  while space<=num-row:\n",
    "    print(' ',end='')\n",
    "    space+=1\n",
    "  lf_col = 1\n",
    "  while lf_col<=row:\n",
    "    print(\"*\",end='')\n",
    "    lf_col+=1\n",
    "  rt_col = row-1\n",
    "  while rt_col>=1:\n",
    "    print(\"*\",end='')\n",
    "    rt_col -= 1\n",
    "  print()  \n",
    "  row+=1"
   ]
  },
  {
   "cell_type": "markdown",
   "id": "e2340632",
   "metadata": {},
   "source": [
    "#### Triangle of Numbers"
   ]
  },
  {
   "cell_type": "code",
   "execution_count": 8,
   "id": "028b1393",
   "metadata": {},
   "outputs": [
    {
     "name": "stdout",
     "output_type": "stream",
     "text": [
      "5\n",
      "    1\n",
      "   232\n",
      "  34543\n",
      " 4567654\n",
      "567898765\n"
     ]
    }
   ],
   "source": [
    "num = int(input())\n",
    "row = 1\n",
    "while row<=num:\n",
    "  space = 1\n",
    "  while space<=num-row:\n",
    "    print(\" \",end='')\n",
    "    space+=1\n",
    "  rt_col = 1\n",
    "  p = row\n",
    "  while rt_col<=row:\n",
    "    print(p,end='')\n",
    "    p+=1\n",
    "    rt_col+=1\n",
    "  lf_col = 1\n",
    "  p = row*2-2\n",
    "  while lf_col<=row-1:\n",
    "    print(p,end='')\n",
    "    p-=1\n",
    "    lf_col+=1\n",
    "  print()\n",
    "  row +=1"
   ]
  },
  {
   "cell_type": "markdown",
   "id": "a9c5c0ff",
   "metadata": {},
   "source": [
    "#### Diamond of stars"
   ]
  },
  {
   "cell_type": "code",
   "execution_count": 11,
   "id": "70189667",
   "metadata": {
    "scrolled": true
   },
   "outputs": [
    {
     "name": "stdout",
     "output_type": "stream",
     "text": [
      "10\n",
      "          \n",
      "         *\n",
      "        ***\n",
      "       *****\n",
      "      *******\n",
      "      *******\n",
      "       *****\n",
      "        ***\n",
      "         *\n"
     ]
    }
   ],
   "source": [
    "num = int(input())\n",
    "f_half = (num+1)//2\n",
    "s_half = num//2\n",
    "for row in range(f_half):\n",
    "    print(' '*(num-row),end='')\n",
    "    for star in range(2*row-1):\n",
    "        print(\"*\",end='')\n",
    "    print()\n",
    "row = s_half-1\n",
    "while row>0:\n",
    "    print(\" \"*(num-row),end='')\n",
    "    for star in range(2*row-1):\n",
    "        print(\"*\",end='')\n",
    "    print()\n",
    "    row-=1"
   ]
  },
  {
   "cell_type": "markdown",
   "id": "01475935",
   "metadata": {},
   "source": [
    "## Assignment 3"
   ]
  },
  {
   "cell_type": "markdown",
   "id": "13c3a445",
   "metadata": {},
   "source": [
    "#### Number Patter"
   ]
  },
  {
   "cell_type": "code",
   "execution_count": 14,
   "id": "468cbe54",
   "metadata": {},
   "outputs": [
    {
     "name": "stdout",
     "output_type": "stream",
     "text": [
      "5\n",
      "1        1\n",
      "12      21\n",
      "123    321\n",
      "1234  4321\n",
      "1234554321\n"
     ]
    }
   ],
   "source": [
    "num = int(input())\n",
    "row = 1\n",
    "while row<=num:\n",
    "    left_colm = 1\n",
    "    while left_colm<=row:\n",
    "        print(left_colm,end='')\n",
    "        left_colm += 1\n",
    "    space1 = 1\n",
    "    while space1<=num-row:\n",
    "        print(' ',end='')\n",
    "        space1 += 1\n",
    "    space2 = 1\n",
    "    while space2<=num-row:\n",
    "        print(' ',end='')\n",
    "        space2 += 1\n",
    "    right_colm = row\n",
    "    while right_colm>=1:\n",
    "        print(right_colm,end='')\n",
    "        right_colm -=1   \n",
    "    print()\n",
    "    row += 1"
   ]
  },
  {
   "cell_type": "markdown",
   "id": "2a3450f7",
   "metadata": {},
   "source": [
    "#### Zero and stars"
   ]
  },
  {
   "cell_type": "code",
   "execution_count": 16,
   "id": "cd5f6187",
   "metadata": {},
   "outputs": [
    {
     "name": "stdout",
     "output_type": "stream",
     "text": [
      "6\n",
      "*00000*00000*\n",
      "0*0000*0000*0\n",
      "00*000*000*00\n",
      "000*00*00*000\n",
      "0000*0*0*0000\n",
      "00000***00000\n"
     ]
    }
   ],
   "source": [
    "n=int(input())  \n",
    "i=1  \n",
    "j=1  \n",
    "while i<=n:  \n",
    "    j=1  \n",
    "    while j<=n:     \n",
    "        if i==j:  \n",
    "            print(\"*\", end='')  \n",
    "        else :  \n",
    "            print(\"0\", end='')  \n",
    "        j=j+1  \n",
    "    j=j-1;  \n",
    "    print(\"*\", end='')  \n",
    "    while j>=1:  \n",
    "        if i==j:  \n",
    "            print(\"*\", end='')  \n",
    "        else :  \n",
    "            print(\"0\", end='')  \n",
    "        j=j-1  \n",
    "    print(\"\");  \n",
    "    i=i+1  "
   ]
  },
  {
   "cell_type": "markdown",
   "id": "e6f9d8c4",
   "metadata": {},
   "source": [
    "#### Pyramid Number Pattern "
   ]
  },
  {
   "cell_type": "code",
   "execution_count": 21,
   "id": "9cdf623c",
   "metadata": {
    "scrolled": true
   },
   "outputs": [
    {
     "name": "stdout",
     "output_type": "stream",
     "text": [
      "5\n",
      "    1\n",
      "   212\n",
      "  32123\n",
      " 4321234\n",
      "543212345\n"
     ]
    }
   ],
   "source": [
    "num = int(input())\n",
    "row = 1\n",
    "while row<=num:\n",
    "    space = 1\n",
    "    while space<=num-row:\n",
    "        print(\" \",end='')\n",
    "        space += 1 \n",
    "\n",
    "    left_col = row\n",
    "    while left_col>=1:\n",
    "        print(left_col,end=\"\")\n",
    "        left_col -= 1\n",
    "    right_col=1\n",
    "    while right_col<= row-1:\n",
    "        print(right_col+1,end = \"\")\n",
    "        right_col=right_col+1\n",
    "    print()\n",
    "    row = row + 1\n"
   ]
  },
  {
   "cell_type": "markdown",
   "id": "44ff0d2a",
   "metadata": {},
   "source": [
    "#### Arrow Pattern"
   ]
  },
  {
   "cell_type": "code",
   "execution_count": 24,
   "id": "c465464d",
   "metadata": {},
   "outputs": [
    {
     "name": "stdout",
     "output_type": "stream",
     "text": [
      "9\n",
      "* \n",
      " * * \n",
      "  * * * \n",
      "   * * * * \n",
      "    * * * * * \n",
      "   * * * * \n",
      "  * * * \n",
      " * * \n",
      "* \n"
     ]
    }
   ],
   "source": [
    "num = int(input())\n",
    "row = 1\n",
    "first_half = (num+1)//2\n",
    "sec_half = num//2\n",
    "while row<=first_half:\n",
    "    space = 1\n",
    "    while space<=row - 1:\n",
    "        print(\" \",end='')\n",
    "        space += 1\n",
    "    up_star = 1\n",
    "    while up_star<=row:\n",
    "        print('*',end=\" \")\n",
    "        up_star += 1\n",
    "    print()\n",
    "    row += 1\n",
    "row = sec_half\n",
    "while row>=1:\n",
    "    space = 1\n",
    "    while space<=row - 1:\n",
    "        print(\" \",end='')\n",
    "        space += 1\n",
    "    down_star = 1\n",
    "    while down_star<=row:\n",
    "        print(\"*\",end=' ')\n",
    "        down_star += 1\n",
    "    print()\n",
    "    row -= 1"
   ]
  },
  {
   "cell_type": "markdown",
   "id": "3789db52",
   "metadata": {},
   "source": [
    "## More on Loops(For)"
   ]
  },
  {
   "cell_type": "markdown",
   "id": "baf5d607",
   "metadata": {},
   "source": [
    "#### Binary Pattern"
   ]
  },
  {
   "cell_type": "code",
   "execution_count": 27,
   "id": "e027e3be",
   "metadata": {},
   "outputs": [
    {
     "name": "stdout",
     "output_type": "stream",
     "text": [
      "5\n",
      "11111\n",
      "0000\n",
      "111\n",
      "00\n",
      "1\n"
     ]
    }
   ],
   "source": [
    "n = int(input())\n",
    "for i in range(1,n+1):\n",
    "    for j in range(n+1,1,-1):\n",
    "        if i %2 == 0:\n",
    "            print(0,end='')\n",
    "        else:\n",
    "            print(1,end='')\n",
    "    print()\n",
    "    n -= 1"
   ]
  },
  {
   "cell_type": "markdown",
   "id": "d82eacc0",
   "metadata": {},
   "source": [
    "#### Print Number Pyramid"
   ]
  },
  {
   "cell_type": "code",
   "execution_count": 29,
   "id": "8dbe96f3",
   "metadata": {},
   "outputs": [
    {
     "name": "stdout",
     "output_type": "stream",
     "text": [
      "7\n",
      "1234567\n",
      " 234567\n",
      "  34567\n",
      "   4567\n",
      "    567\n",
      "     67\n",
      "      7\n",
      "     67\n",
      "    567\n",
      "   4567\n",
      "  34567\n",
      " 234567\n",
      "1234567\n"
     ]
    }
   ],
   "source": [
    "n = int(input())\n",
    "\n",
    "for i in range(1,n+1):\n",
    "    for s in range(i-1):\n",
    "        print(' ',end='')\n",
    "    for j in range(n-i+1):\n",
    "        print(j+i,end='')\n",
    "    print()\n",
    "\n",
    "for i in range(n,1,-1):\n",
    "    for s in range(i-2):\n",
    "        print(' ',end='')\n",
    "    j = n\n",
    "    k = 1\n",
    "    \n",
    "    while j >=i-1:\n",
    "        print(i+k-2,end=\"\")\n",
    "        j=j-1\n",
    "        k=k+1\n",
    "    i=i-1\n",
    "    print()"
   ]
  },
  {
   "cell_type": "markdown",
   "id": "58420e58",
   "metadata": {},
   "source": [
    "#### Diamond of stars"
   ]
  },
  {
   "cell_type": "code",
   "execution_count": 32,
   "id": "60f141e1",
   "metadata": {},
   "outputs": [
    {
     "name": "stdout",
     "output_type": "stream",
     "text": [
      "9\n",
      "    *\n",
      "   ***\n",
      "  *****\n",
      " *******\n",
      "*********\n",
      " *******\n",
      "  *****\n",
      "   ***\n",
      "    *\n"
     ]
    }
   ],
   "source": [
    "num = int(input())\n",
    "first = (num+1)//2\n",
    "sec = first-1\n",
    "for i in range(1,first+1):\n",
    "    for s in range(first-i):\n",
    "        print(' ',end='')\n",
    "    for j in range(2*i-1):\n",
    "        print(\"*\",end='')\n",
    "    print()\n",
    "i = sec\n",
    "for i in range(sec,0,-1):\n",
    "    s= 1\n",
    "    while s<= sec-i+1:\n",
    "        print(' ',end='')\n",
    "        s +=1\n",
    "    for j in range(2*i-1):\n",
    "        print(\"*\",end='')\n",
    "    print()\n",
    "   "
   ]
  },
  {
   "cell_type": "markdown",
   "id": "e4be9166",
   "metadata": {},
   "source": [
    "#### Rectangualr Numbers"
   ]
  },
  {
   "cell_type": "code",
   "execution_count": 37,
   "id": "6464f71e",
   "metadata": {
    "scrolled": true
   },
   "outputs": [
    {
     "name": "stdout",
     "output_type": "stream",
     "text": [
      "555555555\n",
      "544444445\n",
      "543333345\n",
      "543222345\n",
      "543212345\n",
      "543222345\n",
      "543333345\n",
      "544444445\n",
      "555555555\n"
     ]
    }
   ],
   "source": [
    "n=5\n",
    "answer=[[1]]\n",
    "for i in range(2, n+1):\n",
    "    t=[i]*((2*i)-3)\n",
    "    answer.insert(0, t)\n",
    "    answer.append(t.copy())\n",
    "    for a in answer:\n",
    "        a.insert(0,i)\n",
    "        a.append(i)\n",
    "answerfinal=[]\n",
    "for a in answer:\n",
    "    answerfinal.append(str(a).replace(' ','').replace(',','').replace(']','').replace('[',''))\n",
    "for a in answerfinal:\n",
    "    print(a)"
   ]
  },
  {
   "cell_type": "markdown",
   "id": "c3c5cd7a",
   "metadata": {},
   "source": [
    "#### Print Pattern"
   ]
  },
  {
   "cell_type": "code",
   "execution_count": 39,
   "id": "6361bc97",
   "metadata": {},
   "outputs": [
    {
     "name": "stdout",
     "output_type": "stream",
     "text": [
      "5\n",
      "1 2 3 4 5 \n",
      "11 12 13 14 15 \n",
      "21 22 23 24 25 \n",
      "16 17 18 19 20 \n",
      "6 7 8 9 10 \n"
     ]
    }
   ],
   "source": [
    "import math\n",
    "n = int(input())\n",
    "\n",
    "for i in range(math.ceil(n/2)):\n",
    "\n",
    "    for j in range(1, n+1):\n",
    "\n",
    "        print((n*2*i)+j, end=\" \")\n",
    "\n",
    "    print()\n",
    "\n",
    "for i in range(n//2, 0, -1):\n",
    "\n",
    "    for j in range(1, n+1):\n",
    "\n",
    "        print(n*(2*i-1) + j, end=\" \")\n",
    "\n",
    "    print()\n"
   ]
  }
 ],
 "metadata": {
  "kernelspec": {
   "display_name": "Python 3 (ipykernel)",
   "language": "python",
   "name": "python3"
  },
  "language_info": {
   "codemirror_mode": {
    "name": "ipython",
    "version": 3
   },
   "file_extension": ".py",
   "mimetype": "text/x-python",
   "name": "python",
   "nbconvert_exporter": "python",
   "pygments_lexer": "ipython3",
   "version": "3.9.12"
  }
 },
 "nbformat": 4,
 "nbformat_minor": 5
}
