{
 "cells": [
  {
   "cell_type": "markdown",
   "id": "304d38c4",
   "metadata": {},
   "source": [
    "#### Average Marks"
   ]
  },
  {
   "cell_type": "code",
   "execution_count": 3,
   "id": "5daef327",
   "metadata": {
    "scrolled": false
   },
   "outputs": [
    {
     "name": "stdout",
     "output_type": "stream",
     "text": [
      "100\n",
      "92\n",
      "0\n",
      "64.0\n"
     ]
    }
   ],
   "source": [
    "sub1 = int(input())\n",
    "sub2 = int(input())\n",
    "sub3 = int(input())\n",
    "avg = (sub1+sub2+sub3)/3\n",
    "print(avg)"
   ]
  },
  {
   "cell_type": "markdown",
   "id": "9664901b",
   "metadata": {},
   "source": [
    "### Assignment 1"
   ]
  },
  {
   "cell_type": "markdown",
   "id": "2c099799",
   "metadata": {},
   "source": [
    "#### Exponetial "
   ]
  },
  {
   "cell_type": "code",
   "execution_count": null,
   "id": "8e16f08c",
   "metadata": {},
   "outputs": [],
   "source": [
    "x = int(input())\n",
    "n = int(input())\n",
    "print(x**n)\n"
   ]
  },
  {
   "cell_type": "markdown",
   "id": "c34e7bf9",
   "metadata": {},
   "source": [
    "#### Arithmetic Progression"
   ]
  },
  {
   "cell_type": "code",
   "execution_count": 14,
   "id": "91c54700",
   "metadata": {
    "scrolled": true
   },
   "outputs": [
    {
     "name": "stdout",
     "output_type": "stream",
     "text": [
      "5\n",
      "3\n",
      "2\n",
      "-2\n"
     ]
    }
   ],
   "source": [
    "a = int(input())\n",
    "b = int(input())\n",
    "c = int(input())\n",
    "diff = (c-b) and (b-a)\n",
    "print(diff)"
   ]
  },
  {
   "cell_type": "markdown",
   "id": "a15e9808",
   "metadata": {},
   "source": [
    "#### Rectangular Area"
   ]
  },
  {
   "cell_type": "code",
   "execution_count": 16,
   "id": "3be548c9",
   "metadata": {},
   "outputs": [
    {
     "name": "stdout",
     "output_type": "stream",
     "text": [
      "4\n",
      "5\n",
      "3\n",
      "2\n",
      "3\n"
     ]
    }
   ],
   "source": [
    "x1 = int(input())\n",
    "x2 = int(input())\n",
    "y1 = int(input())\n",
    "y2 = int(input())\n",
    "area = (y1-x1)*(y2-x2)\n",
    "print(area)"
   ]
  }
 ],
 "metadata": {
  "kernelspec": {
   "display_name": "Python 3 (ipykernel)",
   "language": "python",
   "name": "python3"
  },
  "language_info": {
   "codemirror_mode": {
    "name": "ipython",
    "version": 3
   },
   "file_extension": ".py",
   "mimetype": "text/x-python",
   "name": "python",
   "nbconvert_exporter": "python",
   "pygments_lexer": "ipython3",
   "version": "3.9.12"
  }
 },
 "nbformat": 4,
 "nbformat_minor": 5
}
