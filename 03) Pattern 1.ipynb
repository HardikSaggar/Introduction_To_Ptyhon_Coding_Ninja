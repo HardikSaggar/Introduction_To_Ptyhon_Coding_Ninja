{
 "cells": [
  {
   "cell_type": "markdown",
   "id": "4efe045f",
   "metadata": {},
   "source": [
    "## Pattern 1"
   ]
  },
  {
   "cell_type": "markdown",
   "id": "d25e201b",
   "metadata": {},
   "source": [
    "#### Square Pattern"
   ]
  },
  {
   "cell_type": "code",
   "execution_count": 1,
   "id": "e0b0c0b4",
   "metadata": {
    "scrolled": true
   },
   "outputs": [
    {
     "name": "stdout",
     "output_type": "stream",
     "text": [
      "4444\n",
      "4444\n",
      "4444\n",
      "4444\n"
     ]
    }
   ],
   "source": [
    "num = 4\n",
    "row = 1\n",
    "while row<=num:\n",
    "  col = 1\n",
    "  while col<=num:\n",
    "    print(num,end='')\n",
    "    col += 1\n",
    "  print()\n",
    "  row += 1"
   ]
  },
  {
   "cell_type": "markdown",
   "id": "cce0e903",
   "metadata": {},
   "source": [
    "#### Triangular Star Pattern"
   ]
  },
  {
   "cell_type": "code",
   "execution_count": 2,
   "id": "842f1524",
   "metadata": {},
   "outputs": [
    {
     "name": "stdout",
     "output_type": "stream",
     "text": [
      "*\n",
      "**\n",
      "***\n",
      "****\n"
     ]
    }
   ],
   "source": [
    "num = 4\n",
    "row = 1\n",
    "while row<=num:\n",
    "  col = 1\n",
    "  while col<=row:\n",
    "    print(\"*\",end='')\n",
    "    col += 1\n",
    "  print()\n",
    "  row += 1"
   ]
  },
  {
   "cell_type": "markdown",
   "id": "f26cd5e4",
   "metadata": {},
   "source": [
    "#### Triangular number Pattern"
   ]
  },
  {
   "cell_type": "code",
   "execution_count": 3,
   "id": "7c671f60",
   "metadata": {},
   "outputs": [
    {
     "name": "stdout",
     "output_type": "stream",
     "text": [
      "1\n",
      "22\n",
      "333\n",
      "4444\n"
     ]
    }
   ],
   "source": [
    "num = 4\n",
    "row = 1\n",
    "while row<=num:\n",
    "  col = 1\n",
    "  while col<=row:\n",
    "    print(row,end='')\n",
    "    col += 1\n",
    "  print()\n",
    "  row += 1"
   ]
  },
  {
   "cell_type": "markdown",
   "id": "1832a0be",
   "metadata": {},
   "source": [
    "#### Reverse Number Pattern "
   ]
  },
  {
   "cell_type": "code",
   "execution_count": 4,
   "id": "74e7a30f",
   "metadata": {},
   "outputs": [
    {
     "name": "stdout",
     "output_type": "stream",
     "text": [
      "1\n",
      "21\n",
      "321\n",
      "4321\n"
     ]
    }
   ],
   "source": [
    "num = 4\n",
    "row = 1\n",
    "while row<=num:\n",
    "  col = row\n",
    "  while col>=1:\n",
    "    print(col,end='')\n",
    "    col -= 1\n",
    "  print()\n",
    "  row += 1\n"
   ]
  },
  {
   "cell_type": "markdown",
   "id": "164f888e",
   "metadata": {},
   "source": [
    "#### Character Pattern"
   ]
  },
  {
   "cell_type": "code",
   "execution_count": 5,
   "id": "b148d150",
   "metadata": {},
   "outputs": [
    {
     "name": "stdout",
     "output_type": "stream",
     "text": [
      "A\n",
      "BC\n",
      "CDE\n",
      "DEFG\n"
     ]
    }
   ],
   "source": [
    "num = 4\n",
    "row = 1\n",
    "while row<=num:\n",
    "  col = 1\n",
    "  char = chr(ord('A')+row-1)  \n",
    "  while col<=row:\n",
    "    strg = chr(ord(char)+col-1)\n",
    "    print(strg,end='')\n",
    "    col += 1\n",
    "  print()\n",
    "  row += 1"
   ]
  },
  {
   "cell_type": "markdown",
   "id": "b2750030",
   "metadata": {},
   "source": [
    "#### Interesting Alphabets"
   ]
  },
  {
   "cell_type": "code",
   "execution_count": 12,
   "id": "082560b4",
   "metadata": {},
   "outputs": [
    {
     "name": "stdout",
     "output_type": "stream",
     "text": [
      "E\n",
      "DE\n",
      "CDE\n",
      "BCDE\n",
      "ABCDE\n"
     ]
    }
   ],
   "source": [
    "n = 5\n",
    "i = 1\n",
    "while i<=n:\n",
    "    j = 1\n",
    "    str_chr = chr(ord(\"A\")+n-i)\n",
    "    while j <= i:\n",
    "        charP = chr(ord(str_chr)+j-1)\n",
    "        print(charP,end='')\n",
    "        j += 1\n",
    "    print()\n",
    "    i += 1"
   ]
  },
  {
   "cell_type": "markdown",
   "id": "d3788938",
   "metadata": {},
   "source": [
    "#### Number Pattern 1"
   ]
  },
  {
   "cell_type": "code",
   "execution_count": 13,
   "id": "7877689c",
   "metadata": {
    "scrolled": true
   },
   "outputs": [
    {
     "name": "stdout",
     "output_type": "stream",
     "text": [
      "5\n",
      "1\n",
      "11\n",
      "111\n",
      "1111\n",
      "11111\n"
     ]
    }
   ],
   "source": [
    "n = int(input())\n",
    "i = 1\n",
    "while i<= n:\n",
    "    j = 1\n",
    "    while j<=i:\n",
    "        print(\"1\",end=\"\")\n",
    "        j += 1\n",
    "    print()\n",
    "    i += 1"
   ]
  },
  {
   "cell_type": "markdown",
   "id": "1615ca5b",
   "metadata": {},
   "source": [
    "#### Number Patter 2"
   ]
  },
  {
   "cell_type": "code",
   "execution_count": 20,
   "id": "92702f7e",
   "metadata": {},
   "outputs": [
    {
     "name": "stdout",
     "output_type": "stream",
     "text": [
      "4\n",
      "1\n",
      "11\n",
      "202\n",
      "3003\n"
     ]
    }
   ],
   "source": [
    "n = int(input())\n",
    "i = 1\n",
    "while i<=n:\n",
    "\tj = 1\n",
    "\twhile j <=i:\n",
    "\t\tif i == 1:\n",
    "\t\t\tprint(i, end='')\n",
    "\t\telif i == 2:\n",
    "\t\t\tprint(1,end=\"\")\n",
    "\t\telif j == i or j == 1:\n",
    "\t\t\tprint(i-1,end='')\n",
    "\t\telse:\n",
    "\t\t\tprint(0,end='')\n",
    "\t\tj += 1\n",
    "\tprint()\n",
    "\ti += 1 \n"
   ]
  },
  {
   "cell_type": "markdown",
   "id": "754dbd60",
   "metadata": {},
   "source": [
    "#### Number Patter 3"
   ]
  },
  {
   "cell_type": "code",
   "execution_count": 21,
   "id": "6a6dc0ae",
   "metadata": {},
   "outputs": [
    {
     "name": "stdout",
     "output_type": "stream",
     "text": [
      "4\n",
      "1\n",
      "11\n",
      "121\n",
      "1221\n"
     ]
    }
   ],
   "source": [
    "num = int(input())\n",
    "row = 1\n",
    "while row<=num:\n",
    "  col = 1\n",
    "  while col<=row:\n",
    "    if row == 1:\n",
    "      print(1,end='')\n",
    "    elif row == 2:\n",
    "      print(1,end= '')\n",
    "    elif col == 1 or col == row:\n",
    "      print(1,end='')\n",
    "    else:\n",
    "      print(2,end='')\n",
    "    col +=1\n",
    "  print()\n",
    "  row+=1"
   ]
  },
  {
   "cell_type": "markdown",
   "id": "70ede894",
   "metadata": {},
   "source": [
    "#### Number Patter 4"
   ]
  },
  {
   "cell_type": "code",
   "execution_count": 22,
   "id": "5bdf0ec4",
   "metadata": {},
   "outputs": [
    {
     "name": "stdout",
     "output_type": "stream",
     "text": [
      "5\n",
      "12345\n",
      "1234\n",
      "123\n",
      "12\n",
      "1\n"
     ]
    }
   ],
   "source": [
    "num = int(input())\n",
    "row = 1\n",
    "while num>=row:\n",
    "  col = 1\n",
    "  while col<=num:\n",
    "    print(col,end='')\n",
    "    col+=1\n",
    "  print()\n",
    "  num-=1"
   ]
  },
  {
   "cell_type": "markdown",
   "id": "a0b2ab9a",
   "metadata": {},
   "source": [
    "#### Alpha Pattern"
   ]
  },
  {
   "cell_type": "code",
   "execution_count": 23,
   "id": "8f65a5b1",
   "metadata": {},
   "outputs": [
    {
     "name": "stdout",
     "output_type": "stream",
     "text": [
      "5\n",
      "A\n",
      "BB\n",
      "CCC\n",
      "DDDD\n",
      "EEEEE\n"
     ]
    }
   ],
   "source": [
    "num = int(input())\n",
    "row = 1\n",
    "while row<=num:\n",
    "  col = 1\n",
    "  char = chr(ord('A')+row-1)\n",
    "  while col<=row:\n",
    "    print(char,end='')\n",
    "    col+=1\n",
    "  print()  \n",
    "  row+=1"
   ]
  }
 ],
 "metadata": {
  "kernelspec": {
   "display_name": "Python 3 (ipykernel)",
   "language": "python",
   "name": "python3"
  },
  "language_info": {
   "codemirror_mode": {
    "name": "ipython",
    "version": 3
   },
   "file_extension": ".py",
   "mimetype": "text/x-python",
   "name": "python",
   "nbconvert_exporter": "python",
   "pygments_lexer": "ipython3",
   "version": "3.9.12"
  }
 },
 "nbformat": 4,
 "nbformat_minor": 5
}
