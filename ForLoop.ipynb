{
 "cells": [
  {
   "cell_type": "markdown",
   "id": "e085c185",
   "metadata": {},
   "source": [
    "# Milestone 2"
   ]
  },
  {
   "cell_type": "code",
   "execution_count": 1,
   "id": "244d3149",
   "metadata": {
    "scrolled": true
   },
   "outputs": [
    {
     "name": "stdout",
     "output_type": "stream",
     "text": [
      "4444\n",
      "4444\n",
      "4444\n",
      "4444\n"
     ]
    }
   ],
   "source": [
    "n = 4\n",
    "for i in range(1,n+1):\n",
    "    for j in range(1,n+1):\n",
    "        print(n,end='')\n",
    "    print()"
   ]
  },
  {
   "cell_type": "code",
   "execution_count": 2,
   "id": "4332447b",
   "metadata": {
    "scrolled": true
   },
   "outputs": [
    {
     "name": "stdout",
     "output_type": "stream",
     "text": [
      "####\n",
      "####\n",
      "####\n",
      "####\n"
     ]
    }
   ],
   "source": [
    "n = 4\n",
    "for i in range(1,n+1):\n",
    "    for j in range(1,n+1):\n",
    "        print(\"#\",end='')\n",
    "    print()"
   ]
  },
  {
   "cell_type": "code",
   "execution_count": 3,
   "id": "af85f577",
   "metadata": {},
   "outputs": [
    {
     "name": "stdout",
     "output_type": "stream",
     "text": [
      "   *\n",
      "  **\n",
      " ***\n",
      "****\n"
     ]
    }
   ],
   "source": [
    "n = 4\n",
    "for i in range(1,n+1):\n",
    "    for s in range(n-i):\n",
    "        print(\" \",end='')\n",
    "    for j in range(i):\n",
    "        print(\"*\",end='')\n",
    "    print()"
   ]
  },
  {
   "cell_type": "code",
   "execution_count": 4,
   "id": "1cfd5908",
   "metadata": {},
   "outputs": [
    {
     "name": "stdout",
     "output_type": "stream",
     "text": [
      "4321\n",
      "4321\n",
      "4321\n",
      "4321\n"
     ]
    }
   ],
   "source": [
    "n = 4\n",
    "for i in range(1,n+1):\n",
    "\n",
    "    for j in range(n):\n",
    "        print(n-j,end='')\n",
    "        \n",
    "    print()"
   ]
  },
  {
   "cell_type": "code",
   "execution_count": 5,
   "id": "c500d282",
   "metadata": {},
   "outputs": [
    {
     "name": "stdout",
     "output_type": "stream",
     "text": [
      "4444\n",
      "3333\n",
      "2222\n",
      "1111\n"
     ]
    }
   ],
   "source": [
    "n = 4\n",
    "for i in range(1,n+1):\n",
    "\n",
    "    for j in range(n):\n",
    "        print(n-i+1,end='')\n",
    "        \n",
    "    print()"
   ]
  },
  {
   "cell_type": "code",
   "execution_count": 1,
   "id": "33b3ad6a",
   "metadata": {},
   "outputs": [
    {
     "name": "stdout",
     "output_type": "stream",
     "text": [
      "3\n",
      "  1\n",
      " 222\n",
      "33333\n",
      " 222\n",
      "  1\n"
     ]
    }
   ],
   "source": [
    "n = int(input())\n",
    "for i in range(1,n+1):\n",
    "    for s in range(n-i):\n",
    "        print(\" \",end='')\n",
    "    for j in range(1,i+1):\n",
    "        print(i,end='')\n",
    "    for j in range(i,1,-1):\n",
    "        print(i,end='')\n",
    "    print()\n",
    "for i in range(n-1,0,-1):\n",
    "    for s in range(n-i):\n",
    "        print(' ',end='')\n",
    "    for j in range(i,1,-1):\n",
    "        print(i,end='')       \n",
    "    for j in range(i):\n",
    "        print(i,end='')\n",
    "    print()\n",
    "    "
   ]
  },
  {
   "cell_type": "code",
   "execution_count": 1,
   "id": "562c8103",
   "metadata": {},
   "outputs": [
    {
     "name": "stdout",
     "output_type": "stream",
     "text": [
      "5\n",
      "     \n",
      "    5\n",
      "   545\n",
      "  54345\n",
      " 5432345\n",
      " 5432345\n",
      "  54345\n",
      "   545\n",
      "    5\n"
     ]
    }
   ],
   "source": [
    "n = int(input())\n",
    "for i in range(0,n):\n",
    "    for s in range(n-i):\n",
    "        print(' ',end='')\n",
    "    for j in range(n,n-i,-1):\n",
    "        print(j,end='')\n",
    "    for j in range(n-i+2,n+1):\n",
    "        print(j,end='')\n",
    "    print()\n",
    "for i in range(1,n):\n",
    "    for s in range(i):\n",
    "        print(' ',end='')\n",
    "    for j in range(n,i,-1):\n",
    "        print(j,end='')\n",
    "    for j in range(i+2,n+1):\n",
    "        print(j,end='')\n",
    "    print()"
   ]
  },
  {
   "cell_type": "code",
   "execution_count": 1,
   "id": "870ab969",
   "metadata": {},
   "outputs": [
    {
     "name": "stdout",
     "output_type": "stream",
     "text": [
      "  *\n",
      " ***\n",
      "*****\n",
      " ***\n",
      "  *\n"
     ]
    }
   ],
   "source": [
    "n = 5\n",
    "fr = (n+1)//2\n",
    "sn = n//2\n",
    "for i in range(1,fr+1):\n",
    "    print(' '*(fr-i),end='')\n",
    "    for j in range(2*i-1):\n",
    "        print(\"*\",end='')\n",
    "    print()\n",
    "for i in range(sn,0,-1):\n",
    "    print(' '*(sn-i+1),end='')\n",
    "    for j in range(2*i-1):\n",
    "        print('*',end='')\n",
    "    print()\n",
    "\n",
    "\n"
   ]
  },
  {
   "cell_type": "code",
   "execution_count": 13,
   "id": "8e124e77",
   "metadata": {},
   "outputs": [
    {
     "name": "stdout",
     "output_type": "stream",
     "text": [
      "0\n",
      "30\n",
      "0\n",
      "3\n",
      "6\n",
      "9\n",
      "12\n",
      "15\n",
      "18\n",
      "21\n",
      "24\n",
      "27\n",
      "30\n"
     ]
    }
   ],
   "source": [
    "a = int(input())\n",
    "b = int(input())\n",
    "if a%3==0:\n",
    "    s = a\n",
    "elif a%3 ==1:\n",
    "    s = a+2\n",
    "elif a == 0:\n",
    "    s = a+3\n",
    "else:\n",
    "    s = a+1\n",
    "for i in range(s,b+1,3):\n",
    "    print(i)"
   ]
  },
  {
   "cell_type": "code",
   "execution_count": 17,
   "id": "e9a30945",
   "metadata": {},
   "outputs": [
    {
     "name": "stdout",
     "output_type": "stream",
     "text": [
      "23\n",
      "Prime\n"
     ]
    }
   ],
   "source": [
    "n = int(input())\n",
    "flag = False\n",
    "for d in range(2,n,1):\n",
    "    if n%d==0:\n",
    "        flag = True\n",
    "        break\n",
    "if flag:\n",
    "    print(\"not prime\")\n",
    "else:\n",
    "    print(\"Prime\")"
   ]
  },
  {
   "cell_type": "code",
   "execution_count": 5,
   "id": "a524587b",
   "metadata": {},
   "outputs": [
    {
     "name": "stdout",
     "output_type": "stream",
     "text": [
      "     \n",
      "    1\n",
      "   232\n",
      "  34543\n",
      " 4567654\n",
      "567898765\n"
     ]
    }
   ],
   "source": [
    "num = 5\n",
    "for row in range(0, num+1,1):\n",
    "    for space in range(num-row):\n",
    "        print(' ',end='')\n",
    "    for rt_col in range(row,2*row,1):\n",
    "        print(rt_col,end='')\n",
    "    for lf_col in range(2*row-2,row-1,-1):\n",
    "        print(lf_col,end='')\n",
    "    print()"
   ]
  },
  {
   "cell_type": "code",
   "execution_count": 8,
   "id": "2cdb17db",
   "metadata": {},
   "outputs": [
    {
     "name": "stdout",
     "output_type": "stream",
     "text": [
      "1\n",
      "21\n",
      "321\n",
      "4321\n"
     ]
    }
   ],
   "source": [
    "n = 4\n",
    "for i in range(1,n+1):\n",
    "#     for s in range(n-i):\n",
    "#         print(' ',end='')\n",
    "    for j in range(i+1,1,-1):\n",
    "        print(j-1,end='')\n",
    "    print()"
   ]
  },
  {
   "cell_type": "code",
   "execution_count": 19,
   "id": "8f6737ca",
   "metadata": {},
   "outputs": [
    {
     "name": "stdout",
     "output_type": "stream",
     "text": [
      "Current variable value : 10\n",
      "Current variable value : 9\n",
      "Current variable value : 8\n",
      "Current variable value : 7\n",
      "Current variable value : 6\n",
      "Current variable value : 4\n",
      "Current variable value : 3\n",
      "Current variable value : 2\n",
      "Current variable value : 1\n",
      "Good bye!\n"
     ]
    }
   ],
   "source": [
    "for var in range(10,0,-1):\n",
    "   if var == 5:\n",
    "      continue\n",
    "   print('Current variable value :', var)\n",
    "print(\"Good bye!\")"
   ]
  },
  {
   "cell_type": "markdown",
   "id": "d7a5b1df",
   "metadata": {},
   "source": [
    "### Assignment 1"
   ]
  },
  {
   "cell_type": "markdown",
   "id": "4961cac9",
   "metadata": {},
   "source": [
    "#### Binary Number"
   ]
  },
  {
   "cell_type": "code",
   "execution_count": 4,
   "id": "947ee911",
   "metadata": {},
   "outputs": [
    {
     "name": "stdout",
     "output_type": "stream",
     "text": [
      "5\n",
      "11111\n",
      "0000\n",
      "111\n",
      "00\n",
      "1\n"
     ]
    }
   ],
   "source": [
    "n = int(input())\n",
    "for i in range(1,n+1):\n",
    "    for j in range(n+1,1,-1):\n",
    "        if i %2 == 0:\n",
    "            print(0,end='')\n",
    "        else:\n",
    "            print(1,end='')\n",
    "    print()\n",
    "    n -= 1"
   ]
  },
  {
   "cell_type": "markdown",
   "id": "a52a5901",
   "metadata": {},
   "source": [
    "#### Print Number Pyramid"
   ]
  },
  {
   "cell_type": "code",
   "execution_count": 5,
   "id": "ca8b721d",
   "metadata": {},
   "outputs": [
    {
     "name": "stdout",
     "output_type": "stream",
     "text": [
      "5\n",
      "12345\n",
      " 2345\n",
      "  345\n",
      "   45\n",
      "    5\n",
      "   45\n",
      "  345\n",
      " 2345\n",
      "12345\n"
     ]
    }
   ],
   "source": [
    "n = int(input())\n",
    "\n",
    "for i in range(1,n+1):\n",
    "    for s in range(i-1):\n",
    "        print(' ',end='')\n",
    "    for j in range(n-i+1):\n",
    "        print(j+i,end='')\n",
    "    print()\n",
    "\n",
    "for i in range(n,1,-1):\n",
    "    for s in range(i-2):\n",
    "        print(' ',end='')\n",
    "    j = n\n",
    "    k = 1\n",
    "    while j >=i-1:\n",
    "        print(i+k-2,end=\"\")\n",
    "        j=j-1\n",
    "        k=k+1\n",
    "    i=i-1\n",
    "    print()"
   ]
  },
  {
   "cell_type": "markdown",
   "id": "2bb6d529",
   "metadata": {},
   "source": [
    "#### Diamond Star"
   ]
  },
  {
   "cell_type": "code",
   "execution_count": 6,
   "id": "75db6d37",
   "metadata": {},
   "outputs": [
    {
     "name": "stdout",
     "output_type": "stream",
     "text": [
      "   *\n",
      "  ***\n",
      " *****\n",
      "*******\n",
      " *****\n",
      "  ***\n",
      "   *\n"
     ]
    }
   ],
   "source": [
    "num = 7\n",
    "first = (num+1)//2\n",
    "sec = first-1\n",
    "for i in range(1,first+1):\n",
    "    for s in range(first-i):\n",
    "        print(' ',end='')\n",
    "    for j in range(2*i-1):\n",
    "        print(\"*\",end='')\n",
    "    print()\n",
    "i = sec\n",
    "for i in range(sec,0,-1):\n",
    "    s= 1\n",
    "    while s<= sec-i+1:\n",
    "        print(' ',end='')\n",
    "        s +=1\n",
    "    for j in range(2*i-1):\n",
    "        print(\"*\",end='')\n",
    "    print()\n",
    "   "
   ]
  },
  {
   "cell_type": "code",
   "execution_count": 2,
   "id": "319e9d0f",
   "metadata": {},
   "outputs": [
    {
     "name": "stdout",
     "output_type": "stream",
     "text": [
      "4\n",
      "4444444\n",
      "4333334\n",
      "4322234\n",
      "4321234\n",
      "4322234\n",
      "4333334\n",
      "4444444\n"
     ]
    }
   ],
   "source": [
    "a=int(input())\n",
    "for i in range(2*a-1):\n",
    "    for j in range(2*a-1):\n",
    "        print(max(abs(a-1-i),abs(a-1-j))+1,end=\"\")\n",
    "    print()"
   ]
  },
  {
   "cell_type": "code",
   "execution_count": 3,
   "id": "5c1d71fa",
   "metadata": {},
   "outputs": [
    {
     "name": "stdout",
     "output_type": "stream",
     "text": [
      "1 2 3 4 \n",
      "9 10 11 12 \n",
      "13 14 15 16 \n",
      "5 6 7 8 \n"
     ]
    }
   ],
   "source": [
    "n = 4\n",
    "\n",
    "for i in range(n//2):\n",
    "\n",
    "    for j in range(1, n+1):\n",
    "\n",
    "        print(n*2*i+j, end=\" \")\n",
    "\n",
    "    print()\n",
    "\n",
    "for i in range(n//2, 0, -1):\n",
    "\n",
    "    for j in range(1, n+1):\n",
    "\n",
    "        print(n*(2*i-1) + j, end=\" \")\n",
    "\n",
    "    print()\n"
   ]
  },
  {
   "cell_type": "markdown",
   "id": "a8dd289a",
   "metadata": {},
   "source": [
    "#### Box Pattern"
   ]
  },
  {
   "cell_type": "code",
   "execution_count": 2,
   "id": "3268cf6a",
   "metadata": {},
   "outputs": [
    {
     "name": "stdout",
     "output_type": "stream",
     "text": [
      "8\n",
      "20\n",
      "* * * * * * * * * * * * * * * * * * * * \n",
      "*                                     * \n",
      "*                                     * \n",
      "*                                     * \n",
      "*                                     * \n",
      "*                                     * \n",
      "*                                     * \n",
      "* * * * * * * * * * * * * * * * * * * * \n"
     ]
    }
   ],
   "source": [
    "row = int(input())\n",
    "col = int(input())\n",
    "for i in range(row):\n",
    "    for j in range(col):\n",
    "        if i == 0 or i == row - 1 or j == 0 or j == col-1:\n",
    "            print('*',end=' ')\n",
    "        else:\n",
    "            print(' ',end=' ')\n",
    "    print()"
   ]
  }
 ],
 "metadata": {
  "kernelspec": {
   "display_name": "Python 3 (ipykernel)",
   "language": "python",
   "name": "python3"
  },
  "language_info": {
   "codemirror_mode": {
    "name": "ipython",
    "version": 3
   },
   "file_extension": ".py",
   "mimetype": "text/x-python",
   "name": "python",
   "nbconvert_exporter": "python",
   "pygments_lexer": "ipython3",
   "version": "3.9.12"
  }
 },
 "nbformat": 4,
 "nbformat_minor": 5
}
