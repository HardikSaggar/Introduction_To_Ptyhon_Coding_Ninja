{
 "cells": [
  {
   "cell_type": "markdown",
   "id": "32f5b429",
   "metadata": {},
   "source": [
    "#### Linear Search"
   ]
  },
  {
   "cell_type": "code",
   "execution_count": 1,
   "id": "b1ae336c",
   "metadata": {},
   "outputs": [
    {
     "name": "stdout",
     "output_type": "stream",
     "text": [
      "5\n",
      "1\n"
     ]
    }
   ],
   "source": [
    "def linear_search(arr,n,x):\n",
    "    for i in range(n):\n",
    "        if arr[i]==x:\n",
    "            return i\n",
    "        \n",
    "    return -1\n",
    "arr = [1,5,7,8,9]\n",
    "n = len(arr)\n",
    "x = int(input())\n",
    "search = linear_search(arr,n,x)\n",
    "print(search)"
   ]
  },
  {
   "cell_type": "markdown",
   "id": "1e79a374",
   "metadata": {},
   "source": [
    "#### Binary Search"
   ]
  },
  {
   "cell_type": "code",
   "execution_count": 1,
   "id": "a9714f7b",
   "metadata": {},
   "outputs": [
    {
     "name": "stdout",
     "output_type": "stream",
     "text": [
      "2\n"
     ]
    }
   ],
   "source": [
    "def binary_search(arr,n,x):\n",
    "    start = 0\n",
    "    end = n-1\n",
    "    while start<=end:\n",
    "        mid = (start+end-1)//2\n",
    "        if arr[mid]<x:\n",
    "            start=mid+1\n",
    "        elif arr[mid]>x:\n",
    "            end = mid-1\n",
    "        else:\n",
    "            return mid\n",
    "    return -1\n",
    "arr = [1,3,5,7,10,12,19]\n",
    "n = len(arr)\n",
    "x = 5\n",
    "result = binary_search(arr,n,x)\n",
    "print(result)"
   ]
  },
  {
   "cell_type": "code",
   "execution_count": 5,
   "id": "7c27e8e7",
   "metadata": {},
   "outputs": [
    {
     "name": "stdout",
     "output_type": "stream",
     "text": [
      "(9, 11)\n"
     ]
    }
   ],
   "source": [
    "def binarySearch(arr, n, x) :\n",
    "    #Your codegoes here\n",
    "    first = -1\n",
    "    last = -1\n",
    "    for i in range(0,n):\n",
    "        if x!=arr[i]:\n",
    "            continue\n",
    "        if first ==-1:\n",
    "            first = i\n",
    "        last = i    \n",
    "    if first != -1:\n",
    "        return first,last\n",
    "   \n",
    "\n",
    "\n",
    "arr =[1, 2, 2, 3, 3, 3, 4, 8, 9, 19, 19, 19]\n",
    "x = 19\n",
    "n = len(arr)\n",
    "a = binarySearch(arr,n,x)\n",
    "print(a)\n"
   ]
  },
  {
   "cell_type": "markdown",
   "id": "2674444f",
   "metadata": {},
   "source": [
    "#### Selection Sort"
   ]
  },
  {
   "cell_type": "code",
   "execution_count": 3,
   "id": "e715746b",
   "metadata": {},
   "outputs": [
    {
     "name": "stdout",
     "output_type": "stream",
     "text": [
      "Sorted Array in Ascending Order: \n",
      "[2, 10, 12, 15, 20]\n"
     ]
    }
   ],
   "source": [
    "# Selection sort in Python\n",
    "def selectionSort (arr, n):\n",
    "    for i in range(n-1):\n",
    "        min = i\n",
    "        for j in range(i+1,n):\n",
    "            if arr[min]>arr[j]:\n",
    "                min = j\n",
    "        arr[min],arr[i]=arr[i],arr[min]\n",
    "input = [ 20, 10, 12, 15, 2 ]\n",
    "n = len(input)\n",
    "selectionSort(input, n)\n",
    "print( 'Sorted Array in Ascending Order: ' )\n",
    "print(input)"
   ]
  },
  {
   "cell_type": "markdown",
   "id": "915fcd4c",
   "metadata": {},
   "source": [
    "#### Bubble Sort"
   ]
  },
  {
   "cell_type": "code",
   "execution_count": 4,
   "id": "ed88ca8c",
   "metadata": {},
   "outputs": [
    {
     "name": "stdout",
     "output_type": "stream",
     "text": [
      "[0, 2, 2, 4, 6, 9]\n"
     ]
    }
   ],
   "source": [
    "def bubbleSort(arr, n) :\n",
    "    for i in range(0,n):\n",
    "        sorted = True\n",
    "        for j in range(0,n-i-1):\n",
    "            if arr[j]>arr[j+1]:\n",
    "                temp = arr[j]\n",
    "                arr[j]=arr[j+1]\n",
    "                arr[j+1]=temp\n",
    "                sorted=False \n",
    "    if sorted:\n",
    "        return arr\n",
    "    \n",
    "arr = [6,4,2,9,0,2]\n",
    "n = len(arr)\n",
    "    \n",
    "x = bubbleSort(arr,n)\n",
    "print(x)"
   ]
  },
  {
   "cell_type": "markdown",
   "id": "d2ac760d",
   "metadata": {},
   "source": [
    "#### Insertion Sort"
   ]
  },
  {
   "cell_type": "code",
   "execution_count": 20,
   "id": "69bb65a7",
   "metadata": {},
   "outputs": [
    {
     "name": "stdout",
     "output_type": "stream",
     "text": [
      "[1, 2, 4, 4, 4, 6, 6, 8]\n"
     ]
    }
   ],
   "source": [
    "arr = [5,4,3,2,0]\n",
    "n = len(arr)\n",
    "for i in range(n):\n",
    "    j = i-1\n",
    "    \n",
    "    while j>=0:\n",
    "        if arr[i]<arr[j]:\n",
    "            j=-1\n",
    "        temp = arr[i]\n",
    "        k = i\n",
    "        while k>j+1:\n",
    "            arr[k]=arr[k-1]\n",
    "            k-=1\n",
    "        arr[k]=temp\n",
    "print(arr)"
   ]
  },
  {
   "cell_type": "markdown",
   "id": "c0c22171",
   "metadata": {},
   "source": [
    "#### Merge Sort"
   ]
  },
  {
   "cell_type": "code",
   "execution_count": 5,
   "id": "3f6a1e30",
   "metadata": {},
   "outputs": [
    {
     "name": "stdout",
     "output_type": "stream",
     "text": [
      "[0, 1, 2, 4, 5, 9]\n"
     ]
    }
   ],
   "source": [
    "def mergesort(arr):\n",
    "\n",
    "    if len(arr)>1:\n",
    "        mid = len(arr)//2\n",
    "        l = arr[:mid]\n",
    "        r = arr[mid:]\n",
    "        mergesort(l)\n",
    "        mergesort(r)\n",
    "        i=j=k=0\n",
    "        while i < len(l) and j< len(r):\n",
    "            if l[i] <= r[j]:\n",
    "                arr[k]=l[i]\n",
    "                i+=1\n",
    "            else:\n",
    "                arr[k] = r[j]\n",
    "                j+=1\n",
    "            k+=1\n",
    "\n",
    "        while i<len(l):\n",
    "            arr[k]=l[i]\n",
    "            i+=1\n",
    "            k+=1\n",
    "        while j<len(r):\n",
    "            arr[k]=r[j]\n",
    "            j+=1\n",
    "            k+=1\n",
    "arr = [2,4,1,5,9,0]\n",
    "n = len(arr)\n",
    "mergesort(arr)\n",
    "print(arr)"
   ]
  },
  {
   "cell_type": "code",
   "execution_count": 18,
   "id": "3cacabcb",
   "metadata": {},
   "outputs": [
    {
     "name": "stdout",
     "output_type": "stream",
     "text": [
      "[0, 0, 3, 5, 5, 6, 8, 9, 10, 30]\n"
     ]
    }
   ],
   "source": [
    "def mergeSort(a1,a2,n,m):\n",
    "    i,j= 0, 0\n",
    "    new = []\n",
    "    while i<n and j<m:\n",
    "        if a1[i] < a2[j]:\n",
    "            new.append(a1[i])\n",
    "            i+=1\n",
    "        else:\n",
    "            new.append(a2[j])\n",
    "            j+=1\n",
    "    while i<n:\n",
    "        new.append(a1[i])\n",
    "        i+=1\n",
    "    while j<m:\n",
    "        new.append(a2[j])\n",
    "        j+=1\n",
    "    return new\n",
    "a1 = [0,3,5,6,8]\n",
    "a2 = [0,5,9,10,30]\n",
    "n = len(a1)\n",
    "m = len(a2)\n",
    "\n",
    "print(mergeSort(a1,a2,n,m))\n",
    "    "
   ]
  },
  {
   "cell_type": "markdown",
   "id": "32f75f9a",
   "metadata": {},
   "source": [
    "## Assigment 6"
   ]
  },
  {
   "cell_type": "markdown",
   "id": "abc0e267",
   "metadata": {},
   "source": [
    "#### Push Zeros"
   ]
  },
  {
   "cell_type": "code",
   "execution_count": 22,
   "id": "5c37ca3e",
   "metadata": {},
   "outputs": [
    {
     "name": "stdout",
     "output_type": "stream",
     "text": [
      "[1, 5, 4, 3, 9, 0, 0, 0, 0, 0]\n"
     ]
    }
   ],
   "source": [
    "def pushZerosAtEnd(arr, n) :\n",
    "    a=arr.copy()\n",
    "    j=0\n",
    "    for i in range(n):\n",
    "        if a[i] !=0:\n",
    "            arr[j]=a[i]\n",
    "            j+=1\n",
    "    while j<n:\n",
    "        arr[j]=0\n",
    "        j+=1\n",
    "    return arr\n",
    "arr = [1,5,0,4,0,3,0,0,9,0]\n",
    "n = len(arr)\n",
    "print(pushZerosAtEnd(arr,n))"
   ]
  },
  {
   "cell_type": "markdown",
   "id": "858fab4e",
   "metadata": {},
   "source": [
    "#### Rotate Array"
   ]
  },
  {
   "cell_type": "code",
   "execution_count": 10,
   "id": "641bbc43",
   "metadata": {},
   "outputs": [
    {
     "name": "stdout",
     "output_type": "stream",
     "text": [
      "[11, 12, 17, 22, 26, 30, 33, 38, 1, 3, 6]\n"
     ]
    }
   ],
   "source": [
    "def rotate(arr, n, d):\n",
    "    \n",
    "    t=arr[0:d]\n",
    "    i=0\n",
    "    j=d\n",
    "    while j<n:\n",
    "        arr[i]=arr[j]\n",
    "        i+=1\n",
    "        j+=1\n",
    "    for k in range(len(t)):\n",
    "        arr[i]=t[k]\n",
    "        i+=1\n",
    "    return arr\n",
    "arr = [1,3,6,11,12,17,22,26,30,33,38]\n",
    "n = len(arr)\n",
    "d = 3\n",
    "print(rotate(arr,n,d))"
   ]
  },
  {
   "cell_type": "markdown",
   "id": "88b35403",
   "metadata": {},
   "source": [
    "#### Second Largest"
   ]
  },
  {
   "cell_type": "code",
   "execution_count": 7,
   "id": "fe032476",
   "metadata": {},
   "outputs": [
    {
     "name": "stdout",
     "output_type": "stream",
     "text": [
      "9\n"
     ]
    }
   ],
   "source": [
    "min = -2147483648 \n",
    "def secondLargestElement(arr, n):\n",
    "    if n == 0 : \n",
    "        return min\n",
    "    l = arr[0] \n",
    "    sl = min \n",
    "    for i in range(n) : \n",
    "        if l < arr[i] : \n",
    "            sl = l \n",
    "            l = arr[i]\n",
    "        elif sl < arr[i] and arr[i] != l :\n",
    "            sl = arr[i] \n",
    "    return sl\n",
    "arr = [8,9,9,1,7,5,5,10,1,0,7]\n",
    "n = len(arr)\n",
    "print(secondLargestElement(arr,n)) \n"
   ]
  },
  {
   "cell_type": "markdown",
   "id": "22b8505d",
   "metadata": {},
   "source": [
    "#### Check Rotation"
   ]
  },
  {
   "cell_type": "code",
   "execution_count": 2,
   "id": "bd7c1dce",
   "metadata": {},
   "outputs": [
    {
     "name": "stdout",
     "output_type": "stream",
     "text": [
      "4\n"
     ]
    }
   ],
   "source": [
    "def arrayRotateCheck(arr, n):\n",
    "    #Your code goes here\n",
    "    for i in range(n-1):\n",
    "        if arr[i]>arr[i+1]:\n",
    "            return i+1\n",
    "    return 0      \n",
    "arr = [26,30,33,38,1,3,6,11,12,17,22]\n",
    "n = len(arr)\n",
    "print(arrayRotateCheck(arr,n)) \n"
   ]
  },
  {
   "cell_type": "markdown",
   "id": "0770c4e8",
   "metadata": {},
   "source": [
    "#### Sum of two array"
   ]
  },
  {
   "cell_type": "code",
   "execution_count": 8,
   "id": "8ad8b899",
   "metadata": {},
   "outputs": [
    {
     "name": "stdout",
     "output_type": "stream",
     "text": [
      "[0, 2, 1, 4, 2]\n"
     ]
    }
   ],
   "source": [
    "from sys import stdin\n",
    "\n",
    "def sumOfTwoArrays(arr1, n, arr2, m, output) :\n",
    "    #Your code goes here\n",
    "    i=n-1\n",
    "    j=m-1\n",
    "    carry=0\n",
    "    l=max(n,m)+1\n",
    "    while i>=0 and j>=0:\n",
    "        num=arr1[i]+arr2[j]+carry\n",
    "        s=num%10\n",
    "        carry=num//10\n",
    "        output[l-1]=s\n",
    "        l=l-1\n",
    "        i=i-1\n",
    "        j=j-1\n",
    "    while i>=0:\n",
    "        num=arr1[i]+carry\n",
    "        s=num%10\n",
    "        carry=num//10\n",
    "        output[l-1]=s\n",
    "        l=l-1\n",
    "        i=i-1\n",
    "    while j>=0:\n",
    "        num=arr2[j]+carry\n",
    "        s=num%10\n",
    "        carry=num//10\n",
    "        output[l-1]=s\n",
    "        l=l-1\n",
    "        j=j-1\n",
    "    if carry!=0:\n",
    "        output[0]=carry\n",
    "\n",
    "    return output\n",
    "        \n",
    "arr1 = [1,2,3,1]\n",
    "arr2 = [0,9,1,1]\n",
    "n = len(arr1)\n",
    "m = len(arr2)\n",
    "outputSize = (1 + max(n, m))\n",
    "output = outputSize * [0]\n",
    "print(sumOfTwoArrays(arr1,n,arr2,m,output))"
   ]
  },
  {
   "cell_type": "code",
   "execution_count": null,
   "id": "207f19f3",
   "metadata": {},
   "outputs": [],
   "source": []
  }
 ],
 "metadata": {
  "kernelspec": {
   "display_name": "Python 3 (ipykernel)",
   "language": "python",
   "name": "python3"
  },
  "language_info": {
   "codemirror_mode": {
    "name": "ipython",
    "version": 3
   },
   "file_extension": ".py",
   "mimetype": "text/x-python",
   "name": "python",
   "nbconvert_exporter": "python",
   "pygments_lexer": "ipython3",
   "version": "3.9.12"
  }
 },
 "nbformat": 4,
 "nbformat_minor": 5
}
